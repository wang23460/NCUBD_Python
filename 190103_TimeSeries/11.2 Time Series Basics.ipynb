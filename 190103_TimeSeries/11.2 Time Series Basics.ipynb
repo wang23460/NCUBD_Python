{
 "cells": [
  {
   "cell_type": "markdown",
   "metadata": {},
   "source": [
    "# Time Series"
   ]
  },
  {
   "cell_type": "code",
   "execution_count": 1,
   "metadata": {},
   "outputs": [],
   "source": [
    "import numpy as np\n",
    "import pandas as pd"
   ]
  },
  {
   "cell_type": "code",
   "execution_count": 3,
   "metadata": {},
   "outputs": [
    {
     "name": "stdout",
     "output_type": "stream",
     "text": [
      "This year's Christmas is on a Wednesday\n",
      "Next new year is on a Wednesday\n"
     ]
    }
   ],
   "source": [
    "# import Python's datetime module\n",
    "\n",
    "import datetime\n",
    "\n",
    " \n",
    "\n",
    "# weekdays as a tuple\n",
    "\n",
    "weekDays = (\"Monday\",\"Tuesday\",\"Wednesday\",\"Thursday\",\"Friday\",\"Saturday\",\"Sunday\")\n",
    "\n",
    " \n",
    "\n",
    "# Find out what day of the week is this year's Christmas\n",
    "\n",
    " \n",
    "\n",
    "thisXMas    = datetime.date(2019,12,25)\n",
    "\n",
    "thisXMasDay = thisXMas.weekday()\n",
    "\n",
    "thisXMasDayAsString = weekDays[thisXMasDay]\n",
    "\n",
    " \n",
    "\n",
    "print(\"This year's Christmas is on a {}\".format(thisXMasDayAsString))\n",
    "\n",
    " \n",
    "\n",
    "# Find out what day of the week next new year is\n",
    "\n",
    "nextNewYear     = datetime.date(2020,1,1)\n",
    "\n",
    "nextNewYearDay  = nextNewYear.weekday()\n",
    "\n",
    "nextNewYearDayAsString = weekDays[nextNewYearDay]\n",
    "\n",
    " \n",
    "\n",
    "print(\"Next new year is on a {}\".format(nextNewYearDayAsString))"
   ]
  },
  {
   "cell_type": "markdown",
   "metadata": {},
   "source": [
    "## Time Series Basics"
   ]
  },
  {
   "cell_type": "code",
   "execution_count": 2,
   "metadata": {},
   "outputs": [
    {
     "data": {
      "text/plain": [
       "2011-01-02   -0.204708\n",
       "2011-01-05    0.478943\n",
       "2011-01-07   -0.519439\n",
       "2011-01-08   -0.555730\n",
       "2011-01-10    1.965781\n",
       "2011-01-12    1.393406\n",
       "dtype: float64"
      ]
     },
     "execution_count": 2,
     "metadata": {},
     "output_type": "execute_result"
    }
   ],
   "source": [
    "from datetime import datetime\n",
    "np.random.seed(12345)\n",
    "dates = [datetime(2011, 1, 2), datetime(2011, 1, 5),\n",
    "         datetime(2011, 1, 7), datetime(2011, 1, 8),\n",
    "         datetime(2011, 1, 10), datetime(2011, 1, 12)]\n",
    "ts = pd.Series(np.random.randn(6), index=dates)\n",
    "ts"
   ]
  },
  {
   "cell_type": "code",
   "execution_count": 3,
   "metadata": {},
   "outputs": [
    {
     "data": {
      "text/plain": [
       "DatetimeIndex(['2011-01-02', '2011-01-05', '2011-01-07', '2011-01-08',\n",
       "               '2011-01-10', '2011-01-12'],\n",
       "              dtype='datetime64[ns]', freq=None)"
      ]
     },
     "execution_count": 3,
     "metadata": {},
     "output_type": "execute_result"
    }
   ],
   "source": [
    "ts.index"
   ]
  },
  {
   "cell_type": "code",
   "execution_count": 4,
   "metadata": {},
   "outputs": [
    {
     "data": {
      "text/plain": [
       "2011-01-02   -0.204708\n",
       "2011-01-05    0.478943\n",
       "2011-01-07   -0.519439\n",
       "2011-01-08   -0.555730\n",
       "2011-01-10    1.965781\n",
       "2011-01-12    1.393406\n",
       "dtype: float64"
      ]
     },
     "execution_count": 4,
     "metadata": {},
     "output_type": "execute_result"
    }
   ],
   "source": [
    "ts"
   ]
  },
  {
   "cell_type": "code",
   "execution_count": 6,
   "metadata": {},
   "outputs": [
    {
     "data": {
      "text/plain": [
       "2011-01-02   -0.204708\n",
       "2011-01-07   -0.519439\n",
       "2011-01-10    1.965781\n",
       "dtype: float64"
      ]
     },
     "execution_count": 6,
     "metadata": {},
     "output_type": "execute_result"
    }
   ],
   "source": [
    "ts[::2]\n",
    "#間隔為2"
   ]
  },
  {
   "cell_type": "code",
   "execution_count": 7,
   "metadata": {},
   "outputs": [
    {
     "data": {
      "text/plain": [
       "2011-01-02   -0.409415\n",
       "2011-01-05         NaN\n",
       "2011-01-07   -1.038877\n",
       "2011-01-08         NaN\n",
       "2011-01-10    3.931561\n",
       "2011-01-12         NaN\n",
       "dtype: float64"
      ]
     },
     "execution_count": 7,
     "metadata": {},
     "output_type": "execute_result"
    }
   ],
   "source": [
    "ts+ts[::2]"
   ]
  },
  {
   "cell_type": "code",
   "execution_count": 7,
   "metadata": {},
   "outputs": [
    {
     "data": {
      "text/plain": [
       "dtype('<M8[ns]')"
      ]
     },
     "execution_count": 7,
     "metadata": {},
     "output_type": "execute_result"
    }
   ],
   "source": [
    "ts.index.dtype"
   ]
  },
  {
   "cell_type": "code",
   "execution_count": 8,
   "metadata": {},
   "outputs": [
    {
     "data": {
      "text/plain": [
       "Timestamp('2011-01-02 00:00:00')"
      ]
     },
     "execution_count": 8,
     "metadata": {},
     "output_type": "execute_result"
    }
   ],
   "source": [
    " ts.index[0]"
   ]
  },
  {
   "cell_type": "code",
   "execution_count": 9,
   "metadata": {},
   "outputs": [
    {
     "data": {
      "text/plain": [
       "Timestamp('2011-01-02 00:00:00')"
      ]
     },
     "execution_count": 9,
     "metadata": {},
     "output_type": "execute_result"
    }
   ],
   "source": [
    "stamp = ts.index[0]\n",
    "stamp"
   ]
  },
  {
   "cell_type": "markdown",
   "metadata": {},
   "source": [
    "### Indexing, Selection, Subsetting\n",
    "可以用這些方式來找value"
   ]
  },
  {
   "cell_type": "code",
   "execution_count": 10,
   "metadata": {},
   "outputs": [
    {
     "data": {
      "text/plain": [
       "-0.5194387150567381"
      ]
     },
     "execution_count": 10,
     "metadata": {},
     "output_type": "execute_result"
    }
   ],
   "source": [
    "stamp = ts.index[2]\n",
    "ts[stamp]\n",
    "# stamp"
   ]
  },
  {
   "cell_type": "code",
   "execution_count": 11,
   "metadata": {},
   "outputs": [
    {
     "data": {
      "text/plain": [
       "1.9657805725027142"
      ]
     },
     "execution_count": 11,
     "metadata": {},
     "output_type": "execute_result"
    }
   ],
   "source": [
    "ts['1/10/2011']\n",
    "#As a convenience, you can also pass a string that is interpretable as a date:"
   ]
  },
  {
   "cell_type": "code",
   "execution_count": 12,
   "metadata": {},
   "outputs": [
    {
     "data": {
      "text/plain": [
       "1.9657805725027142"
      ]
     },
     "execution_count": 12,
     "metadata": {},
     "output_type": "execute_result"
    }
   ],
   "source": [
    "ts['20110110']"
   ]
  },
  {
   "cell_type": "code",
   "execution_count": 13,
   "metadata": {},
   "outputs": [
    {
     "data": {
      "text/plain": [
       "2019-01-01    0.092908\n",
       "2019-01-02    0.281746\n",
       "2019-01-03    0.769023\n",
       "2019-01-04    1.246435\n",
       "2019-01-05    1.007189\n",
       "2019-01-06   -1.296221\n",
       "2019-01-07    0.274992\n",
       "2019-01-08    0.228913\n",
       "2019-01-09    1.352917\n",
       "2019-01-10    0.886429\n",
       "2019-01-11   -2.001637\n",
       "2019-01-12   -0.371843\n",
       "2019-01-13    1.669025\n",
       "2019-01-14   -0.438570\n",
       "2019-01-15   -0.539741\n",
       "2019-01-16    0.476985\n",
       "2019-01-17    3.248944\n",
       "2019-01-18   -1.021228\n",
       "2019-01-19   -0.577087\n",
       "2019-01-20    0.124121\n",
       "2019-01-21    0.302614\n",
       "2019-01-22    0.523772\n",
       "2019-01-23    0.000940\n",
       "2019-01-24    1.343810\n",
       "2019-01-25   -0.713544\n",
       "2019-01-26   -0.831154\n",
       "2019-01-27   -2.370232\n",
       "2019-01-28   -1.860761\n",
       "2019-01-29   -0.860757\n",
       "2019-01-30    0.560145\n",
       "2019-01-31   -1.265934\n",
       "2019-02-01    0.119827\n",
       "2019-02-02   -1.063512\n",
       "2019-02-03    0.332883\n",
       "2019-02-04   -2.359419\n",
       "2019-02-05   -0.199543\n",
       "2019-02-06   -1.541996\n",
       "2019-02-07   -0.970736\n",
       "2019-02-08   -1.307030\n",
       "2019-02-09    0.286350\n",
       "Freq: D, dtype: float64"
      ]
     },
     "execution_count": 13,
     "metadata": {},
     "output_type": "execute_result"
    }
   ],
   "source": [
    "longer_ts = pd.Series(np.random.randn(100),\n",
    "                      index=pd.date_range('1/1/2019', periods=100))\n",
    "longer_ts[:40]\n"
   ]
  },
  {
   "cell_type": "code",
   "execution_count": 14,
   "metadata": {},
   "outputs": [
    {
     "data": {
      "text/plain": [
       "2019-01-01    0.092908\n",
       "2019-01-02    0.281746\n",
       "2019-01-03    0.769023\n",
       "2019-01-04    1.246435\n",
       "2019-01-05    1.007189\n",
       "2019-01-06   -1.296221\n",
       "2019-01-07    0.274992\n",
       "2019-01-08    0.228913\n",
       "2019-01-09    1.352917\n",
       "2019-01-10    0.886429\n",
       "2019-01-11   -2.001637\n",
       "2019-01-12   -0.371843\n",
       "2019-01-13    1.669025\n",
       "2019-01-14   -0.438570\n",
       "2019-01-15   -0.539741\n",
       "2019-01-16    0.476985\n",
       "2019-01-17    3.248944\n",
       "2019-01-18   -1.021228\n",
       "2019-01-19   -0.577087\n",
       "2019-01-20    0.124121\n",
       "2019-01-21    0.302614\n",
       "2019-01-22    0.523772\n",
       "2019-01-23    0.000940\n",
       "2019-01-24    1.343810\n",
       "2019-01-25   -0.713544\n",
       "2019-01-26   -0.831154\n",
       "2019-01-27   -2.370232\n",
       "2019-01-28   -1.860761\n",
       "2019-01-29   -0.860757\n",
       "2019-01-30    0.560145\n",
       "2019-01-31   -1.265934\n",
       "Freq: D, dtype: float64"
      ]
     },
     "execution_count": 14,
     "metadata": {},
     "output_type": "execute_result"
    }
   ],
   "source": [
    "#列出所有20\n",
    "longer_ts['2019-01']"
   ]
  },
  {
   "cell_type": "code",
   "execution_count": 15,
   "metadata": {},
   "outputs": [
    {
     "data": {
      "text/plain": [
       "2019-01-01    0.092908\n",
       "2019-01-02    0.281746\n",
       "2019-01-03    0.769023\n",
       "2019-01-04    1.246435\n",
       "2019-01-05    1.007189\n",
       "2019-01-06   -1.296221\n",
       "2019-01-07    0.274992\n",
       "2019-01-08    0.228913\n",
       "2019-01-09    1.352917\n",
       "2019-01-10    0.886429\n",
       "2019-01-11   -2.001637\n",
       "2019-01-12   -0.371843\n",
       "2019-01-13    1.669025\n",
       "2019-01-14   -0.438570\n",
       "2019-01-15   -0.539741\n",
       "2019-01-16    0.476985\n",
       "2019-01-17    3.248944\n",
       "2019-01-18   -1.021228\n",
       "2019-01-19   -0.577087\n",
       "2019-01-20    0.124121\n",
       "2019-01-21    0.302614\n",
       "2019-01-22    0.523772\n",
       "2019-01-23    0.000940\n",
       "2019-01-24    1.343810\n",
       "2019-01-25   -0.713544\n",
       "2019-01-26   -0.831154\n",
       "2019-01-27   -2.370232\n",
       "2019-01-28   -1.860761\n",
       "2019-01-29   -0.860757\n",
       "2019-01-30    0.560145\n",
       "                ...   \n",
       "2019-03-12   -0.622274\n",
       "2019-03-13   -0.921169\n",
       "2019-03-14   -0.726213\n",
       "2019-03-15    0.222896\n",
       "2019-03-16    0.051316\n",
       "2019-03-17   -1.157719\n",
       "2019-03-18    0.816707\n",
       "2019-03-19    0.433610\n",
       "2019-03-20    1.010737\n",
       "2019-03-21    1.824875\n",
       "2019-03-22   -0.997518\n",
       "2019-03-23    0.850591\n",
       "2019-03-24   -0.131578\n",
       "2019-03-25    0.912414\n",
       "2019-03-26    0.188211\n",
       "2019-03-27    2.169461\n",
       "2019-03-28   -0.114928\n",
       "2019-03-29    2.003697\n",
       "2019-03-30    0.029610\n",
       "2019-03-31    0.795253\n",
       "2019-04-01    0.118110\n",
       "2019-04-02   -0.748532\n",
       "2019-04-03    0.584970\n",
       "2019-04-04    0.152677\n",
       "2019-04-05   -1.565657\n",
       "2019-04-06   -0.562540\n",
       "2019-04-07   -0.032664\n",
       "2019-04-08   -0.929006\n",
       "2019-04-09   -0.482573\n",
       "2019-04-10   -0.036264\n",
       "Freq: D, Length: 100, dtype: float64"
      ]
     },
     "execution_count": 15,
     "metadata": {},
     "output_type": "execute_result"
    }
   ],
   "source": [
    "longer_ts['2019']"
   ]
  },
  {
   "cell_type": "code",
   "execution_count": 16,
   "metadata": {},
   "outputs": [
    {
     "data": {
      "text/plain": [
       "2011-01-07   -0.519439\n",
       "2011-01-08   -0.555730\n",
       "2011-01-10    1.965781\n",
       "2011-01-12    1.393406\n",
       "dtype: float64"
      ]
     },
     "execution_count": 16,
     "metadata": {},
     "output_type": "execute_result"
    }
   ],
   "source": [
    "#某段時間開始後的所有時間\n",
    "ts[datetime(2011, 1, 7):]"
   ]
  },
  {
   "cell_type": "code",
   "execution_count": 17,
   "metadata": {},
   "outputs": [
    {
     "data": {
      "text/plain": [
       "2011-01-02   -0.204708\n",
       "2011-01-05    0.478943\n",
       "2011-01-07   -0.519439\n",
       "2011-01-08   -0.555730\n",
       "2011-01-10    1.965781\n",
       "2011-01-12    1.393406\n",
       "dtype: float64"
      ]
     },
     "execution_count": 17,
     "metadata": {},
     "output_type": "execute_result"
    }
   ],
   "source": [
    "ts"
   ]
  },
  {
   "cell_type": "code",
   "execution_count": 18,
   "metadata": {},
   "outputs": [
    {
     "data": {
      "text/plain": [
       "2011-01-07   -0.519439\n",
       "2011-01-08   -0.555730\n",
       "2011-01-10    1.965781\n",
       "dtype: float64"
      ]
     },
     "execution_count": 18,
     "metadata": {},
     "output_type": "execute_result"
    }
   ],
   "source": [
    "ts['1/6/2011':'1/11/2011']"
   ]
  },
  {
   "cell_type": "code",
   "execution_count": 31,
   "metadata": {},
   "outputs": [
    {
     "data": {
      "text/plain": [
       "2011-01-02   -0.204708\n",
       "2011-01-05    0.478943\n",
       "2011-01-07   -0.519439\n",
       "dtype: float64"
      ]
     },
     "execution_count": 31,
     "metadata": {},
     "output_type": "execute_result"
    }
   ],
   "source": [
    "#截掉 after='1/7/2011'以後的index value\n",
    "ts.truncate(after='1/7/2011')"
   ]
  },
  {
   "cell_type": "code",
   "execution_count": 32,
   "metadata": {},
   "outputs": [
    {
     "data": {
      "text/html": [
       "<div>\n",
       "<style scoped>\n",
       "    .dataframe tbody tr th:only-of-type {\n",
       "        vertical-align: middle;\n",
       "    }\n",
       "\n",
       "    .dataframe tbody tr th {\n",
       "        vertical-align: top;\n",
       "    }\n",
       "\n",
       "    .dataframe thead th {\n",
       "        text-align: right;\n",
       "    }\n",
       "</style>\n",
       "<table border=\"1\" class=\"dataframe\">\n",
       "  <thead>\n",
       "    <tr style=\"text-align: right;\">\n",
       "      <th></th>\n",
       "      <th>Taiwan</th>\n",
       "      <th>Japan</th>\n",
       "      <th>New York</th>\n",
       "      <th>Hong Kong</th>\n",
       "    </tr>\n",
       "  </thead>\n",
       "  <tbody>\n",
       "    <tr>\n",
       "      <th>2019-01-03</th>\n",
       "      <td>0.153881</td>\n",
       "      <td>-0.274084</td>\n",
       "      <td>-1.784926</td>\n",
       "      <td>0.981007</td>\n",
       "    </tr>\n",
       "    <tr>\n",
       "      <th>2019-01-10</th>\n",
       "      <td>-0.873717</td>\n",
       "      <td>-1.015634</td>\n",
       "      <td>-0.411244</td>\n",
       "      <td>1.465621</td>\n",
       "    </tr>\n",
       "    <tr>\n",
       "      <th>2019-01-17</th>\n",
       "      <td>-1.006219</td>\n",
       "      <td>-0.902148</td>\n",
       "      <td>0.752769</td>\n",
       "      <td>-0.490509</td>\n",
       "    </tr>\n",
       "    <tr>\n",
       "      <th>2019-01-24</th>\n",
       "      <td>-0.524672</td>\n",
       "      <td>-0.699196</td>\n",
       "      <td>0.352361</td>\n",
       "      <td>0.068103</td>\n",
       "    </tr>\n",
       "    <tr>\n",
       "      <th>2019-01-31</th>\n",
       "      <td>-0.930342</td>\n",
       "      <td>0.845400</td>\n",
       "      <td>0.016472</td>\n",
       "      <td>0.844963</td>\n",
       "    </tr>\n",
       "    <tr>\n",
       "      <th>2019-02-07</th>\n",
       "      <td>1.850834</td>\n",
       "      <td>0.022074</td>\n",
       "      <td>-1.369179</td>\n",
       "      <td>0.887204</td>\n",
       "    </tr>\n",
       "    <tr>\n",
       "      <th>2019-02-14</th>\n",
       "      <td>0.014331</td>\n",
       "      <td>-0.074155</td>\n",
       "      <td>-0.048565</td>\n",
       "      <td>1.235021</td>\n",
       "    </tr>\n",
       "    <tr>\n",
       "      <th>2019-02-21</th>\n",
       "      <td>-0.433295</td>\n",
       "      <td>1.391035</td>\n",
       "      <td>0.820211</td>\n",
       "      <td>-0.247423</td>\n",
       "    </tr>\n",
       "    <tr>\n",
       "      <th>2019-02-28</th>\n",
       "      <td>0.302271</td>\n",
       "      <td>0.543980</td>\n",
       "      <td>-0.942369</td>\n",
       "      <td>-1.266383</td>\n",
       "    </tr>\n",
       "    <tr>\n",
       "      <th>2019-03-07</th>\n",
       "      <td>0.937250</td>\n",
       "      <td>-0.720102</td>\n",
       "      <td>-1.593952</td>\n",
       "      <td>-0.375498</td>\n",
       "    </tr>\n",
       "  </tbody>\n",
       "</table>\n",
       "</div>"
      ],
      "text/plain": [
       "              Taiwan     Japan  New York  Hong Kong\n",
       "2019-01-03  0.153881 -0.274084 -1.784926   0.981007\n",
       "2019-01-10 -0.873717 -1.015634 -0.411244   1.465621\n",
       "2019-01-17 -1.006219 -0.902148  0.752769  -0.490509\n",
       "2019-01-24 -0.524672 -0.699196  0.352361   0.068103\n",
       "2019-01-31 -0.930342  0.845400  0.016472   0.844963\n",
       "2019-02-07  1.850834  0.022074 -1.369179   0.887204\n",
       "2019-02-14  0.014331 -0.074155 -0.048565   1.235021\n",
       "2019-02-21 -0.433295  1.391035  0.820211  -0.247423\n",
       "2019-02-28  0.302271  0.543980 -0.942369  -1.266383\n",
       "2019-03-07  0.937250 -0.720102 -1.593952  -0.375498"
      ]
     },
     "execution_count": 32,
     "metadata": {},
     "output_type": "execute_result"
    }
   ],
   "source": [
    "#date_range: 產生指定範圍的日期\n",
    "dates = pd.date_range('1/1/2019', periods=100, freq='W-THU')\n",
    "long_df = pd.DataFrame(np.random.randn(100, 4),\n",
    "                       index=dates,\n",
    "                       columns=['Taiwan', 'Japan',\n",
    "                                'New York', 'Hong Kong'])\n",
    "long_df[:10]"
   ]
  },
  {
   "cell_type": "code",
   "execution_count": 21,
   "metadata": {},
   "outputs": [
    {
     "data": {
      "text/html": [
       "<div>\n",
       "<style scoped>\n",
       "    .dataframe tbody tr th:only-of-type {\n",
       "        vertical-align: middle;\n",
       "    }\n",
       "\n",
       "    .dataframe tbody tr th {\n",
       "        vertical-align: top;\n",
       "    }\n",
       "\n",
       "    .dataframe thead th {\n",
       "        text-align: right;\n",
       "    }\n",
       "</style>\n",
       "<table border=\"1\" class=\"dataframe\">\n",
       "  <thead>\n",
       "    <tr style=\"text-align: right;\">\n",
       "      <th></th>\n",
       "      <th>Taiwan</th>\n",
       "      <th>Japan</th>\n",
       "      <th>New York</th>\n",
       "      <th>Hong Kong</th>\n",
       "    </tr>\n",
       "  </thead>\n",
       "  <tbody>\n",
       "    <tr>\n",
       "      <th>2019-02-07</th>\n",
       "      <td>0.107657</td>\n",
       "      <td>-0.606545</td>\n",
       "      <td>-0.417064</td>\n",
       "      <td>-0.017007</td>\n",
       "    </tr>\n",
       "    <tr>\n",
       "      <th>2019-02-14</th>\n",
       "      <td>-1.224145</td>\n",
       "      <td>-1.800840</td>\n",
       "      <td>1.634736</td>\n",
       "      <td>0.989008</td>\n",
       "    </tr>\n",
       "    <tr>\n",
       "      <th>2019-02-21</th>\n",
       "      <td>0.457940</td>\n",
       "      <td>0.555154</td>\n",
       "      <td>1.306720</td>\n",
       "      <td>-0.440554</td>\n",
       "    </tr>\n",
       "    <tr>\n",
       "      <th>2019-02-28</th>\n",
       "      <td>-0.301350</td>\n",
       "      <td>0.498791</td>\n",
       "      <td>-0.823991</td>\n",
       "      <td>1.320566</td>\n",
       "    </tr>\n",
       "  </tbody>\n",
       "</table>\n",
       "</div>"
      ],
      "text/plain": [
       "              Taiwan     Japan  New York  Hong Kong\n",
       "2019-02-07  0.107657 -0.606545 -0.417064  -0.017007\n",
       "2019-02-14 -1.224145 -1.800840  1.634736   0.989008\n",
       "2019-02-21  0.457940  0.555154  1.306720  -0.440554\n",
       "2019-02-28 -0.301350  0.498791 -0.823991   1.320566"
      ]
     },
     "execution_count": 21,
     "metadata": {},
     "output_type": "execute_result"
    }
   ],
   "source": [
    "long_df.loc['2-2019']"
   ]
  },
  {
   "cell_type": "markdown",
   "metadata": {},
   "source": [
    "### Time Series with Duplicate Indices"
   ]
  },
  {
   "cell_type": "code",
   "execution_count": 22,
   "metadata": {},
   "outputs": [
    {
     "data": {
      "text/plain": [
       "2000-01-01    0\n",
       "2000-01-02    1\n",
       "2000-01-02    2\n",
       "2000-01-02    3\n",
       "2000-01-03    4\n",
       "dtype: int64"
      ]
     },
     "execution_count": 22,
     "metadata": {},
     "output_type": "execute_result"
    }
   ],
   "source": [
    "dates = pd.DatetimeIndex(['1/1/2000', '1/2/2000', '1/2/2000',\n",
    "                          '1/2/2000', '1/3/2000'])\n",
    "dup_ts = pd.Series(np.arange(5), index=dates)\n",
    "dup_ts"
   ]
  },
  {
   "cell_type": "code",
   "execution_count": 23,
   "metadata": {},
   "outputs": [
    {
     "data": {
      "text/plain": [
       "False"
      ]
     },
     "execution_count": 23,
     "metadata": {},
     "output_type": "execute_result"
    }
   ],
   "source": [
    "#判斷index是否唯一值\n",
    "dup_ts.index.is_unique"
   ]
  },
  {
   "cell_type": "code",
   "execution_count": 24,
   "metadata": {},
   "outputs": [
    {
     "data": {
      "text/plain": [
       "4"
      ]
     },
     "execution_count": 24,
     "metadata": {},
     "output_type": "execute_result"
    }
   ],
   "source": [
    "dup_ts['1/3/2000']  # not duplicated\n"
   ]
  },
  {
   "cell_type": "code",
   "execution_count": 25,
   "metadata": {},
   "outputs": [
    {
     "data": {
      "text/plain": [
       "2000-01-02    1\n",
       "2000-01-02    2\n",
       "2000-01-02    3\n",
       "dtype: int64"
      ]
     },
     "execution_count": 25,
     "metadata": {},
     "output_type": "execute_result"
    }
   ],
   "source": [
    "dup_ts['1/2/2000']  # duplicated"
   ]
  },
  {
   "cell_type": "code",
   "execution_count": 26,
   "metadata": {},
   "outputs": [
    {
     "data": {
      "text/plain": [
       "2000-01-01    0\n",
       "2000-01-02    2\n",
       "2000-01-03    4\n",
       "dtype: int64"
      ]
     },
     "execution_count": 26,
     "metadata": {},
     "output_type": "execute_result"
    }
   ],
   "source": [
    "grouped = dup_ts.groupby(level=0)\n",
    "grouped.mean()\n"
   ]
  },
  {
   "cell_type": "code",
   "execution_count": 27,
   "metadata": {},
   "outputs": [
    {
     "data": {
      "text/plain": [
       "2000-01-01    1\n",
       "2000-01-02    3\n",
       "2000-01-03    1\n",
       "dtype: int64"
      ]
     },
     "execution_count": 27,
     "metadata": {},
     "output_type": "execute_result"
    }
   ],
   "source": [
    "grouped.count()"
   ]
  },
  {
   "cell_type": "code",
   "execution_count": null,
   "metadata": {},
   "outputs": [],
   "source": []
  }
 ],
 "metadata": {
  "kernelspec": {
   "display_name": "Python 3",
   "language": "python",
   "name": "python3"
  },
  "language_info": {
   "codemirror_mode": {
    "name": "ipython",
    "version": 3
   },
   "file_extension": ".py",
   "mimetype": "text/x-python",
   "name": "python",
   "nbconvert_exporter": "python",
   "pygments_lexer": "ipython3",
   "version": "3.7.0"
  }
 },
 "nbformat": 4,
 "nbformat_minor": 2
}
