{
 "cells": [
  {
   "cell_type": "markdown",
   "metadata": {},
   "source": [
    "**Resampling** refers to the process of converting a **time series** from **one frequency to another**.\n",
    "* 重取樣（resampling）指的是將時間序列從一個頻率轉換到另一個頻率的處理過程。將高頻率資料聚合到低頻率稱為降取樣（downsampling），而將低頻率資料轉換到高頻率則稱為升取樣（upsampling）。 \n",
    "\n",
    "> **resample**(rule, how=None, axis=0, fill_method=None, closed=None, label=None, convention='start', kind=None, loffset=None, limit=None, base=0, on=None, level=None\n",
    "\n",
    "> rule : string the offset string or object representing target conversion"
   ]
  },
  {
   "cell_type": "code",
   "execution_count": 1,
   "metadata": {},
   "outputs": [],
   "source": [
    "import numpy as np\n",
    "import pandas as pd"
   ]
  },
  {
   "cell_type": "code",
   "execution_count": 2,
   "metadata": {},
   "outputs": [
    {
     "data": {
      "text/plain": [
       "2000-01-31    2.149271\n",
       "2000-02-01   -0.405388\n",
       "2000-02-02   -1.015168\n",
       "2000-02-03   -0.980988\n",
       "2000-02-04   -1.520588\n",
       "2000-02-05   -0.912829\n",
       "2000-02-06   -0.832280\n",
       "2000-02-07    0.174565\n",
       "2000-02-08    1.103264\n",
       "2000-02-09    1.222306\n",
       "2000-02-10   -0.321265\n",
       "2000-02-11    1.259338\n",
       "2000-02-12   -0.208210\n",
       "2000-02-13   -0.340111\n",
       "2000-02-14   -0.567574\n",
       "2000-02-15    0.662511\n",
       "2000-02-16   -0.830227\n",
       "2000-02-17    0.603290\n",
       "2000-02-18   -0.189446\n",
       "2000-02-19   -0.351622\n",
       "2000-02-20    0.602473\n",
       "2000-02-21    2.417099\n",
       "2000-02-22   -0.053327\n",
       "2000-02-23   -0.621101\n",
       "2000-02-24    2.109857\n",
       "2000-02-25   -1.388519\n",
       "2000-02-26    0.336166\n",
       "2000-02-27    1.056932\n",
       "2000-02-28   -0.887027\n",
       "2000-02-29   -1.381348\n",
       "2000-03-01   -0.959669\n",
       "2000-03-02    0.219749\n",
       "2000-03-03    0.148115\n",
       "2000-03-04   -0.262271\n",
       "2000-03-05    1.653134\n",
       "Freq: D, dtype: float64"
      ]
     },
     "execution_count": 2,
     "metadata": {},
     "output_type": "execute_result"
    }
   ],
   "source": [
    "rng = pd.date_range('2000-01-01', periods=100, freq='D')\n",
    "ts = pd.Series(np.random.randn(len(rng)), index=rng)\n",
    "ts[30:65]\n"
   ]
  },
  {
   "cell_type": "code",
   "execution_count": 3,
   "metadata": {},
   "outputs": [
    {
     "data": {
      "text/plain": [
       "2000-01-31    0.110116\n",
       "2000-02-29   -0.043421\n",
       "2000-03-31   -0.008809\n",
       "2000-04-30    0.144604\n",
       "Freq: M, dtype: float64"
      ]
     },
     "execution_count": 3,
     "metadata": {},
     "output_type": "execute_result"
    }
   ],
   "source": [
    "ts.resample('M').mean()\n"
   ]
  },
  {
   "cell_type": "code",
   "execution_count": 4,
   "metadata": {},
   "outputs": [
    {
     "data": {
      "text/plain": [
       "2000-01    0.560487\n",
       "2000-02   -0.106448\n",
       "2000-03    0.096216\n",
       "2000-04    0.316283\n",
       "Freq: M, dtype: float64"
      ]
     },
     "execution_count": 4,
     "metadata": {},
     "output_type": "execute_result"
    }
   ],
   "source": [
    "ts.resample('M', kind='period').mean()"
   ]
  },
  {
   "cell_type": "markdown",
   "metadata": {},
   "source": [
    "### Downsampling"
   ]
  },
  {
   "cell_type": "markdown",
   "metadata": {},
   "source": [
    "考慮因素：\n",
    "* 各區間哪邊是閉合的（參數：closed）\n",
    "* 如何標記各聚合面元，用區間的開頭還是末尾（參數：label）"
   ]
  },
  {
   "cell_type": "code",
   "execution_count": 6,
   "metadata": {},
   "outputs": [
    {
     "data": {
      "text/plain": [
       "2018-08-03 00:00:00     0\n",
       "2018-08-03 00:01:00     1\n",
       "2018-08-03 00:02:00     2\n",
       "2018-08-03 00:03:00     3\n",
       "2018-08-03 00:04:00     4\n",
       "2018-08-03 00:05:00     5\n",
       "2018-08-03 00:06:00     6\n",
       "2018-08-03 00:07:00     7\n",
       "2018-08-03 00:08:00     8\n",
       "2018-08-03 00:09:00     9\n",
       "2018-08-03 00:10:00    10\n",
       "2018-08-03 00:11:00    11\n",
       "Freq: T, dtype: int32"
      ]
     },
     "execution_count": 6,
     "metadata": {},
     "output_type": "execute_result"
    }
   ],
   "source": [
    "rng = pd.date_range('2018-08-03', periods=12, freq='T')\n",
    "ts = pd.Series(np.arange(12), index=rng)\n",
    "ts"
   ]
  },
  {
   "cell_type": "markdown",
   "metadata": {},
   "source": [
    "Which side of bin interval is closed. The default is ‘left’ for all frequency offsets except for ‘M’, ‘A’, ‘Q’, ‘BM’, ‘BA’, ‘BQ’, and ‘W’ which all have a default of ‘right’."
   ]
  },
  {
   "cell_type": "code",
   "execution_count": 6,
   "metadata": {
    "collapsed": true
   },
   "outputs": [],
   "source": [
    "#See Figure 11-3 for an illustration of minute frequency data being resampled to fiveminute frequency.\n"
   ]
  },
  {
   "cell_type": "code",
   "execution_count": 7,
   "metadata": {},
   "outputs": [
    {
     "data": {
      "text/plain": [
       "2018-08-03 00:00:00    10\n",
       "2018-08-03 00:05:00    35\n",
       "2018-08-03 00:10:00    21\n",
       "Freq: 5T, dtype: int32"
      ]
     },
     "execution_count": 7,
     "metadata": {},
     "output_type": "execute_result"
    }
   ],
   "source": [
    "'''默認使用左標籤（label=’left’），左閉合（closed=’left’）\n",
    "此時第一個區間爲：2018-08-03 00:00:00~2018-08-03 00:04:59，故sum爲10，label爲：2018-08-03 00:00:00'''\n",
    "ts.resample('5min').sum()"
   ]
  },
  {
   "cell_type": "code",
   "execution_count": 8,
   "metadata": {},
   "outputs": [
    {
     "data": {
      "text/plain": [
       "2018-08-02 23:55:00     0\n",
       "2018-08-03 00:00:00    15\n",
       "2018-08-03 00:05:00    40\n",
       "2018-08-03 00:10:00    11\n",
       "Freq: 5T, dtype: int32"
      ]
     },
     "execution_count": 8,
     "metadata": {},
     "output_type": "execute_result"
    }
   ],
   "source": [
    "'''可以指定爲右閉合（closed=’right’），默認使用左標籤（label=’left’）\n",
    "此時第一個區間爲：2018-08-02 23:55:01~2018-08-03 00:00:00，故sum爲0，label爲：2018-08-02 23:55:00'''\n",
    "ts.resample('5min', closed='right').sum()"
   ]
  },
  {
   "cell_type": "code",
   "execution_count": 25,
   "metadata": {},
   "outputs": [
    {
     "data": {
      "text/plain": [
       "2000-01-01 00:00:00     0\n",
       "2000-01-01 00:05:00    15\n",
       "2000-01-01 00:10:00    40\n",
       "2000-01-01 00:15:00    11\n",
       "Freq: 5T, dtype: int64"
      ]
     },
     "execution_count": 25,
     "metadata": {},
     "output_type": "execute_result"
    }
   ],
   "source": [
    "'''可以指定爲右閉合（closed=’right’），右標籤（label=’right’）\n",
    "此時第一個區間爲：2018-08-02 23:55:01~2018-08-03 00:00:00，故sum爲0，label爲：2018-08-03 00:00:00'''\n",
    "ts.resample('5min', closed='right', label='right').sum()"
   ]
  },
  {
   "cell_type": "markdown",
   "metadata": {},
   "source": [
    "### Upsampling and Interpolation"
   ]
  },
  {
   "cell_type": "code",
   "execution_count": 9,
   "metadata": {},
   "outputs": [
    {
     "data": {
      "text/html": [
       "<div>\n",
       "<style scoped>\n",
       "    .dataframe tbody tr th:only-of-type {\n",
       "        vertical-align: middle;\n",
       "    }\n",
       "\n",
       "    .dataframe tbody tr th {\n",
       "        vertical-align: top;\n",
       "    }\n",
       "\n",
       "    .dataframe thead th {\n",
       "        text-align: right;\n",
       "    }\n",
       "</style>\n",
       "<table border=\"1\" class=\"dataframe\">\n",
       "  <thead>\n",
       "    <tr style=\"text-align: right;\">\n",
       "      <th></th>\n",
       "      <th>Colorado</th>\n",
       "      <th>Texas</th>\n",
       "      <th>New York</th>\n",
       "      <th>Ohio</th>\n",
       "    </tr>\n",
       "  </thead>\n",
       "  <tbody>\n",
       "    <tr>\n",
       "      <th>2019-01-02</th>\n",
       "      <td>0.677029</td>\n",
       "      <td>-0.823687</td>\n",
       "      <td>0.831188</td>\n",
       "      <td>-0.060464</td>\n",
       "    </tr>\n",
       "    <tr>\n",
       "      <th>2019-01-09</th>\n",
       "      <td>0.289899</td>\n",
       "      <td>-1.510092</td>\n",
       "      <td>1.032170</td>\n",
       "      <td>0.893482</td>\n",
       "    </tr>\n",
       "  </tbody>\n",
       "</table>\n",
       "</div>"
      ],
      "text/plain": [
       "            Colorado     Texas  New York      Ohio\n",
       "2019-01-02  0.677029 -0.823687  0.831188 -0.060464\n",
       "2019-01-09  0.289899 -1.510092  1.032170  0.893482"
      ]
     },
     "execution_count": 9,
     "metadata": {},
     "output_type": "execute_result"
    }
   ],
   "source": [
    "frame = pd.DataFrame(np.random.randn(2, 4),\n",
    "                     index=pd.date_range('1/1/2019', periods=2,\n",
    "                                         freq='W-WED'),\n",
    "                     columns=['Colorado', 'Texas', 'New York', 'Ohio'])\n",
    "frame"
   ]
  },
  {
   "cell_type": "markdown",
   "metadata": {},
   "source": [
    "**DataFrame.asfreq**(freq, method=None, how=None, normalize=False, fill_value=None)\n",
    "Convert TimeSeries to specified frequency.\n",
    "\n",
    "Optionally provide filling method to pad/backfill missing values.\n",
    "\n",
    "Returns the original data conformed to a new index with the specified frequency. resample is more appropriate if an operation, such as summarization, is necessary to represent the data at the new frequency.\n",
    "\n"
   ]
  },
  {
   "cell_type": "code",
   "execution_count": 21,
   "metadata": {},
   "outputs": [
    {
     "data": {
      "text/html": [
       "<div>\n",
       "<style scoped>\n",
       "    .dataframe tbody tr th:only-of-type {\n",
       "        vertical-align: middle;\n",
       "    }\n",
       "\n",
       "    .dataframe tbody tr th {\n",
       "        vertical-align: top;\n",
       "    }\n",
       "\n",
       "    .dataframe thead th {\n",
       "        text-align: right;\n",
       "    }\n",
       "</style>\n",
       "<table border=\"1\" class=\"dataframe\">\n",
       "  <thead>\n",
       "    <tr style=\"text-align: right;\">\n",
       "      <th></th>\n",
       "      <th>Colorado</th>\n",
       "      <th>Texas</th>\n",
       "      <th>New York</th>\n",
       "      <th>Ohio</th>\n",
       "    </tr>\n",
       "  </thead>\n",
       "  <tbody>\n",
       "    <tr>\n",
       "      <th>2019-01-02</th>\n",
       "      <td>0.010861</td>\n",
       "      <td>0.803812</td>\n",
       "      <td>0.656674</td>\n",
       "      <td>0.132536</td>\n",
       "    </tr>\n",
       "    <tr>\n",
       "      <th>2019-01-03</th>\n",
       "      <td>NaN</td>\n",
       "      <td>NaN</td>\n",
       "      <td>NaN</td>\n",
       "      <td>NaN</td>\n",
       "    </tr>\n",
       "    <tr>\n",
       "      <th>2019-01-04</th>\n",
       "      <td>NaN</td>\n",
       "      <td>NaN</td>\n",
       "      <td>NaN</td>\n",
       "      <td>NaN</td>\n",
       "    </tr>\n",
       "    <tr>\n",
       "      <th>2019-01-05</th>\n",
       "      <td>NaN</td>\n",
       "      <td>NaN</td>\n",
       "      <td>NaN</td>\n",
       "      <td>NaN</td>\n",
       "    </tr>\n",
       "    <tr>\n",
       "      <th>2019-01-06</th>\n",
       "      <td>NaN</td>\n",
       "      <td>NaN</td>\n",
       "      <td>NaN</td>\n",
       "      <td>NaN</td>\n",
       "    </tr>\n",
       "    <tr>\n",
       "      <th>2019-01-07</th>\n",
       "      <td>NaN</td>\n",
       "      <td>NaN</td>\n",
       "      <td>NaN</td>\n",
       "      <td>NaN</td>\n",
       "    </tr>\n",
       "    <tr>\n",
       "      <th>2019-01-08</th>\n",
       "      <td>NaN</td>\n",
       "      <td>NaN</td>\n",
       "      <td>NaN</td>\n",
       "      <td>NaN</td>\n",
       "    </tr>\n",
       "    <tr>\n",
       "      <th>2019-01-09</th>\n",
       "      <td>-0.383513</td>\n",
       "      <td>-0.734336</td>\n",
       "      <td>-0.991644</td>\n",
       "      <td>-0.153661</td>\n",
       "    </tr>\n",
       "  </tbody>\n",
       "</table>\n",
       "</div>"
      ],
      "text/plain": [
       "            Colorado     Texas  New York      Ohio\n",
       "2019-01-02  0.010861  0.803812  0.656674  0.132536\n",
       "2019-01-03       NaN       NaN       NaN       NaN\n",
       "2019-01-04       NaN       NaN       NaN       NaN\n",
       "2019-01-05       NaN       NaN       NaN       NaN\n",
       "2019-01-06       NaN       NaN       NaN       NaN\n",
       "2019-01-07       NaN       NaN       NaN       NaN\n",
       "2019-01-08       NaN       NaN       NaN       NaN\n",
       "2019-01-09 -0.383513 -0.734336 -0.991644 -0.153661"
      ]
     },
     "execution_count": 21,
     "metadata": {},
     "output_type": "execute_result"
    }
   ],
   "source": [
    "#當我們對這個數據進行聚合的的時候，每個組只有一個值，以及gap（間隔）之間的缺失值。在不使用任何聚合函數的情況下，我們使用asfreq方法將其轉換爲高頻度：\n",
    "df_daily = frame.resample('D').asfreq()\n",
    "df_daily"
   ]
  },
  {
   "cell_type": "code",
   "execution_count": 10,
   "metadata": {},
   "outputs": [
    {
     "data": {
      "text/html": [
       "<div>\n",
       "<style scoped>\n",
       "    .dataframe tbody tr th:only-of-type {\n",
       "        vertical-align: middle;\n",
       "    }\n",
       "\n",
       "    .dataframe tbody tr th {\n",
       "        vertical-align: top;\n",
       "    }\n",
       "\n",
       "    .dataframe thead th {\n",
       "        text-align: right;\n",
       "    }\n",
       "</style>\n",
       "<table border=\"1\" class=\"dataframe\">\n",
       "  <thead>\n",
       "    <tr style=\"text-align: right;\">\n",
       "      <th></th>\n",
       "      <th>Colorado</th>\n",
       "      <th>Texas</th>\n",
       "      <th>New York</th>\n",
       "      <th>Ohio</th>\n",
       "    </tr>\n",
       "  </thead>\n",
       "  <tbody>\n",
       "    <tr>\n",
       "      <th>2019-01-02</th>\n",
       "      <td>0.677029</td>\n",
       "      <td>-0.823687</td>\n",
       "      <td>0.831188</td>\n",
       "      <td>-0.060464</td>\n",
       "    </tr>\n",
       "    <tr>\n",
       "      <th>2019-01-03</th>\n",
       "      <td>0.677029</td>\n",
       "      <td>-0.823687</td>\n",
       "      <td>0.831188</td>\n",
       "      <td>-0.060464</td>\n",
       "    </tr>\n",
       "    <tr>\n",
       "      <th>2019-01-04</th>\n",
       "      <td>0.677029</td>\n",
       "      <td>-0.823687</td>\n",
       "      <td>0.831188</td>\n",
       "      <td>-0.060464</td>\n",
       "    </tr>\n",
       "    <tr>\n",
       "      <th>2019-01-05</th>\n",
       "      <td>0.677029</td>\n",
       "      <td>-0.823687</td>\n",
       "      <td>0.831188</td>\n",
       "      <td>-0.060464</td>\n",
       "    </tr>\n",
       "    <tr>\n",
       "      <th>2019-01-06</th>\n",
       "      <td>0.677029</td>\n",
       "      <td>-0.823687</td>\n",
       "      <td>0.831188</td>\n",
       "      <td>-0.060464</td>\n",
       "    </tr>\n",
       "    <tr>\n",
       "      <th>2019-01-07</th>\n",
       "      <td>0.677029</td>\n",
       "      <td>-0.823687</td>\n",
       "      <td>0.831188</td>\n",
       "      <td>-0.060464</td>\n",
       "    </tr>\n",
       "    <tr>\n",
       "      <th>2019-01-08</th>\n",
       "      <td>0.677029</td>\n",
       "      <td>-0.823687</td>\n",
       "      <td>0.831188</td>\n",
       "      <td>-0.060464</td>\n",
       "    </tr>\n",
       "    <tr>\n",
       "      <th>2019-01-09</th>\n",
       "      <td>0.289899</td>\n",
       "      <td>-1.510092</td>\n",
       "      <td>1.032170</td>\n",
       "      <td>0.893482</td>\n",
       "    </tr>\n",
       "  </tbody>\n",
       "</table>\n",
       "</div>"
      ],
      "text/plain": [
       "            Colorado     Texas  New York      Ohio\n",
       "2019-01-02  0.677029 -0.823687  0.831188 -0.060464\n",
       "2019-01-03  0.677029 -0.823687  0.831188 -0.060464\n",
       "2019-01-04  0.677029 -0.823687  0.831188 -0.060464\n",
       "2019-01-05  0.677029 -0.823687  0.831188 -0.060464\n",
       "2019-01-06  0.677029 -0.823687  0.831188 -0.060464\n",
       "2019-01-07  0.677029 -0.823687  0.831188 -0.060464\n",
       "2019-01-08  0.677029 -0.823687  0.831188 -0.060464\n",
       "2019-01-09  0.289899 -1.510092  1.032170  0.893482"
      ]
     },
     "execution_count": 10,
     "metadata": {},
     "output_type": "execute_result"
    }
   ],
   "source": [
    "#使用ffill()進行填充\n",
    "frame.resample('D').ffill()"
   ]
  },
  {
   "cell_type": "code",
   "execution_count": 11,
   "metadata": {},
   "outputs": [
    {
     "data": {
      "text/html": [
       "<div>\n",
       "<style scoped>\n",
       "    .dataframe tbody tr th:only-of-type {\n",
       "        vertical-align: middle;\n",
       "    }\n",
       "\n",
       "    .dataframe tbody tr th {\n",
       "        vertical-align: top;\n",
       "    }\n",
       "\n",
       "    .dataframe thead th {\n",
       "        text-align: right;\n",
       "    }\n",
       "</style>\n",
       "<table border=\"1\" class=\"dataframe\">\n",
       "  <thead>\n",
       "    <tr style=\"text-align: right;\">\n",
       "      <th></th>\n",
       "      <th>Colorado</th>\n",
       "      <th>Texas</th>\n",
       "      <th>New York</th>\n",
       "      <th>Ohio</th>\n",
       "    </tr>\n",
       "  </thead>\n",
       "  <tbody>\n",
       "    <tr>\n",
       "      <th>2019-01-02</th>\n",
       "      <td>0.677029</td>\n",
       "      <td>-0.823687</td>\n",
       "      <td>0.831188</td>\n",
       "      <td>-0.060464</td>\n",
       "    </tr>\n",
       "    <tr>\n",
       "      <th>2019-01-03</th>\n",
       "      <td>0.677029</td>\n",
       "      <td>-0.823687</td>\n",
       "      <td>0.831188</td>\n",
       "      <td>-0.060464</td>\n",
       "    </tr>\n",
       "    <tr>\n",
       "      <th>2019-01-04</th>\n",
       "      <td>0.677029</td>\n",
       "      <td>-0.823687</td>\n",
       "      <td>0.831188</td>\n",
       "      <td>-0.060464</td>\n",
       "    </tr>\n",
       "    <tr>\n",
       "      <th>2019-01-05</th>\n",
       "      <td>NaN</td>\n",
       "      <td>NaN</td>\n",
       "      <td>NaN</td>\n",
       "      <td>NaN</td>\n",
       "    </tr>\n",
       "    <tr>\n",
       "      <th>2019-01-06</th>\n",
       "      <td>NaN</td>\n",
       "      <td>NaN</td>\n",
       "      <td>NaN</td>\n",
       "      <td>NaN</td>\n",
       "    </tr>\n",
       "    <tr>\n",
       "      <th>2019-01-07</th>\n",
       "      <td>NaN</td>\n",
       "      <td>NaN</td>\n",
       "      <td>NaN</td>\n",
       "      <td>NaN</td>\n",
       "    </tr>\n",
       "    <tr>\n",
       "      <th>2019-01-08</th>\n",
       "      <td>NaN</td>\n",
       "      <td>NaN</td>\n",
       "      <td>NaN</td>\n",
       "      <td>NaN</td>\n",
       "    </tr>\n",
       "    <tr>\n",
       "      <th>2019-01-09</th>\n",
       "      <td>0.289899</td>\n",
       "      <td>-1.510092</td>\n",
       "      <td>1.032170</td>\n",
       "      <td>0.893482</td>\n",
       "    </tr>\n",
       "  </tbody>\n",
       "</table>\n",
       "</div>"
      ],
      "text/plain": [
       "            Colorado     Texas  New York      Ohio\n",
       "2019-01-02  0.677029 -0.823687  0.831188 -0.060464\n",
       "2019-01-03  0.677029 -0.823687  0.831188 -0.060464\n",
       "2019-01-04  0.677029 -0.823687  0.831188 -0.060464\n",
       "2019-01-05       NaN       NaN       NaN       NaN\n",
       "2019-01-06       NaN       NaN       NaN       NaN\n",
       "2019-01-07       NaN       NaN       NaN       NaN\n",
       "2019-01-08       NaN       NaN       NaN       NaN\n",
       "2019-01-09  0.289899 -1.510092  1.032170  0.893482"
      ]
     },
     "execution_count": 11,
     "metadata": {},
     "output_type": "execute_result"
    }
   ],
   "source": [
    "frame.resample('D').ffill(limit=2)"
   ]
  },
  {
   "cell_type": "code",
   "execution_count": 13,
   "metadata": {},
   "outputs": [
    {
     "data": {
      "text/html": [
       "<div>\n",
       "<style scoped>\n",
       "    .dataframe tbody tr th:only-of-type {\n",
       "        vertical-align: middle;\n",
       "    }\n",
       "\n",
       "    .dataframe tbody tr th {\n",
       "        vertical-align: top;\n",
       "    }\n",
       "\n",
       "    .dataframe thead th {\n",
       "        text-align: right;\n",
       "    }\n",
       "</style>\n",
       "<table border=\"1\" class=\"dataframe\">\n",
       "  <thead>\n",
       "    <tr style=\"text-align: right;\">\n",
       "      <th></th>\n",
       "      <th>Colorado</th>\n",
       "      <th>Texas</th>\n",
       "      <th>New York</th>\n",
       "      <th>Ohio</th>\n",
       "    </tr>\n",
       "  </thead>\n",
       "  <tbody>\n",
       "    <tr>\n",
       "      <th>2019-01-03</th>\n",
       "      <td>-0.072500</td>\n",
       "      <td>0.471344</td>\n",
       "      <td>2.058983</td>\n",
       "      <td>-0.218399</td>\n",
       "    </tr>\n",
       "    <tr>\n",
       "      <th>2019-01-10</th>\n",
       "      <td>-1.314942</td>\n",
       "      <td>0.192264</td>\n",
       "      <td>-1.508524</td>\n",
       "      <td>1.370278</td>\n",
       "    </tr>\n",
       "  </tbody>\n",
       "</table>\n",
       "</div>"
      ],
      "text/plain": [
       "            Colorado     Texas  New York      Ohio\n",
       "2019-01-03 -0.072500  0.471344  2.058983 -0.218399\n",
       "2019-01-10 -1.314942  0.192264 -1.508524  1.370278"
      ]
     },
     "execution_count": 13,
     "metadata": {},
     "output_type": "execute_result"
    }
   ],
   "source": [
    "frame.resample('W-THU').ffill()"
   ]
  },
  {
   "cell_type": "markdown",
   "metadata": {},
   "source": [
    "### Resampling with Periods"
   ]
  },
  {
   "cell_type": "markdown",
   "metadata": {},
   "source": [
    "DataFrame.resample(rule, how=None, axis=0, fill_method=None, closed=None, label=None, convention='start', kind=None, loffset=None, limit=None, base=0, on=None, level=None)"
   ]
  },
  {
   "cell_type": "code",
   "execution_count": 14,
   "metadata": {},
   "outputs": [
    {
     "data": {
      "text/html": [
       "<div>\n",
       "<style scoped>\n",
       "    .dataframe tbody tr th:only-of-type {\n",
       "        vertical-align: middle;\n",
       "    }\n",
       "\n",
       "    .dataframe tbody tr th {\n",
       "        vertical-align: top;\n",
       "    }\n",
       "\n",
       "    .dataframe thead th {\n",
       "        text-align: right;\n",
       "    }\n",
       "</style>\n",
       "<table border=\"1\" class=\"dataframe\">\n",
       "  <thead>\n",
       "    <tr style=\"text-align: right;\">\n",
       "      <th></th>\n",
       "      <th>Colorado</th>\n",
       "      <th>Texas</th>\n",
       "      <th>New York</th>\n",
       "      <th>Ohio</th>\n",
       "    </tr>\n",
       "  </thead>\n",
       "  <tbody>\n",
       "    <tr>\n",
       "      <th>2000-01</th>\n",
       "      <td>0.836243</td>\n",
       "      <td>-0.857108</td>\n",
       "      <td>-0.588585</td>\n",
       "      <td>1.785039</td>\n",
       "    </tr>\n",
       "    <tr>\n",
       "      <th>2000-02</th>\n",
       "      <td>0.946621</td>\n",
       "      <td>0.382012</td>\n",
       "      <td>1.135344</td>\n",
       "      <td>1.057585</td>\n",
       "    </tr>\n",
       "    <tr>\n",
       "      <th>2000-03</th>\n",
       "      <td>2.236473</td>\n",
       "      <td>-1.050085</td>\n",
       "      <td>0.825620</td>\n",
       "      <td>0.766250</td>\n",
       "    </tr>\n",
       "    <tr>\n",
       "      <th>2000-04</th>\n",
       "      <td>-0.164278</td>\n",
       "      <td>1.389776</td>\n",
       "      <td>-1.233399</td>\n",
       "      <td>-0.244984</td>\n",
       "    </tr>\n",
       "    <tr>\n",
       "      <th>2000-05</th>\n",
       "      <td>0.330096</td>\n",
       "      <td>0.030558</td>\n",
       "      <td>1.049785</td>\n",
       "      <td>1.948930</td>\n",
       "    </tr>\n",
       "  </tbody>\n",
       "</table>\n",
       "</div>"
      ],
      "text/plain": [
       "         Colorado     Texas  New York      Ohio\n",
       "2000-01  0.836243 -0.857108 -0.588585  1.785039\n",
       "2000-02  0.946621  0.382012  1.135344  1.057585\n",
       "2000-03  2.236473 -1.050085  0.825620  0.766250\n",
       "2000-04 -0.164278  1.389776 -1.233399 -0.244984\n",
       "2000-05  0.330096  0.030558  1.049785  1.948930"
      ]
     },
     "execution_count": 14,
     "metadata": {},
     "output_type": "execute_result"
    }
   ],
   "source": [
    "frame = pd.DataFrame(np.random.randn(24, 4),\n",
    "                     index=pd.period_range('1-2000', '12-2001',\n",
    "                                           freq='M'),\n",
    "                     columns=['Colorado', 'Texas', 'New York', 'Ohio'])\n",
    "frame[:5]\n"
   ]
  },
  {
   "cell_type": "code",
   "execution_count": 15,
   "metadata": {},
   "outputs": [
    {
     "data": {
      "text/html": [
       "<div>\n",
       "<style scoped>\n",
       "    .dataframe tbody tr th:only-of-type {\n",
       "        vertical-align: middle;\n",
       "    }\n",
       "\n",
       "    .dataframe tbody tr th {\n",
       "        vertical-align: top;\n",
       "    }\n",
       "\n",
       "    .dataframe thead th {\n",
       "        text-align: right;\n",
       "    }\n",
       "</style>\n",
       "<table border=\"1\" class=\"dataframe\">\n",
       "  <thead>\n",
       "    <tr style=\"text-align: right;\">\n",
       "      <th></th>\n",
       "      <th>Colorado</th>\n",
       "      <th>Texas</th>\n",
       "      <th>New York</th>\n",
       "      <th>Ohio</th>\n",
       "    </tr>\n",
       "  </thead>\n",
       "  <tbody>\n",
       "    <tr>\n",
       "      <th>2000</th>\n",
       "      <td>0.420986</td>\n",
       "      <td>0.135564</td>\n",
       "      <td>-0.134891</td>\n",
       "      <td>0.474439</td>\n",
       "    </tr>\n",
       "    <tr>\n",
       "      <th>2001</th>\n",
       "      <td>-0.189044</td>\n",
       "      <td>-0.267136</td>\n",
       "      <td>-0.410124</td>\n",
       "      <td>-0.057843</td>\n",
       "    </tr>\n",
       "  </tbody>\n",
       "</table>\n",
       "</div>"
      ],
      "text/plain": [
       "      Colorado     Texas  New York      Ohio\n",
       "2000  0.420986  0.135564 -0.134891  0.474439\n",
       "2001 -0.189044 -0.267136 -0.410124 -0.057843"
      ]
     },
     "execution_count": 15,
     "metadata": {},
     "output_type": "execute_result"
    }
   ],
   "source": [
    "annual_frame = frame.resample('A-DEC').mean()\n",
    "annual_frame"
   ]
  },
  {
   "cell_type": "code",
   "execution_count": 16,
   "metadata": {},
   "outputs": [
    {
     "data": {
      "text/html": [
       "<div>\n",
       "<style scoped>\n",
       "    .dataframe tbody tr th:only-of-type {\n",
       "        vertical-align: middle;\n",
       "    }\n",
       "\n",
       "    .dataframe tbody tr th {\n",
       "        vertical-align: top;\n",
       "    }\n",
       "\n",
       "    .dataframe thead th {\n",
       "        text-align: right;\n",
       "    }\n",
       "</style>\n",
       "<table border=\"1\" class=\"dataframe\">\n",
       "  <thead>\n",
       "    <tr style=\"text-align: right;\">\n",
       "      <th></th>\n",
       "      <th>Colorado</th>\n",
       "      <th>Texas</th>\n",
       "      <th>New York</th>\n",
       "      <th>Ohio</th>\n",
       "    </tr>\n",
       "  </thead>\n",
       "  <tbody>\n",
       "    <tr>\n",
       "      <th>2000Q1</th>\n",
       "      <td>0.420986</td>\n",
       "      <td>0.135564</td>\n",
       "      <td>-0.134891</td>\n",
       "      <td>0.474439</td>\n",
       "    </tr>\n",
       "    <tr>\n",
       "      <th>2000Q2</th>\n",
       "      <td>0.420986</td>\n",
       "      <td>0.135564</td>\n",
       "      <td>-0.134891</td>\n",
       "      <td>0.474439</td>\n",
       "    </tr>\n",
       "    <tr>\n",
       "      <th>2000Q3</th>\n",
       "      <td>0.420986</td>\n",
       "      <td>0.135564</td>\n",
       "      <td>-0.134891</td>\n",
       "      <td>0.474439</td>\n",
       "    </tr>\n",
       "    <tr>\n",
       "      <th>2000Q4</th>\n",
       "      <td>0.420986</td>\n",
       "      <td>0.135564</td>\n",
       "      <td>-0.134891</td>\n",
       "      <td>0.474439</td>\n",
       "    </tr>\n",
       "    <tr>\n",
       "      <th>2001Q1</th>\n",
       "      <td>-0.189044</td>\n",
       "      <td>-0.267136</td>\n",
       "      <td>-0.410124</td>\n",
       "      <td>-0.057843</td>\n",
       "    </tr>\n",
       "    <tr>\n",
       "      <th>2001Q2</th>\n",
       "      <td>-0.189044</td>\n",
       "      <td>-0.267136</td>\n",
       "      <td>-0.410124</td>\n",
       "      <td>-0.057843</td>\n",
       "    </tr>\n",
       "    <tr>\n",
       "      <th>2001Q3</th>\n",
       "      <td>-0.189044</td>\n",
       "      <td>-0.267136</td>\n",
       "      <td>-0.410124</td>\n",
       "      <td>-0.057843</td>\n",
       "    </tr>\n",
       "    <tr>\n",
       "      <th>2001Q4</th>\n",
       "      <td>-0.189044</td>\n",
       "      <td>-0.267136</td>\n",
       "      <td>-0.410124</td>\n",
       "      <td>-0.057843</td>\n",
       "    </tr>\n",
       "  </tbody>\n",
       "</table>\n",
       "</div>"
      ],
      "text/plain": [
       "        Colorado     Texas  New York      Ohio\n",
       "2000Q1  0.420986  0.135564 -0.134891  0.474439\n",
       "2000Q2  0.420986  0.135564 -0.134891  0.474439\n",
       "2000Q3  0.420986  0.135564 -0.134891  0.474439\n",
       "2000Q4  0.420986  0.135564 -0.134891  0.474439\n",
       "2001Q1 -0.189044 -0.267136 -0.410124 -0.057843\n",
       "2001Q2 -0.189044 -0.267136 -0.410124 -0.057843\n",
       "2001Q3 -0.189044 -0.267136 -0.410124 -0.057843\n",
       "2001Q4 -0.189044 -0.267136 -0.410124 -0.057843"
      ]
     },
     "execution_count": 16,
     "metadata": {},
     "output_type": "execute_result"
    }
   ],
   "source": [
    "# Q-DEC: Quarterly, year ending in December\n",
    "annual_frame.resample('Q-DEC').ffill()\n"
   ]
  },
  {
   "cell_type": "code",
   "execution_count": 17,
   "metadata": {},
   "outputs": [
    {
     "data": {
      "text/html": [
       "<div>\n",
       "<style scoped>\n",
       "    .dataframe tbody tr th:only-of-type {\n",
       "        vertical-align: middle;\n",
       "    }\n",
       "\n",
       "    .dataframe tbody tr th {\n",
       "        vertical-align: top;\n",
       "    }\n",
       "\n",
       "    .dataframe thead th {\n",
       "        text-align: right;\n",
       "    }\n",
       "</style>\n",
       "<table border=\"1\" class=\"dataframe\">\n",
       "  <thead>\n",
       "    <tr style=\"text-align: right;\">\n",
       "      <th></th>\n",
       "      <th>Colorado</th>\n",
       "      <th>Texas</th>\n",
       "      <th>New York</th>\n",
       "      <th>Ohio</th>\n",
       "    </tr>\n",
       "  </thead>\n",
       "  <tbody>\n",
       "    <tr>\n",
       "      <th>2000Q4</th>\n",
       "      <td>0.420986</td>\n",
       "      <td>0.135564</td>\n",
       "      <td>-0.134891</td>\n",
       "      <td>0.474439</td>\n",
       "    </tr>\n",
       "    <tr>\n",
       "      <th>2001Q1</th>\n",
       "      <td>0.420986</td>\n",
       "      <td>0.135564</td>\n",
       "      <td>-0.134891</td>\n",
       "      <td>0.474439</td>\n",
       "    </tr>\n",
       "    <tr>\n",
       "      <th>2001Q2</th>\n",
       "      <td>0.420986</td>\n",
       "      <td>0.135564</td>\n",
       "      <td>-0.134891</td>\n",
       "      <td>0.474439</td>\n",
       "    </tr>\n",
       "    <tr>\n",
       "      <th>2001Q3</th>\n",
       "      <td>0.420986</td>\n",
       "      <td>0.135564</td>\n",
       "      <td>-0.134891</td>\n",
       "      <td>0.474439</td>\n",
       "    </tr>\n",
       "    <tr>\n",
       "      <th>2001Q4</th>\n",
       "      <td>-0.189044</td>\n",
       "      <td>-0.267136</td>\n",
       "      <td>-0.410124</td>\n",
       "      <td>-0.057843</td>\n",
       "    </tr>\n",
       "  </tbody>\n",
       "</table>\n",
       "</div>"
      ],
      "text/plain": [
       "        Colorado     Texas  New York      Ohio\n",
       "2000Q4  0.420986  0.135564 -0.134891  0.474439\n",
       "2001Q1  0.420986  0.135564 -0.134891  0.474439\n",
       "2001Q2  0.420986  0.135564 -0.134891  0.474439\n",
       "2001Q3  0.420986  0.135564 -0.134891  0.474439\n",
       "2001Q4 -0.189044 -0.267136 -0.410124 -0.057843"
      ]
     },
     "execution_count": 17,
     "metadata": {},
     "output_type": "execute_result"
    }
   ],
   "source": [
    "annual_frame.resample('Q-DEC', convention='end').ffill()"
   ]
  },
  {
   "cell_type": "code",
   "execution_count": null,
   "metadata": {
    "collapsed": true
   },
   "outputs": [],
   "source": []
  },
  {
   "cell_type": "code",
   "execution_count": null,
   "metadata": {
    "collapsed": true
   },
   "outputs": [],
   "source": []
  },
  {
   "cell_type": "code",
   "execution_count": null,
   "metadata": {},
   "outputs": [],
   "source": []
  }
 ],
 "metadata": {
  "kernelspec": {
   "display_name": "Python 3",
   "language": "python",
   "name": "python3"
  },
  "language_info": {
   "codemirror_mode": {
    "name": "ipython",
    "version": 3
   },
   "file_extension": ".py",
   "mimetype": "text/x-python",
   "name": "python",
   "nbconvert_exporter": "python",
   "pygments_lexer": "ipython3",
   "version": "3.7.0"
  }
 },
 "nbformat": 4,
 "nbformat_minor": 2
}
