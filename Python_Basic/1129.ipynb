{
 "cells": [
  {
   "cell_type": "markdown",
   "metadata": {},
   "source": [
    "# **Basic python 11/29**\n",
    "https://reurl.cc/yQ1Ql"
   ]
  },
  {
   "cell_type": "markdown",
   "metadata": {},
   "source": [
    "## **Q&A**"
   ]
  },
  {
   "cell_type": "markdown",
   "metadata": {},
   "source": [
    "##### 函數是什麼 : 用函數做一件事，解決特定問題\n",
    "##### 呼叫函數錯誤 : 可能沒有import或沒有def\n",
    "##### dict 跟 list : dict有key+value，key不能變動；list是串列，裡面元素非唯一\n",
    "##### list/dict可包含list/dist\n",
    "##### list/dict 使用情境 : list可能是做連續行運算的時候用list，存的是差不多型態的資料 ； 儲存資料(像客戶資料)時則可用dict "
   ]
  },
  {
   "cell_type": "markdown",
   "metadata": {},
   "source": [
    "## **快捷鍵**\n",
    "##### **ctrl + ? 快速註解/解除註解**\n",
    "##### **在欄上，a : 往前+1欄 / b:往後+1欄 / dd:刪除1欄**"
   ]
  },
  {
   "cell_type": "markdown",
   "metadata": {},
   "source": [
    "## **For loop**"
   ]
  },
  {
   "cell_type": "code",
   "execution_count": 154,
   "metadata": {},
   "outputs": [
    {
     "name": "stdout",
     "output_type": "stream",
     "text": [
      "0\n",
      "1\n",
      "2\n",
      "3\n",
      "4\n",
      "5\n"
     ]
    }
   ],
   "source": [
    "for x in range(6):\n",
    "    print(x)"
   ]
  },
  {
   "cell_type": "code",
   "execution_count": 73,
   "metadata": {},
   "outputs": [
    {
     "name": "stdout",
     "output_type": "stream",
     "text": [
      "15\n"
     ]
    }
   ],
   "source": [
    "sum = 0\n",
    "for x in range(6):\n",
    "    sum = sum + x\n",
    "print(sum)"
   ]
  },
  {
   "cell_type": "code",
   "execution_count": 44,
   "metadata": {},
   "outputs": [
    {
     "name": "stdout",
     "output_type": "stream",
     "text": [
      "I\n",
      "love\n",
      "Python\n"
     ]
    }
   ],
   "source": [
    "_list_ = ['I','love','Python']\n",
    "for x in _list_:\n",
    "    print(x)"
   ]
  },
  {
   "cell_type": "code",
   "execution_count": 104,
   "metadata": {},
   "outputs": [
    {
     "name": "stdout",
     "output_type": "stream",
     "text": [
      "1 * 1 = 1 2 * 1 = 2 3 * 1 = 3 4 * 1 = 4 5 * 1 = 5 6 * 1 = 6 7 * 1 = 7 8 * 1 = 8 9 * 1 = 9 \n",
      "1 * 2 = 2 2 * 2 = 4 3 * 2 = 6 4 * 2 = 8 5 * 2 = 10 6 * 2 = 12 7 * 2 = 14 8 * 2 = 16 9 * 2 = 18 \n",
      "1 * 3 = 3 2 * 3 = 6 3 * 3 = 9 4 * 3 = 12 5 * 3 = 15 6 * 3 = 18 7 * 3 = 21 8 * 3 = 24 9 * 3 = 27 \n",
      "1 * 4 = 4 2 * 4 = 8 3 * 4 = 12 4 * 4 = 16 5 * 4 = 20 6 * 4 = 24 7 * 4 = 28 8 * 4 = 32 9 * 4 = 36 \n",
      "1 * 5 = 5 2 * 5 = 10 3 * 5 = 15 4 * 5 = 20 5 * 5 = 25 6 * 5 = 30 7 * 5 = 35 8 * 5 = 40 9 * 5 = 45 \n",
      "1 * 6 = 6 2 * 6 = 12 3 * 6 = 18 4 * 6 = 24 5 * 6 = 30 6 * 6 = 36 7 * 6 = 42 8 * 6 = 48 9 * 6 = 54 \n",
      "1 * 7 = 7 2 * 7 = 14 3 * 7 = 21 4 * 7 = 28 5 * 7 = 35 6 * 7 = 42 7 * 7 = 49 8 * 7 = 56 9 * 7 = 63 \n",
      "1 * 8 = 8 2 * 8 = 16 3 * 8 = 24 4 * 8 = 32 5 * 8 = 40 6 * 8 = 48 7 * 8 = 56 8 * 8 = 64 9 * 8 = 72 \n",
      "1 * 9 = 9 2 * 9 = 18 3 * 9 = 27 4 * 9 = 36 5 * 9 = 45 6 * 9 = 54 7 * 9 = 63 8 * 9 = 72 9 * 9 = 81 \n"
     ]
    }
   ],
   "source": [
    "# 巢狀迴圈\n",
    "for y in range(1,10):\n",
    "    for x in range(1,10):\n",
    "        print ( x,'*',y,\"=\",x*y,end=\" \")\n",
    "    print()"
   ]
  },
  {
   "cell_type": "code",
   "execution_count": 111,
   "metadata": {},
   "outputs": [
    {
     "name": "stdout",
     "output_type": "stream",
     "text": [
      "1*1=1 2*1=2 3*1=3 4*1=4 5*1=5 6*1=6 7*1=7 8*1=8 9*1=9 \n",
      "1*2=2 2*2=4 3*2=6 4*2=8 5*2=10 6*2=12 7*2=14 8*2=16 9*2=18 \n",
      "1*3=3 2*3=6 3*3=9 4*3=12 5*3=15 6*3=18 7*3=21 8*3=24 9*3=27 \n",
      "1*4=4 2*4=8 3*4=12 4*4=16 5*4=20 6*4=24 7*4=28 8*4=32 9*4=36 \n",
      "1*5=5 2*5=10 3*5=15 4*5=20 5*5=25 6*5=30 7*5=35 8*5=40 9*5=45 \n",
      "1*6=6 2*6=12 3*6=18 4*6=24 5*6=30 6*6=36 7*6=42 8*6=48 9*6=54 \n",
      "1*7=7 2*7=14 3*7=21 4*7=28 5*7=35 6*7=42 7*7=49 8*7=56 9*7=63 \n",
      "1*8=8 2*8=16 3*8=24 4*8=32 5*8=40 6*8=48 7*8=56 8*8=64 9*8=72 \n",
      "1*9=9 2*9=18 3*9=27 4*9=36 5*9=45 6*9=54 7*9=63 8*9=72 9*9=81 \n"
     ]
    }
   ],
   "source": [
    "for i in range(1,10):\n",
    "    s = ''\n",
    "    for j in range(1,10):\n",
    "        s +=str(j) + '*' + str(i) + '=' +str(j*i)+' '\n",
    "    print(s)"
   ]
  },
  {
   "cell_type": "markdown",
   "metadata": {},
   "source": [
    "#### **最大公因數作業**"
   ]
  },
  {
   "cell_type": "code",
   "execution_count": 40,
   "metadata": {},
   "outputs": [
    {
     "name": "stdout",
     "output_type": "stream",
     "text": [
      "The gcd of a and b is : 11\n"
     ]
    }
   ],
   "source": [
    "# Python code to demonstrate naive \n",
    "# method to compute gcd ( recursion ) \n",
    "  \n",
    "def gcd(a,b): \n",
    "    a, b = (a, b) if a >=b else (b, a)\n",
    "    if a%b==0: \n",
    "        return b \n",
    "    else: \n",
    "        return gcd(b,a%b) \n",
    "  \n",
    "  \n",
    "# prints 12 \n",
    "print (\"The gcd of a and b is : \",end=\"\") \n",
    "print (gcd(22,121)) "
   ]
  },
  {
   "cell_type": "markdown",
   "metadata": {},
   "source": [
    "## **補充**\n",
    "##### **String_strip : 去除空白、換行符號、指定字串**"
   ]
  },
  {
   "cell_type": "code",
   "execution_count": 1,
   "metadata": {},
   "outputs": [],
   "source": [
    "s = ' \\nI love python '"
   ]
  },
  {
   "cell_type": "code",
   "execution_count": 2,
   "metadata": {},
   "outputs": [
    {
     "name": "stdout",
     "output_type": "stream",
     "text": [
      "I love python\n",
      "I love python\n"
     ]
    }
   ],
   "source": [
    "ss = s.strip() #不是直接修改s\n",
    "si = ss.strip('i')\n",
    "print(ss)\n",
    "print(si)"
   ]
  },
  {
   "cell_type": "code",
   "execution_count": 5,
   "metadata": {},
   "outputs": [
    {
     "data": {
      "text/plain": [
       "'I love python'"
      ]
     },
     "execution_count": 5,
     "metadata": {},
     "output_type": "execute_result"
    }
   ],
   "source": [
    "a = ' \\n iiiiiiiiI love python '\n",
    "aa = a.strip()\n",
    "ai = aa.strip('i')\n",
    "ai"
   ]
  },
  {
   "cell_type": "markdown",
   "metadata": {},
   "source": [
    "##### **string_split : 分隔為串列，或依照指定字串切割**"
   ]
  },
  {
   "cell_type": "code",
   "execution_count": 8,
   "metadata": {},
   "outputs": [
    {
     "name": "stdout",
     "output_type": "stream",
     "text": [
      "['I', 'love', 'python']\n"
     ]
    }
   ],
   "source": [
    "s_list = ss.split()\n",
    "#s_list_o  = ss.split('o')\n",
    "print(s_list)"
   ]
  },
  {
   "cell_type": "code",
   "execution_count": 4,
   "metadata": {},
   "outputs": [
    {
     "data": {
      "text/plain": [
       "'python'"
      ]
     },
     "execution_count": 4,
     "metadata": {},
     "output_type": "execute_result"
    }
   ],
   "source": [
    "mail = 'python@gmail.com'\n",
    "mail = mail.split('@')\n",
    "mail = mail[0] # 可取出電子郵件名字\n",
    "mail"
   ]
  },
  {
   "cell_type": "code",
   "execution_count": 5,
   "metadata": {},
   "outputs": [
    {
     "data": {
      "text/plain": [
       "'11'"
      ]
     },
     "execution_count": 5,
     "metadata": {},
     "output_type": "execute_result"
    }
   ],
   "source": [
    "date = '2018/11/29'\n",
    "month = date.split('/')[1]\n",
    "month"
   ]
  },
  {
   "cell_type": "markdown",
   "metadata": {},
   "source": [
    "##### **string_replace**"
   ]
  },
  {
   "cell_type": "code",
   "execution_count": 6,
   "metadata": {},
   "outputs": [],
   "source": [
    "s = ' \\nI love python '\n",
    "ss = s.strip()"
   ]
  },
  {
   "cell_type": "code",
   "execution_count": 7,
   "metadata": {},
   "outputs": [
    {
     "data": {
      "text/plain": [
       "'I love NCU'"
      ]
     },
     "execution_count": 7,
     "metadata": {},
     "output_type": "execute_result"
    }
   ],
   "source": [
    "ss.replace('python', 'NCU')\n",
    "# s.replace('o', '0')"
   ]
  },
  {
   "cell_type": "code",
   "execution_count": 8,
   "metadata": {},
   "outputs": [
    {
     "data": {
      "text/plain": [
       "'0912345678'"
      ]
     },
     "execution_count": 8,
     "metadata": {},
     "output_type": "execute_result"
    }
   ],
   "source": [
    "cell = '+886912345678'\n",
    "cell.replace('+886','0')\n",
    "# print(cell.replace('+886','0'))\n",
    "# print(cell)"
   ]
  },
  {
   "cell_type": "markdown",
   "metadata": {},
   "source": [
    "##### **len() & str()**"
   ]
  },
  {
   "cell_type": "code",
   "execution_count": 17,
   "metadata": {},
   "outputs": [
    {
     "name": "stdout",
     "output_type": "stream",
     "text": [
      "我不知道要打什麼 123\n"
     ]
    }
   ],
   "source": [
    "#print(123)\n",
    "#print('我不知道要打什麼' + 123)\n",
    "#print('我不知道要打什麼' + str(123))\n",
    "print('我不知道要打什麼', 123) #不需要做形別轉換"
   ]
  },
  {
   "cell_type": "code",
   "execution_count": 10,
   "metadata": {},
   "outputs": [
    {
     "data": {
      "text/plain": [
       "3"
      ]
     },
     "execution_count": 10,
     "metadata": {},
     "output_type": "execute_result"
    }
   ],
   "source": [
    "len(['p','y','o'])\n",
    "# len('ytjhk')"
   ]
  },
  {
   "cell_type": "markdown",
   "metadata": {},
   "source": [
    "#### **練習，計算詞頻**"
   ]
  },
  {
   "cell_type": "code",
   "execution_count": 193,
   "metadata": {},
   "outputs": [
    {
     "name": "stdout",
     "output_type": "stream",
     "text": [
      "{'I': 1, 'like': 1, 'python': 2, 'because': 1, 'has': 1, 'full': 1, 'plugins.': 1, 'And': 1, 'Using': 1, 'plugins': 1, 'can': 1, 'save': 1, 'our': 1, 'much': 1, 'time.': 1}\n"
     ]
    }
   ],
   "source": [
    "context = 'I like python because python has full plugins. And Using plugins can save our much time.'\n",
    "con = context.split()\n",
    "dict_context = {}\n",
    "for x in con:\n",
    "    dict_context[x] = con.count(x)\n",
    "print(dict_context)    "
   ]
  },
  {
   "cell_type": "code",
   "execution_count": 19,
   "metadata": {},
   "outputs": [
    {
     "name": "stdout",
     "output_type": "stream",
     "text": [
      "{'I': 1, 'like': 1, 'python': 2, 'because': 1, 'has': 1, 'full': 1, 'plugins.': 1, 'And': 1, 'Using': 1, 'plugins': 1, 'can': 1, 'save': 1, 'our': 1, 'much': 1, 'time.': 1}\n"
     ]
    },
    {
     "data": {
      "text/plain": [
       "{'I': 1,\n",
       " 'like': 1,\n",
       " 'python': 2,\n",
       " 'because': 1,\n",
       " 'has': 1,\n",
       " 'full': 1,\n",
       " 'plugins.': 1,\n",
       " 'And': 1,\n",
       " 'Using': 1,\n",
       " 'plugins': 1,\n",
       " 'can': 1,\n",
       " 'save': 1,\n",
       " 'our': 1,\n",
       " 'much': 1,\n",
       " 'time.': 1}"
      ]
     },
     "execution_count": 19,
     "metadata": {},
     "output_type": "execute_result"
    }
   ],
   "source": [
    "text = 'I like python because python has full plugins. And Using plugins can save our much time.'\n",
    "dict_text = {} #建一個空dict\n",
    "for word in text.split():\n",
    "    if word not in dict_text:\n",
    "        dict_text[word] = 1\n",
    "    else:\n",
    "        dict_text[word] += 1\n",
    "print(dict_text)\n",
    "dict_text"
   ]
  },
  {
   "cell_type": "code",
   "execution_count": 20,
   "metadata": {},
   "outputs": [
    {
     "name": "stdout",
     "output_type": "stream",
     "text": [
      "{'If': 4, 'how': 1, 'quick': 4, 'then': 1, 'for': 1, 'end': 1, 'do': 1, 'if': 1}\n"
     ]
    }
   ],
   "source": [
    "a = 'If how quick then for end If do quick If quick If if quick' \n",
    "a_dict = {} \n",
    "for word in a.split():\n",
    "    if word not in a_dict:\n",
    "        a_dict[word] = 1\n",
    "    else:\n",
    "        a_dict[word] += 1\n",
    "print(a_dict)"
   ]
  },
  {
   "cell_type": "code",
   "execution_count": 21,
   "metadata": {},
   "outputs": [
    {
     "name": "stdout",
     "output_type": "stream",
     "text": [
      "{'quick': 1}\n"
     ]
    }
   ],
   "source": [
    "a_split = a.split()\n",
    "a_dict1 = {}\n",
    "if word in a_split:\n",
    "    a_dict1[word] = 1\n",
    "else:\n",
    "    a_dict[word] += 1\n",
    "print(a_dict1)"
   ]
  },
  {
   "cell_type": "markdown",
   "metadata": {},
   "source": [
    "##### **string + list : list中間加入分隔符號** "
   ]
  },
  {
   "cell_type": "code",
   "execution_count": 22,
   "metadata": {},
   "outputs": [
    {
     "data": {
      "text/plain": [
       "'2018.11.29'"
      ]
     },
     "execution_count": 22,
     "metadata": {},
     "output_type": "execute_result"
    }
   ],
   "source": [
    "date = '2018/11/29'\n",
    "date = date.split('/')\n",
    "'.'.join(date)\n",
    "#'～～'.join(date)"
   ]
  },
  {
   "cell_type": "markdown",
   "metadata": {},
   "source": [
    "##### **Data time : 日期格式**"
   ]
  },
  {
   "cell_type": "code",
   "execution_count": 23,
   "metadata": {},
   "outputs": [
    {
     "name": "stdout",
     "output_type": "stream",
     "text": [
      "2018/11/24 PM 04:04:04\n",
      "2018-11-24 16:04:04\n",
      "2018.11.24 16:04:04\n",
      "2018.11.24 16:04:04 PM\n"
     ]
    }
   ],
   "source": [
    "from datetime import datetime\n",
    "d = '2018/11/24 PM 04:04:04'\n",
    "d_format = datetime.strptime(d, '%Y/%m/%d %p %I:%M:%S') # 告訴系統現在的格式\n",
    "d_reformat = d_format.strftime('%Y.%m.%d %H:%M:%S')\n",
    "\n",
    "print(d)\n",
    "print(d_format)\n",
    "print(d_reformat)\n",
    "\n",
    "d_reformat = d_format.strftime('%Y.%m.%d %X %p')\n",
    "\n",
    "print(d_reformat)"
   ]
  },
  {
   "cell_type": "markdown",
   "metadata": {},
   "source": [
    "## **Google開放功能 : Colab**\n",
    "##### 看Pythibscript\\day3\n",
    "##### 代碼執行程序→更改運行類型 GPU/TPU"
   ]
  }
 ],
 "metadata": {
  "kernelspec": {
   "display_name": "Python 3",
   "language": "python",
   "name": "python3"
  },
  "language_info": {
   "codemirror_mode": {
    "name": "ipython",
    "version": 3
   },
   "file_extension": ".py",
   "mimetype": "text/x-python",
   "name": "python",
   "nbconvert_exporter": "python",
   "pygments_lexer": "ipython3",
   "version": "3.7.0"
  }
 },
 "nbformat": 4,
 "nbformat_minor": 2
}
