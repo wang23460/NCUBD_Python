{
 "cells": [
  {
   "cell_type": "code",
   "execution_count": 1,
   "metadata": {
    "colab": {},
    "colab_type": "code",
    "id": "Etse0uEsaUDH"
   },
   "outputs": [],
   "source": [
    "import numpy as np"
   ]
  },
  {
   "cell_type": "code",
   "execution_count": null,
   "metadata": {
    "colab": {},
    "colab_type": "code",
    "id": "YkVwNcfgaUDM",
    "outputId": "37ad3850-13e2-4f27-9bfd-92b9695fdaa7"
   },
   "outputs": [
    {
     "data": {
      "text/plain": [
       "array([[-0.69373163,  0.63480924,  0.51312454, -0.24276286],\n",
       "       [ 0.01353425, -1.3960528 , -1.53696376, -0.5352837 ],\n",
       "       [-1.06704351, -0.56479132, -0.45200991,  1.86296131],\n",
       "       [-0.86062909, -0.1385359 ,  0.91948897, -0.14092495]])"
      ]
     },
     "execution_count": 2,
     "metadata": {
      "tags": []
     },
     "output_type": "execute_result"
    }
   ],
   "source": [
    "# 用這方法來做隨機常態分配矩陣\n",
    "samples = np.random.normal(size=(4, 4))\n",
    "samples"
   ]
  },
  {
   "cell_type": "code",
   "execution_count": null,
   "metadata": {
    "colab": {},
    "colab_type": "code",
    "id": "lGqxCFqWaUDR",
    "outputId": "2d92650e-fdb8-4d6c-d84e-d4d5f28d9e79"
   },
   "outputs": [
    {
     "name": "stdout",
     "output_type": "stream",
     "text": [
      "800 ms ± 32.9 ms per loop (mean ± std. dev. of 7 runs, 1 loop each)\n",
      "30.6 ms ± 987 µs per loop (mean ± std. dev. of 7 runs, 10 loops each)\n"
     ]
    }
   ],
   "source": [
    "from random import normalvariate\n",
    "N = 1000000\n",
    "\n",
    "# 這邊就是在說numpy好棒棒他比較快。\n",
    "%timeit samples = [normalvariate(0, 1) for _ in range(N)]\n",
    "%timeit np.random.normal(size=N)\n"
   ]
  },
  {
   "cell_type": "code",
   "execution_count": null,
   "metadata": {
    "colab": {},
    "colab_type": "code",
    "id": "jhVbI0ThaUDV",
    "outputId": "2a3d5f9d-b83c-4431-dbb8-135d29bb1e37"
   },
   "outputs": [
    {
     "data": {
      "text/plain": [
       "array([ 0.47143516, -1.19097569,  1.43270697, -0.3126519 , -0.72058873,\n",
       "        0.88716294,  0.85958841, -0.6365235 ,  0.01569637, -2.24268495])"
      ]
     },
     "execution_count": 10,
     "metadata": {
      "tags": []
     },
     "output_type": "execute_result"
    }
   ],
   "source": [
    "#seed 固定隨機的起始點，讓每次隨機產生的結果一樣\n",
    "# You can change NumPy’s random number generation seed using np.random.seed\n",
    "np.random.seed(1234)\n",
    "\n",
    "# The data generation functions in numpy.random use a global random seed. To avoid global state,\n",
    "# you can use numpy.random.RandomState to create a random number generator isolated from others\n",
    "rng = np.random.RandomState(1234)\n",
    "rng.randn(10)"
   ]
  },
  {
   "cell_type": "code",
   "execution_count": null,
   "metadata": {
    "colab": {},
    "colab_type": "code",
    "id": "DiFjydDOaUDY"
   },
   "outputs": [],
   "source": [
    "'''\n",
    "\n",
    "Table 4-8. Partial list of numpy.random functions\n",
    "\n",
    "'''"
   ]
  },
  {
   "cell_type": "code",
   "execution_count": 15,
   "metadata": {},
   "outputs": [
    {
     "data": {
      "text/plain": [
       "array([[[-1.56035211, -0.0309776 , -0.62092842],\n",
       "        [-1.46458049,  1.41194612, -0.47673214]],\n",
       "\n",
       "       [[-0.78046921,  1.07026774, -1.2822926 ],\n",
       "        [-1.3274789 ,  0.12633764,  0.86219372]]])"
      ]
     },
     "execution_count": 15,
     "metadata": {},
     "output_type": "execute_result"
    }
   ],
   "source": [
    "rng = np.random.RandomState(50)\n",
    "rng1 = np.random.RandomState(48)\n",
    "rng.randn(2,2,3)"
   ]
  },
  {
   "cell_type": "code",
   "execution_count": 16,
   "metadata": {},
   "outputs": [
    {
     "data": {
      "text/plain": [
       "array([[[-0.99363132, -1.06340081, -0.63807592],\n",
       "        [ 1.06158869, -0.15740415,  1.09372848]],\n",
       "\n",
       "       [[-2.07485402,  0.70063301,  1.67463863],\n",
       "        [-0.39733411,  2.32379695, -0.99970063]]])"
      ]
     },
     "execution_count": 16,
     "metadata": {},
     "output_type": "execute_result"
    }
   ],
   "source": [
    "rng1.randn(2,2,3)"
   ]
  },
  {
   "cell_type": "code",
   "execution_count": 17,
   "metadata": {},
   "outputs": [],
   "source": [
    "result = rng.randn(2,2,3)*rng1.randn(2,2,3)"
   ]
  },
  {
   "cell_type": "code",
   "execution_count": 21,
   "metadata": {},
   "outputs": [
    {
     "data": {
      "text/plain": [
       "7.2252583709789793"
      ]
     },
     "execution_count": 21,
     "metadata": {},
     "output_type": "execute_result"
    }
   ],
   "source": [
    "result.sum()"
   ]
  },
  {
   "cell_type": "code",
   "execution_count": null,
   "metadata": {},
   "outputs": [],
   "source": []
  }
 ],
 "metadata": {
  "colab": {
   "name": "4.6 Pseudorandom Number Generation.ipynb",
   "provenance": [],
   "version": "0.3.2"
  },
  "kernelspec": {
   "display_name": "Python 3",
   "language": "python",
   "name": "python3"
  },
  "language_info": {
   "codemirror_mode": {
    "name": "ipython",
    "version": 3
   },
   "file_extension": ".py",
   "mimetype": "text/x-python",
   "name": "python",
   "nbconvert_exporter": "python",
   "pygments_lexer": "ipython3",
   "version": "3.7.0"
  }
 },
 "nbformat": 4,
 "nbformat_minor": 2
}
