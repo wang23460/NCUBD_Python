{
 "cells": [
  {
   "cell_type": "code",
   "execution_count": 2,
   "metadata": {
    "colab": {},
    "colab_type": "code",
    "id": "c_q-J16JlH5U"
   },
   "outputs": [],
   "source": [
    "import numpy as np"
   ]
  },
  {
   "cell_type": "code",
   "execution_count": 102,
   "metadata": {
    "colab": {},
    "colab_type": "code",
    "id": "t2QQudz-lH5q",
    "outputId": "b0b0ce3b-7bbd-4cad-cba2-ed4f3e52253f"
   },
   "outputs": [
    {
     "data": {
      "text/plain": [
       "array([6. , 7.5, 8. , 0. , 1. ])"
      ]
     },
     "execution_count": 102,
     "metadata": {},
     "output_type": "execute_result"
    }
   ],
   "source": [
    "## Creating ndarrays\n",
    "'''\n",
    "將一個array用numpy的函式展現出來的話，numpy會提供一個新的numpy array來\n",
    "裝載他，並以浮點數的方式存放。\n",
    "'''\n",
    "data1 = [6, 7.5, 8, 0, 1]\n",
    "arr1 = np.array(data1)\n",
    "arr1"
   ]
  },
  {
   "cell_type": "code",
   "execution_count": 103,
   "metadata": {},
   "outputs": [
    {
     "data": {
      "text/plain": [
       "(5,)"
      ]
     },
     "execution_count": 103,
     "metadata": {},
     "output_type": "execute_result"
    }
   ],
   "source": [
    "# Shapes & Types of Array\n",
    "'''\n",
    "一個多維度矩陣(ndarray)會給予相同性質的data一個多維的容器，也就是說，所有的\n",
    "元素必須要是相同屬性(type)的。\n",
    "因此每個array都會擁有一個「Shape」，用tuple的方式來表示這個矩陣的維度，也會\n",
    "有一個「dtype」去描述這個矩陣的屬性。\n",
    "\n",
    "'''\n",
    "arr1.shape #數值"
   ]
  },
  {
   "cell_type": "code",
   "execution_count": 21,
   "metadata": {},
   "outputs": [
    {
     "data": {
      "text/plain": [
       "dtype('float64')"
      ]
     },
     "execution_count": 21,
     "metadata": {},
     "output_type": "execute_result"
    }
   ],
   "source": [
    "arr1.dtype #型態"
   ]
  },
  {
   "cell_type": "code",
   "execution_count": 112,
   "metadata": {
    "colab": {},
    "colab_type": "code",
    "id": "jb6d2OMglH5t",
    "outputId": "17140899-f62d-4c53-aa54-ec3150b80aaf"
   },
   "outputs": [
    {
     "data": {
      "text/plain": [
       "array([[1, 2, 3, 4],\n",
       "       [5, 6, 7, 8]])"
      ]
     },
     "execution_count": 112,
     "metadata": {},
     "output_type": "execute_result"
    }
   ],
   "source": [
    "# Nested sequences\n",
    "'''\n",
    "如果處理的多個相同長度的list，會被轉換成多維度的矩陣。\n",
    "'''\n",
    "data2 = [[1, 2, 3, 4], [5, 6, 7, 8]]\n",
    "arr_2 = np.array(data2)\n",
    "arr_2"
   ]
  },
  {
   "cell_type": "code",
   "execution_count": 113,
   "metadata": {
    "colab": {},
    "colab_type": "code",
    "id": "Dkh3OXKZlH52",
    "outputId": "64ad105e-83a4-4764-a152-abf953a96ba5"
   },
   "outputs": [
    {
     "data": {
      "text/plain": [
       "(2, 4)"
      ]
     },
     "execution_count": 113,
     "metadata": {},
     "output_type": "execute_result"
    }
   ],
   "source": [
    "arr_2.shape"
   ]
  },
  {
   "cell_type": "code",
   "execution_count": 105,
   "metadata": {
    "colab": {},
    "colab_type": "code",
    "id": "stBTez7mlH5-",
    "outputId": "a7bff3b6-c409-4172-a6d2-fbc5168cd718"
   },
   "outputs": [
    {
     "data": {
      "text/plain": [
       "dtype('float64')"
      ]
     },
     "execution_count": 105,
     "metadata": {},
     "output_type": "execute_result"
    }
   ],
   "source": [
    "arr2.dtype # int np array會找出最適合data的資料型態"
   ]
  },
  {
   "cell_type": "code",
   "execution_count": null,
   "metadata": {},
   "outputs": [],
   "source": [
    "# 輸出arr2有多少維度\n",
    "arr2.ndim"
   ]
  },
  {
   "cell_type": "code",
   "execution_count": 5,
   "metadata": {
    "colab": {},
    "colab_type": "code",
    "id": "juLJfKlXlH6B",
    "outputId": "1508156c-a01d-4251-fdc2-fcedad6ac125"
   },
   "outputs": [
    {
     "data": {
      "text/plain": [
       "array([0, 0, 0, 0, 0, 0, 0, 0, 0, 0])"
      ]
     },
     "execution_count": 5,
     "metadata": {},
     "output_type": "execute_result"
    }
   ],
   "source": [
    "# 其他創新矩陣的方法\n",
    "'''\n",
    "在np.array當中你有很多種不同的方式可以做出新矩陣，例如說重複使用零與一的方式來製作一個矩陣。\n",
    "你只要輸入參數到裡面np就會自動幫你輸出等量的零來製作一個矩陣。\n",
    "np.array, there are a number of other functions for creating new arrays.\n",
    "As examples, zeros and ones create arrays of 0s or 1s, respectively, with a given length or shape.\n",
    "\n",
    "'''\n",
    "np.zeros(10, dtype = int)"
   ]
  },
  {
   "cell_type": "code",
   "execution_count": null,
   "metadata": {
    "colab": {},
    "colab_type": "code",
    "id": "dahMabeIlH6D",
    "outputId": "097fad81-9de2-4abd-94c0-0fe2a9f8752c"
   },
   "outputs": [
    {
     "data": {
      "text/plain": [
       "array([[ 0.,  0.,  0.,  0.,  0.,  0.],\n",
       "       [ 0.,  0.,  0.,  0.,  0.,  0.],\n",
       "       [ 0.,  0.,  0.,  0.,  0.,  0.]])"
      ]
     },
     "execution_count": 14,
     "metadata": {
      "tags": []
     },
     "output_type": "execute_result"
    }
   ],
   "source": [
    "np.zeros((3,6))"
   ]
  },
  {
   "cell_type": "code",
   "execution_count": 7,
   "metadata": {},
   "outputs": [
    {
     "data": {
      "text/plain": [
       "array([[1., 1., 1., 1., 1.],\n",
       "       [1., 1., 1., 1., 1.],\n",
       "       [1., 1., 1., 1., 1.]], dtype=float32)"
      ]
     },
     "execution_count": 7,
     "metadata": {},
     "output_type": "execute_result"
    }
   ],
   "source": [
    "np.ones((3, 5), dtype = 'float32')"
   ]
  },
  {
   "cell_type": "code",
   "execution_count": 108,
   "metadata": {
    "colab": {},
    "colab_type": "code",
    "id": "1yaqurI-lH6H",
    "outputId": "4c557841-3708-4689-9767-16d64941b2c4"
   },
   "outputs": [
    {
     "data": {
      "text/plain": [
       "array([[[0., 0.],\n",
       "        [0., 0.],\n",
       "        [0., 0.]],\n",
       "\n",
       "       [[0., 0.],\n",
       "        [0., 0.],\n",
       "        [0., 0.]]])"
      ]
     },
     "execution_count": 108,
     "metadata": {},
     "output_type": "execute_result"
    }
   ],
   "source": [
    "'''\n",
    "empty可以拿來製作未經初始化的陣列。\n",
    "PS. It’s not safe to assume that np.empty will return an array of all zeros.\n",
    "In some cases, it may return uninitialized “garbage” values.\n",
    "如下：書上所產生的都是零，但是實際上跑出來的卻是拉機數據。\n",
    "\n",
    "＊np.empty創造二十四個元素均為未初始化的值\n",
    "'''\n",
    "a = np.empty((2,3,2))     #兩個3*2的矩陣合在一起的感覺\\\n",
    "a"
   ]
  },
  {
   "cell_type": "code",
   "execution_count": 107,
   "metadata": {},
   "outputs": [
    {
     "data": {
      "text/plain": [
       "(2, 3, 2)"
      ]
     },
     "execution_count": 107,
     "metadata": {},
     "output_type": "execute_result"
    }
   ],
   "source": [
    "a.shape"
   ]
  },
  {
   "cell_type": "code",
   "execution_count": 10,
   "metadata": {
    "colab": {},
    "colab_type": "code",
    "id": "wg3rjSw2lH6L",
    "outputId": "65f4f4a0-998c-4ad0-93c1-8f00408025a3"
   },
   "outputs": [
    {
     "data": {
      "text/plain": [
       "array([15, 17, 19, 21, 23, 25, 27, 29, 31])"
      ]
     },
     "execution_count": 10,
     "metadata": {},
     "output_type": "execute_result"
    }
   ],
   "source": [
    "np.arange(15, 32, 2)"
   ]
  },
  {
   "cell_type": "code",
   "execution_count": 12,
   "metadata": {},
   "outputs": [
    {
     "data": {
      "text/plain": [
       "array([ 0.,  5., 10., 15., 20.])"
      ]
     },
     "execution_count": 12,
     "metadata": {},
     "output_type": "execute_result"
    }
   ],
   "source": [
    "np.linspace(0, 20, 5)"
   ]
  },
  {
   "cell_type": "code",
   "execution_count": 7,
   "metadata": {
    "colab": {},
    "colab_type": "code",
    "id": "BiejGI1HlH6O",
    "outputId": "82a65cda-4280-4b43-8c12-2159e5744f17"
   },
   "outputs": [
    {
     "data": {
      "text/plain": [
       "dtype('float64')"
      ]
     },
     "execution_count": 7,
     "metadata": {},
     "output_type": "execute_result"
    }
   ],
   "source": [
    "'''\n",
    "因為numpy較注重於\"numbrical computing\"，因此他所使用的函數常常會吐出float形態的輸出。\n",
    "如(圖4-1)\n",
    "'''\n",
    "## Data types for ndarrays\n",
    "# dtype 為 ndarry 的物件屬性\n",
    "# 指定ndarry之陣列資料型態屬性\n",
    "arr1 = np.array([1, 2, 3], dtype=np.float64) # np.array : Convert input data\n",
    "arr2 = np.array([1, 2, 3], dtype=np.int32)\n",
    "arr1.dtype"
   ]
  },
  {
   "cell_type": "code",
   "execution_count": null,
   "metadata": {
    "colab": {},
    "colab_type": "code",
    "id": "MCLpoao_lH6Q",
    "outputId": "a3a516a4-8423-4eae-8b5e-643bb743aa81"
   },
   "outputs": [
    {
     "data": {
      "text/plain": [
       "dtype('int32')"
      ]
     },
     "execution_count": 18,
     "metadata": {
      "tags": []
     },
     "output_type": "execute_result"
    }
   ],
   "source": [
    "arr2.dtype"
   ]
  },
  {
   "cell_type": "code",
   "execution_count": 11,
   "metadata": {},
   "outputs": [
    {
     "data": {
      "text/plain": [
       "dtype('int32')"
      ]
     },
     "execution_count": 11,
     "metadata": {},
     "output_type": "execute_result"
    }
   ],
   "source": [
    "ar = np.array([1,2,3,4,5,6,7])\n",
    "ar.dtype"
   ]
  },
  {
   "cell_type": "code",
   "execution_count": 14,
   "metadata": {
    "colab": {},
    "colab_type": "code",
    "id": "jpINtjD8lH6S",
    "outputId": "0956562e-64b7-41dc-ca5e-1714e0d74f2a"
   },
   "outputs": [
    {
     "data": {
      "text/plain": [
       "dtype('int64')"
      ]
     },
     "execution_count": 14,
     "metadata": {},
     "output_type": "execute_result"
    }
   ],
   "source": [
    "'''\n",
    "numpy當中有很多不同的data types，如(圖4-2)，假如你是新手的話其實也不用那麼在意資料型態，\n",
    "除非你今天有必要處理大量的資料，那麼對於容量大小的控制你可能就要謹慎的選擇你的data type.\n",
    "'''\n",
    "\n",
    "# 陣列屬性為'int64'\n",
    "arr = np.array([1, 2, 3, 4, 5], dtype=np.int64)\n",
    "arr.dtype"
   ]
  },
  {
   "cell_type": "code",
   "execution_count": 15,
   "metadata": {
    "colab": {},
    "colab_type": "code",
    "id": "ETIq3FUglH6Y",
    "outputId": "7aa013bc-a15a-430b-c759-5717cca7ec3d"
   },
   "outputs": [
    {
     "data": {
      "text/plain": [
       "dtype('float64')"
      ]
     },
     "execution_count": 15,
     "metadata": {},
     "output_type": "execute_result"
    }
   ],
   "source": [
    "# 顯式轉換其dtype -> astype\n",
    "# 經過'astype'的轉換變成'float64'了\n",
    "float_arr = arr.astype(np.float64)\n",
    "float_arr.dtype"
   ]
  },
  {
   "cell_type": "code",
   "execution_count": 16,
   "metadata": {
    "colab": {},
    "colab_type": "code",
    "id": "BLG4URn2lH6b",
    "outputId": "7518e5bc-379a-460a-8537-0b7eabfdc56e"
   },
   "outputs": [
    {
     "data": {
      "text/plain": [
       "dtype('float64')"
      ]
     },
     "execution_count": 16,
     "metadata": {},
     "output_type": "execute_result"
    }
   ],
   "source": [
    "# 那如果我把原本是float的陣列轉換成int呢？\n",
    "arr = np.array([3.7, -1.2, -2.6, 0.5, 12.9, 10.1])\n",
    "arr.dtype"
   ]
  },
  {
   "cell_type": "code",
   "execution_count": 17,
   "metadata": {
    "colab": {},
    "colab_type": "code",
    "id": "_K2RdOWXlH6e",
    "outputId": "d302d62c-5cca-44ad-e8e8-29cec5e6e024"
   },
   "outputs": [
    {
     "data": {
      "text/plain": [
       "array([ 3, -1, -2,  0, 12, 10], dtype=int64)"
      ]
     },
     "execution_count": 17,
     "metadata": {},
     "output_type": "execute_result"
    }
   ],
   "source": [
    "# 他就會把尾數給去掉喔！真是聰明呢！\n",
    "arr.astype(np.int64) # 如果使用astype就一定會新增出一個新的array，就算舊的dtype跟新的完全一樣也是。"
   ]
  },
  {
   "cell_type": "code",
   "execution_count": 18,
   "metadata": {
    "colab": {},
    "colab_type": "code",
    "id": "H3pfEfC7lH6n",
    "outputId": "4d2aa8b8-c109-4be2-ce56-5cb874a757c3"
   },
   "outputs": [
    {
     "data": {
      "text/plain": [
       "array([         0, 1075314688,          0, 1075707904,          0,\n",
       "       1075838976,          0, 1072693248], dtype=uint32)"
      ]
     },
     "execution_count": 18,
     "metadata": {},
     "output_type": "execute_result"
    }
   ],
   "source": [
    "# Using \"Type code\"\n",
    "empty_uint32 = np.empty(8, dtype='u4') # 也可用簡潔類型程式碼來表示dtype，八個並且type為uint32\n",
    "empty_uint32"
   ]
  },
  {
   "cell_type": "code",
   "execution_count": 110,
   "metadata": {
    "colab": {},
    "colab_type": "code",
    "id": "yFeyds0glH6s",
    "outputId": "775a68f0-0dab-42ca-a33d-a1b630f307a0"
   },
   "outputs": [
    {
     "data": {
      "text/plain": [
       "array([[1., 2., 3.],\n",
       "       [4., 5., 6.]])"
      ]
     },
     "execution_count": 110,
     "metadata": {},
     "output_type": "execute_result"
    }
   ],
   "source": [
    "## Arithmetic with NumPy Arrays\n",
    "'''\n",
    "矩陣的重要性在於他們可以讓你不需要使用迴圈就可以操作了。NumPy使用者把這種特性稱為「vectorization」。\n",
    "相同大小的矩陣就可以直接依內部的元素直接進行操作。\n",
    "'''\n",
    "arr = np.array([[1., 2., 3.], [4., 5., 6.]])\n",
    "arr"
   ]
  },
  {
   "cell_type": "code",
   "execution_count": 20,
   "metadata": {
    "colab": {},
    "colab_type": "code",
    "id": "ZMD6XQ70lH6u",
    "outputId": "a96504d4-ace9-4ead-c080-82bf639cc67b"
   },
   "outputs": [
    {
     "data": {
      "text/plain": [
       "array([[ 1.,  4.,  9.],\n",
       "       [16., 25., 36.]])"
      ]
     },
     "execution_count": 20,
     "metadata": {},
     "output_type": "execute_result"
    }
   ],
   "source": [
    "arr * arr"
   ]
  },
  {
   "cell_type": "code",
   "execution_count": 21,
   "metadata": {
    "colab": {},
    "colab_type": "code",
    "id": "eTE_hHWLlH6x",
    "outputId": "a2e6eec7-e262-48fa-d38f-5f52b074a72e"
   },
   "outputs": [
    {
     "data": {
      "text/plain": [
       "array([[0., 0., 0.],\n",
       "       [0., 0., 0.]])"
      ]
     },
     "execution_count": 21,
     "metadata": {},
     "output_type": "execute_result"
    }
   ],
   "source": [
    "arr - arr"
   ]
  },
  {
   "cell_type": "code",
   "execution_count": 22,
   "metadata": {
    "colab": {},
    "colab_type": "code",
    "id": "RKoEsscElH62",
    "outputId": "b0b1bc56-fb91-4e04-9d68-b9e685bedb85"
   },
   "outputs": [
    {
     "data": {
      "text/plain": [
       "array([[ 0., -1., -2.],\n",
       "       [-3., -4., -5.]])"
      ]
     },
     "execution_count": 22,
     "metadata": {},
     "output_type": "execute_result"
    }
   ],
   "source": [
    "1 - arr"
   ]
  },
  {
   "cell_type": "code",
   "execution_count": 23,
   "metadata": {
    "colab": {},
    "colab_type": "code",
    "id": "hQOzC-DMlH65",
    "outputId": "1f5d7545-a067-4fdf-bc07-ae69d985a5bf"
   },
   "outputs": [
    {
     "data": {
      "text/plain": [
       "array([[1.        , 0.5       , 0.33333333],\n",
       "       [0.25      , 0.2       , 0.16666667]])"
      ]
     },
     "execution_count": 23,
     "metadata": {},
     "output_type": "execute_result"
    }
   ],
   "source": [
    "1 / arr"
   ]
  },
  {
   "cell_type": "code",
   "execution_count": null,
   "metadata": {
    "colab": {},
    "colab_type": "code",
    "id": "WaAboFwvlH67",
    "outputId": "59cbff3b-3cfe-48de-da12-4fc319459c29"
   },
   "outputs": [],
   "source": [
    "# 也可以拿他們來做布林運算喔！\n",
    "arr2 = np.array([[0., 4., 1.], [7., 2., 12.]])\n",
    "arr2"
   ]
  },
  {
   "cell_type": "code",
   "execution_count": 25,
   "metadata": {
    "colab": {},
    "colab_type": "code",
    "id": "lOK7MTCZlH6-",
    "outputId": "d8e4d9c4-c6d1-44dd-88ab-fae5a6a86c65"
   },
   "outputs": [
    {
     "data": {
      "text/plain": [
       "array([[ True, False,  True],\n",
       "       [False,  True, False]])"
      ]
     },
     "execution_count": 25,
     "metadata": {},
     "output_type": "execute_result"
    }
   ],
   "source": [
    "arr > arr2"
   ]
  },
  {
   "cell_type": "code",
   "execution_count": 116,
   "metadata": {
    "colab": {},
    "colab_type": "code",
    "id": "cPcGnww-lH7A",
    "outputId": "6df963d0-7d68-4c31-8fca-1418dce9b919"
   },
   "outputs": [
    {
     "data": {
      "text/plain": [
       "array([0, 1, 2, 3, 4, 5, 6, 7, 8, 9])"
      ]
     },
     "execution_count": 116,
     "metadata": {},
     "output_type": "execute_result"
    }
   ],
   "source": [
    "## Basic Indexing and Slicing\n",
    "arr = np.arange(10)\n",
    "arr"
   ]
  },
  {
   "cell_type": "code",
   "execution_count": 117,
   "metadata": {
    "colab": {},
    "colab_type": "code",
    "id": "Y7oyRaYllH7E",
    "outputId": "7693ea7b-804e-4007-a271-024b449159d1"
   },
   "outputs": [
    {
     "data": {
      "text/plain": [
       "5"
      ]
     },
     "execution_count": 117,
     "metadata": {},
     "output_type": "execute_result"
    }
   ],
   "source": [
    "arr[5]    #把第五個數字叫出來"
   ]
  },
  {
   "cell_type": "code",
   "execution_count": 118,
   "metadata": {
    "colab": {},
    "colab_type": "code",
    "id": "lcxGvHw7lH7G",
    "outputId": "0b842b18-a578-4728-bd14-886a1c979ae8"
   },
   "outputs": [
    {
     "data": {
      "text/plain": [
       "array([5, 6, 7])"
      ]
     },
     "execution_count": 118,
     "metadata": {},
     "output_type": "execute_result"
    }
   ],
   "source": [
    "arr[5:8]  #把大於等於五小於八的數字叫出來"
   ]
  },
  {
   "cell_type": "code",
   "execution_count": 119,
   "metadata": {
    "colab": {},
    "colab_type": "code",
    "id": "2cX96MPjlH7J",
    "outputId": "0791cf14-4823-4083-c6fc-a330c7149534"
   },
   "outputs": [
    {
     "data": {
      "text/plain": [
       "array([ 0,  1,  2,  3,  4, 12, 12, 12,  8,  9])"
      ]
     },
     "execution_count": 119,
     "metadata": {},
     "output_type": "execute_result"
    }
   ],
   "source": [
    "arr[5:8] = 12  # 更改內容成為12\n",
    "arr"
   ]
  },
  {
   "cell_type": "code",
   "execution_count": 120,
   "metadata": {
    "colab": {},
    "colab_type": "code",
    "id": "Xg9L5cm7lH7M",
    "outputId": "9619596e-7f78-41d1-c9cb-0e01dde6be14"
   },
   "outputs": [
    {
     "data": {
      "text/plain": [
       "array([12, 12, 12])"
      ]
     },
     "execution_count": 120,
     "metadata": {},
     "output_type": "execute_result"
    }
   ],
   "source": [
    "# 這個時候數值是已經被更改的狀態了，所以假設你再從中將其提出來的話\n",
    "get_array = arr[5:8]\n",
    "get_array\n",
    "# 都變成12囉喔喔喔喔喔"
   ]
  },
  {
   "cell_type": "code",
   "execution_count": 121,
   "metadata": {
    "colab": {},
    "colab_type": "code",
    "id": "UjzHwp8mlH7Q",
    "outputId": "c100ed23-bd87-4a07-ba54-f2ef90d8ae51"
   },
   "outputs": [
    {
     "data": {
      "text/plain": [
       "array([ 0,  1,  2,  3,  4, 12, 12, 12,  8,  9])"
      ]
     },
     "execution_count": 121,
     "metadata": {},
     "output_type": "execute_result"
    }
   ],
   "source": [
    "arr\n",
    "# 沒有錯，他與先前所製作的array是連動的，一個指標的概念，是不是很棒呢？"
   ]
  },
  {
   "cell_type": "code",
   "execution_count": 58,
   "metadata": {
    "colab": {},
    "colab_type": "code",
    "id": "eWXt7fz8lH7V",
    "outputId": "a222474c-ff83-41f9-cf21-6675de270858"
   },
   "outputs": [
    {
     "data": {
      "text/plain": [
       "array([9527, 9527, 9527])"
      ]
     },
     "execution_count": 58,
     "metadata": {},
     "output_type": "execute_result"
    }
   ],
   "source": [
    "# 完全沒有範圍的矩陣(bare-slice)會等同全部都更改了\n",
    "get_array[:] = 9527\n",
    "get_array"
   ]
  },
  {
   "cell_type": "code",
   "execution_count": 122,
   "metadata": {},
   "outputs": [
    {
     "data": {
      "text/plain": [
       "[5]"
      ]
     },
     "execution_count": 122,
     "metadata": {},
     "output_type": "execute_result"
    }
   ],
   "source": [
    "list1 = list(range(5))\n",
    "list1[1:2] = (2,2)\n",
    "list2 = list1[1:2]\n",
    "list2[0] = 5\n",
    "list2"
   ]
  },
  {
   "cell_type": "code",
   "execution_count": 59,
   "metadata": {
    "colab": {},
    "colab_type": "code",
    "id": "SR8dvmcQlH7X",
    "outputId": "945bc1f5-a66d-46df-e0d7-2b629ae5191f"
   },
   "outputs": [
    {
     "data": {
      "text/plain": [
       "array([9527, 9527, 9527])"
      ]
     },
     "execution_count": 59,
     "metadata": {},
     "output_type": "execute_result"
    }
   ],
   "source": [
    "'''\n",
    "大部分的語言都跟這種傳值方式不太一樣，大多是採用copy的方式去做更換會比較多，\n",
    "但是在numpy裡面，他被設計成能夠去處理「大型矩陣」，因此假如使用大量copy的方\n",
    "式，可想而知他的效能會變得多低了。\n",
    "\n",
    "那假如不想要連動，可以使用\"copy()\"\n",
    "'''\n",
    "arr[5:8].copy()"
   ]
  },
  {
   "cell_type": "code",
   "execution_count": 88,
   "metadata": {
    "colab": {},
    "colab_type": "code",
    "id": "mHGIQvdDlH7d",
    "outputId": "dabce871-daaa-416c-9328-606016133228"
   },
   "outputs": [
    {
     "data": {
      "text/plain": [
       "array([[1, 2, 3],\n",
       "       [4, 5, 6]])"
      ]
     },
     "execution_count": 88,
     "metadata": {},
     "output_type": "execute_result"
    }
   ],
   "source": [
    "# 越高維度的array你擁有的選項就越多，像是在2維矩陣中，你如果只找出其中一個值，\n",
    "# 他不會吐出單一數值，而是會給你一個一維矩陣。\n",
    "arr2d = np.array([[1, 2, 3], [4, 5, 6], [7, 8, 9]])\n",
    "arr2d[:2]"
   ]
  },
  {
   "cell_type": "code",
   "execution_count": 125,
   "metadata": {
    "colab": {},
    "colab_type": "code",
    "id": "tsk-XzHelH7f",
    "outputId": "bc93a510-9626-4dc3-98be-8ef3ebeb35b2"
   },
   "outputs": [
    {
     "data": {
      "text/plain": [
       "4"
      ]
     },
     "execution_count": 125,
     "metadata": {},
     "output_type": "execute_result"
    }
   ],
   "source": [
    "# 因此你如果想要找出其中一個值，你可以用重複尋找的方式去找，但這樣太憨了，\n",
    "# 你可以改用下列這兩種方式來做\n",
    "arr2d[0][2]\n",
    "# arr2d[1][0]"
   ]
  },
  {
   "cell_type": "code",
   "execution_count": 62,
   "metadata": {
    "colab": {},
    "colab_type": "code",
    "id": "LVJ8l7ntlH7l",
    "outputId": "3c0f94f6-7e4f-4e77-c66d-0715ab32a6bc"
   },
   "outputs": [
    {
     "data": {
      "text/plain": [
       "3"
      ]
     },
     "execution_count": 62,
     "metadata": {},
     "output_type": "execute_result"
    }
   ],
   "source": [
    "arr2d[0,2]"
   ]
  },
  {
   "cell_type": "code",
   "execution_count": 18,
   "metadata": {
    "colab": {},
    "colab_type": "code",
    "id": "VyLgwkc5lH7o",
    "outputId": "c874c281-b957-4368-bca2-336aff6b4f34"
   },
   "outputs": [
    {
     "data": {
      "text/plain": [
       "array([[[ 1,  2,  3],\n",
       "        [ 4,  5,  6]],\n",
       "\n",
       "       [[ 7,  8,  9],\n",
       "        [10, 11, 12]]])"
      ]
     },
     "execution_count": 18,
     "metadata": {},
     "output_type": "execute_result"
    }
   ],
   "source": [
    "'''\n",
    "如果你不知道該怎麼分row跟column的話，就看個圖吧\n",
    " ___________\n",
    "|rows  ->   |c  |\n",
    "|           |o  V\n",
    "|           |l\n",
    "|           |u\n",
    "|           |m\n",
    "|___________|n\n",
    "\n",
    "在python裡面的矩陣nXm （n先向下看，m再向右看）[**先看幾Rows(列)，在看幾Column（行）**]\n",
    "'''\n",
    "arr3d = np.array([[[1, 2, 3], [4, 5, 6]], [[7, 8, 9], [10, 11, 12]]])\n",
    "arr3d\n",
    "#arr3d.shape"
   ]
  },
  {
   "cell_type": "code",
   "execution_count": 127,
   "metadata": {
    "colab": {},
    "colab_type": "code",
    "id": "3O0LTSS3lH7q",
    "outputId": "b6eeb0c3-c914-4d2e-a188-46b4518bc446"
   },
   "outputs": [
    {
     "data": {
      "text/plain": [
       "array([[1, 2, 3],\n",
       "       [4, 5, 6]])"
      ]
     },
     "execution_count": 127,
     "metadata": {},
     "output_type": "execute_result"
    }
   ],
   "source": [
    "arr3d[0]  # 三維的第一個，就是二維的所以輸出二維陣列"
   ]
  },
  {
   "cell_type": "code",
   "execution_count": 20,
   "metadata": {
    "colab": {},
    "colab_type": "code",
    "id": "nyMFgRVilH7s",
    "outputId": "1842723e-5f39-4aba-e7e7-7437602fc277"
   },
   "outputs": [
    {
     "data": {
      "text/plain": [
       "array([[[42, 42, 42],\n",
       "        [42, 42, 42]],\n",
       "\n",
       "       [[ 7,  8,  9],\n",
       "        [10, 11, 12]]])"
      ]
     },
     "execution_count": 20,
     "metadata": {},
     "output_type": "execute_result"
    }
   ],
   "source": [
    "# 不管是單ㄧ值或是矩陣都可以被寫入arr3d[0]\n",
    "old_values = arr3d[0].copy()\n",
    "arr3d[0] = 42 # 單一值\n",
    "arr3d"
   ]
  },
  {
   "cell_type": "code",
   "execution_count": 22,
   "metadata": {
    "colab": {},
    "colab_type": "code",
    "id": "3i0_Faq4lH7u",
    "outputId": "f7198da7-bd84-48bd-b8e6-803d64cd6756"
   },
   "outputs": [
    {
     "data": {
      "text/plain": [
       "array([[[ 1,  2,  3],\n",
       "        [ 4,  5,  6]],\n",
       "\n",
       "       [[ 7,  8,  9],\n",
       "        [10, 11, 12]]])"
      ]
     },
     "execution_count": 22,
     "metadata": {},
     "output_type": "execute_result"
    }
   ],
   "source": [
    "old_values   # 矩陣\n",
    "arr3d[0] = old_values\n",
    "arr3d"
   ]
  },
  {
   "cell_type": "code",
   "execution_count": 94,
   "metadata": {
    "colab": {},
    "colab_type": "code",
    "id": "LfoPvqPxlH7w",
    "outputId": "e6b0bda1-6725-4ad5-c314-92e42458b552"
   },
   "outputs": [
    {
     "data": {
      "text/plain": [
       "array([[ 7,  8,  9],\n",
       "       [10, 11, 12]])"
      ]
     },
     "execution_count": 94,
     "metadata": {},
     "output_type": "execute_result"
    }
   ],
   "source": [
    "arr3d[1,:2] # 先找1在找0"
   ]
  },
  {
   "cell_type": "code",
   "execution_count": 70,
   "metadata": {
    "colab": {},
    "colab_type": "code",
    "id": "9Zr-6T_VlH75",
    "outputId": "5cce2a99-bb08-4896-bbdf-be3067043aa4"
   },
   "outputs": [
    {
     "data": {
      "text/plain": [
       "array([   0,    1,    2,    3,    4, 9527, 9527, 9527,    8,    9])"
      ]
     },
     "execution_count": 70,
     "metadata": {},
     "output_type": "execute_result"
    }
   ],
   "source": [
    "## Indexing with slices\n",
    "arr"
   ]
  },
  {
   "cell_type": "code",
   "execution_count": 71,
   "metadata": {
    "colab": {},
    "colab_type": "code",
    "id": "cewSvHkwlH76",
    "outputId": "e0d8714e-c79e-447e-9adc-572ff2d793f3"
   },
   "outputs": [
    {
     "data": {
      "text/plain": [
       "array([   1,    2,    3,    4, 9527])"
      ]
     },
     "execution_count": 71,
     "metadata": {},
     "output_type": "execute_result"
    }
   ],
   "source": [
    "# 跟一維矩陣一樣，也可以用ndarray作相似的切割\n",
    "arr[1:6]"
   ]
  },
  {
   "cell_type": "code",
   "execution_count": 131,
   "metadata": {
    "colab": {},
    "colab_type": "code",
    "id": "txGeuN1FlH77",
    "outputId": "9eb49ce5-d60c-4668-eeae-30d622675920"
   },
   "outputs": [
    {
     "data": {
      "text/plain": [
       "array([[1, 2, 3],\n",
       "       [4, 5, 6],\n",
       "       [7, 8, 9]])"
      ]
     },
     "execution_count": 131,
     "metadata": {},
     "output_type": "execute_result"
    }
   ],
   "source": [
    "arr2d = np.array([[1, 2, 3], [4, 5, 6], [7, 8, 9]])\n",
    "arr2d      # 拿之前的arr2d來當例子的話"
   ]
  },
  {
   "cell_type": "code",
   "execution_count": null,
   "metadata": {
    "colab": {},
    "colab_type": "code",
    "id": "TxyE52qjlH7_",
    "outputId": "6eb433e5-756c-4a52-8a5b-912c246da712"
   },
   "outputs": [
    {
     "data": {
      "text/plain": [
       "array([[1, 2, 3],\n",
       "       [4, 5, 6]])"
      ]
     },
     "execution_count": 56,
     "metadata": {
      "tags": []
     },
     "output_type": "execute_result"
    }
   ],
   "source": [
    "arr2d[:2]   # 0, 1 從最前面一直到小於2的地方\n",
    "            # 書上說就如同”select the first two rows of arr2d“"
   ]
  },
  {
   "cell_type": "code",
   "execution_count": 73,
   "metadata": {
    "colab": {},
    "colab_type": "code",
    "id": "N5S9cSsDlH8B",
    "outputId": "ba3b70d1-e00f-434c-f264-be9ad729b65e"
   },
   "outputs": [
    {
     "data": {
      "text/plain": [
       "array([[2, 3],\n",
       "       [5, 6]])"
      ]
     },
     "execution_count": 73,
     "metadata": {},
     "output_type": "execute_result"
    }
   ],
   "source": [
    "# 你也可以用這種方式來取得想要的矩陣\n",
    "arr2d[:2, 1:]"
   ]
  },
  {
   "cell_type": "code",
   "execution_count": null,
   "metadata": {
    "colab": {},
    "colab_type": "code",
    "id": "SINAeTrWlH8E",
    "outputId": "6f7b4dc6-f3ba-4d24-9e67-8e03914da994"
   },
   "outputs": [
    {
     "data": {
      "text/plain": [
       "array([4, 5])"
      ]
     },
     "execution_count": 58,
     "metadata": {
      "tags": []
     },
     "output_type": "execute_result"
    }
   ],
   "source": [
    "arr2d[1, :2]"
   ]
  },
  {
   "cell_type": "code",
   "execution_count": 77,
   "metadata": {
    "colab": {},
    "colab_type": "code",
    "id": "tyMcMAMwlH8F",
    "outputId": "5c4f64dd-cb73-4c7e-bb2d-f33b9c906bae"
   },
   "outputs": [
    {
     "data": {
      "text/plain": [
       "array([3, 6])"
      ]
     },
     "execution_count": 77,
     "metadata": {},
     "output_type": "execute_result"
    }
   ],
   "source": [
    "arr2d[:2, 2]"
   ]
  },
  {
   "cell_type": "code",
   "execution_count": null,
   "metadata": {
    "colab": {},
    "colab_type": "code",
    "id": "UYipQRJslH8H",
    "outputId": "93e17df9-3e15-4c07-ce35-84523a7fe728"
   },
   "outputs": [
    {
     "data": {
      "text/plain": [
       "array([[1],\n",
       "       [4],\n",
       "       [7]])"
      ]
     },
     "execution_count": 60,
     "metadata": {
      "tags": []
     },
     "output_type": "execute_result"
    }
   ],
   "source": [
    "arr2d[:, :1]"
   ]
  },
  {
   "cell_type": "code",
   "execution_count": 129,
   "metadata": {
    "colab": {},
    "colab_type": "code",
    "id": "hweFgbKvlH8J",
    "outputId": "fbad0a0b-5448-4f4b-8f15-b99f28f96cdd"
   },
   "outputs": [
    {
     "data": {
      "text/plain": [
       "array([[1, 1, 1],\n",
       "       [4, 1, 1],\n",
       "       [7, 8, 9]])"
      ]
     },
     "execution_count": 129,
     "metadata": {},
     "output_type": "execute_result"
    }
   ],
   "source": [
    "arr2d[:2, 1:] = 1\n",
    "arr2d"
   ]
  },
  {
   "cell_type": "code",
   "execution_count": 80,
   "metadata": {
    "colab": {},
    "colab_type": "code",
    "id": "GY0isCERlH8L",
    "outputId": "53c585b5-101a-4da7-a988-94d4c2a62546"
   },
   "outputs": [
    {
     "data": {
      "text/plain": [
       "array(['Bob', 'Joe', 'Will', 'Bob', 'Will', 'Joe', 'Joe'], dtype='<U4')"
      ]
     },
     "execution_count": 80,
     "metadata": {},
     "output_type": "execute_result"
    }
   ],
   "source": [
    "## Boolean Indexing 布林型索引\n",
    "\n",
    "# 在這裡我們用一個np.array來存放一些有重複的名字，並且做出一個7X4的隨機矩陣。\n",
    "\n",
    "names = np.array(['Bob', 'Joe', 'Will', 'Bob', 'Will', 'Joe', 'Joe'])\n",
    "data = np.random.randn(7,4) #使用numpy.random中的randn函數生成常態分佈的隨機資料\n",
    "names"
   ]
  },
  {
   "cell_type": "code",
   "execution_count": 81,
   "metadata": {
    "colab": {},
    "colab_type": "code",
    "id": "7tX0tfVflH8N",
    "outputId": "c5f93a88-7bd7-4ce6-f2c9-ccbf45813d14"
   },
   "outputs": [
    {
     "data": {
      "text/plain": [
       "array([[ 1.72764924,  0.63698236,  0.28644786,  0.54468223],\n",
       "       [ 0.03449321,  0.21510787,  0.01065171,  0.32555218],\n",
       "       [ 0.91959993,  0.04275693, -0.47841508, -0.16011462],\n",
       "       [-0.76906844,  1.09604459, -0.48872472, -1.20913929],\n",
       "       [-0.93163443,  0.83339235, -0.06041109,  0.7722885 ],\n",
       "       [-2.33089945, -0.29624945, -0.22738234,  0.35329254],\n",
       "       [-0.52597578,  0.38387173,  0.37593967, -1.04738471]])"
      ]
     },
     "execution_count": 81,
     "metadata": {},
     "output_type": "execute_result"
    }
   ],
   "source": [
    "data"
   ]
  },
  {
   "cell_type": "code",
   "execution_count": 82,
   "metadata": {
    "colab": {},
    "colab_type": "code",
    "id": "t5DQWjpvlH8P",
    "outputId": "fa9deabf-7da4-434f-d2ec-c7cc1c1408b7"
   },
   "outputs": [
    {
     "data": {
      "text/plain": [
       "array([ True, False, False,  True, False, False, False])"
      ]
     },
     "execution_count": 82,
     "metadata": {},
     "output_type": "execute_result"
    }
   ],
   "source": [
    "# 可以利用布林運算來找出哪裡含有\"Bob\", 對names和Bob的比較運算會產生布林型陣列\n",
    "names == \"Bob\""
   ]
  },
  {
   "cell_type": "code",
   "execution_count": 83,
   "metadata": {
    "colab": {
     "base_uri": "https://localhost:8080/",
     "height": 170
    },
    "colab_type": "code",
    "executionInfo": {
     "elapsed": 711,
     "status": "error",
     "timestamp": 1537780707944,
     "user": {
      "displayName": "張櫻瀞",
      "photoUrl": "",
      "userId": "17228447197603340924"
     },
     "user_tz": -480
    },
    "id": "u6BtHCnolH8T",
    "outputId": "8babbc01-0433-45fe-e3db-43d99a63e14a"
   },
   "outputs": [
    {
     "data": {
      "text/plain": [
       "array([[ 1.72764924,  0.63698236,  0.28644786,  0.54468223],\n",
       "       [-0.76906844,  1.09604459, -0.48872472, -1.20913929]])"
      ]
     },
     "execution_count": 83,
     "metadata": {},
     "output_type": "execute_result"
    }
   ],
   "source": [
    "# 此布林型陣列可直接作為索引值。\n",
    "data[names == \"Bob\"]   # => data[0] && data[3]"
   ]
  },
  {
   "cell_type": "code",
   "execution_count": null,
   "metadata": {
    "colab": {},
    "colab_type": "code",
    "id": "k1CJkhyXlH8U"
   },
   "outputs": [],
   "source": [
    "'''\n",
    "布林矩陣必須要與array相同大小，你甚至可以將布林矩陣與其他整數或slices混合使用。\n",
    "必須要注意的是，如果你的大小設定為不同的話，系統並不會提出警告，因此要小心使用。\n",
    "\n",
    "'''"
   ]
  },
  {
   "cell_type": "code",
   "execution_count": 132,
   "metadata": {
    "colab": {
     "base_uri": "https://localhost:8080/",
     "height": 158
    },
    "colab_type": "code",
    "executionInfo": {
     "elapsed": 746,
     "status": "ok",
     "timestamp": 1537781573746,
     "user": {
      "displayName": "張櫻瀞",
      "photoUrl": "",
      "userId": "17228447197603340924"
     },
     "user_tz": -480
    },
    "id": "Y7HB-VivlH81",
    "outputId": "b4472bc9-6e3a-4e49-a549-455cb2e9b071"
   },
   "outputs": [
    {
     "data": {
      "text/plain": [
       "array([[ 0,  1,  2,  3],\n",
       "       [ 4,  5,  6,  7],\n",
       "       [ 8,  9, 10, 11],\n",
       "       [12, 13, 14, 15],\n",
       "       [16, 17, 18, 19],\n",
       "       [20, 21, 22, 23],\n",
       "       [24, 25, 26, 27],\n",
       "       [28, 29, 30, 31]])"
      ]
     },
     "execution_count": 132,
     "metadata": {},
     "output_type": "execute_result"
    }
   ],
   "source": [
    "# arange(32)可以製作0~32的數字，然後再用「reshape」來將它轉換為8X4的矩陣\n",
    "arr = np.arange(32).reshape((8, 4))\n",
    "#arr = np.arange(32).reshape((2,4,4))\n",
    "arr"
   ]
  },
  {
   "cell_type": "code",
   "execution_count": 133,
   "metadata": {
    "colab": {
     "base_uri": "https://localhost:8080/",
     "height": 34
    },
    "colab_type": "code",
    "executionInfo": {
     "elapsed": 748,
     "status": "ok",
     "timestamp": 1537781576554,
     "user": {
      "displayName": "張櫻瀞",
      "photoUrl": "",
      "userId": "17228447197603340924"
     },
     "user_tz": -480
    },
    "id": "ogf5BRb5lH84",
    "outputId": "e51d8935-4f32-430f-cbba-a86a362fe6a2"
   },
   "outputs": [
    {
     "data": {
      "text/plain": [
       "array([ 4, 23, 29, 10])"
      ]
     },
     "execution_count": 133,
     "metadata": {},
     "output_type": "execute_result"
    }
   ],
   "source": [
    "arr[[1, 5, 7, 2], [0, 3, 1, 2]]   # 先看arr[[1,5,7,2]](向下找)，再去看arr[[0,3,1,2]](向右找)\n",
    "                                  # elements (1, 0), (5, 3), (7, 1), and (2, 2) were selected.\n",
    "                                  # 出來"
   ]
  },
  {
   "cell_type": "code",
   "execution_count": 134,
   "metadata": {
    "colab": {
     "base_uri": "https://localhost:8080/",
     "height": 70
    },
    "colab_type": "code",
    "executionInfo": {
     "elapsed": 747,
     "status": "ok",
     "timestamp": 1537781699035,
     "user": {
      "displayName": "張櫻瀞",
      "photoUrl": "",
      "userId": "17228447197603340924"
     },
     "user_tz": -480
    },
    "id": "ALpo17fIlH87",
    "outputId": "c42cc47a-3d41-4d89-e026-650080c3453b"
   },
   "outputs": [
    {
     "data": {
      "text/plain": [
       "array([[ 0,  1,  2,  3,  4],\n",
       "       [ 5,  6,  7,  8,  9],\n",
       "       [10, 11, 12, 13, 14]])"
      ]
     },
     "execution_count": 134,
     "metadata": {},
     "output_type": "execute_result"
    }
   ],
   "source": [
    "## Transposing Arrays and Swapping Axes 陣列轉置與軸轉換\n",
    "arr = np.arange(15).reshape((3, 5))\n",
    "arr"
   ]
  },
  {
   "cell_type": "code",
   "execution_count": 135,
   "metadata": {
    "colab": {
     "base_uri": "https://localhost:8080/",
     "height": 105
    },
    "colab_type": "code",
    "executionInfo": {
     "elapsed": 700,
     "status": "ok",
     "timestamp": 1537781701178,
     "user": {
      "displayName": "張櫻瀞",
      "photoUrl": "",
      "userId": "17228447197603340924"
     },
     "user_tz": -480
    },
    "id": "9T7MgSRSlH88",
    "outputId": "44782796-42a0-48e2-c3f8-59c93c701fd5"
   },
   "outputs": [
    {
     "data": {
      "text/plain": [
       "array([[ 0,  5, 10],\n",
       "       [ 1,  6, 11],\n",
       "       [ 2,  7, 12],\n",
       "       [ 3,  8, 13],\n",
       "       [ 4,  9, 14]])"
      ]
     },
     "execution_count": 135,
     "metadata": {},
     "output_type": "execute_result"
    }
   ],
   "source": [
    "# 轉喔～橫的變直的\n",
    "arr.T"
   ]
  },
  {
   "cell_type": "code",
   "execution_count": 136,
   "metadata": {
    "colab": {},
    "colab_type": "code",
    "id": "H20FYqMblH8-"
   },
   "outputs": [
    {
     "data": {
      "text/plain": [
       "array([[ 0.78027761, -0.99072222,  0.70131617],\n",
       "       [ 0.50603163, -0.71245654, -0.09099757],\n",
       "       [-2.23374073,  1.27498754,  1.54151762],\n",
       "       [-0.24947885,  2.22980422,  1.12861036],\n",
       "       [-1.43860695,  0.15512128,  0.41983421],\n",
       "       [ 0.064748  , -0.60812129,  1.01589745]])"
      ]
     },
     "execution_count": 136,
     "metadata": {},
     "output_type": "execute_result"
    }
   ],
   "source": [
    "arr = np.random.randn(6, 3)\n",
    "arr"
   ]
  },
  {
   "cell_type": "code",
   "execution_count": 137,
   "metadata": {
    "colab": {},
    "colab_type": "code",
    "id": "i-JL_n4ylH8_"
   },
   "outputs": [
    {
     "data": {
      "text/plain": [
       "array([[ 7.99052078, -4.80037769, -3.76194053],\n",
       "       [-4.80037769,  8.48061902,  3.29935454],\n",
       "       [-3.76194053,  3.29935454,  5.35847123]])"
      ]
     },
     "execution_count": 137,
     "metadata": {},
     "output_type": "execute_result"
    }
   ],
   "source": [
    "np.dot(arr.T, arr)     # 矩陣內積x(T) * x"
   ]
  },
  {
   "cell_type": "code",
   "execution_count": 24,
   "metadata": {
    "colab": {},
    "colab_type": "code",
    "id": "52NtRz9xlH9B"
   },
   "outputs": [
    {
     "data": {
      "text/plain": [
       "array([[[ 0,  1,  2,  3],\n",
       "        [ 4,  5,  6,  7]],\n",
       "\n",
       "       [[ 8,  9, 10, 11],\n",
       "        [12, 13, 14, 15]]])"
      ]
     },
     "execution_count": 24,
     "metadata": {},
     "output_type": "execute_result"
    }
   ],
   "source": [
    "arr = np.arange(16).reshape((2, 2, 4))\n",
    "arr"
   ]
  },
  {
   "cell_type": "code",
   "execution_count": 14,
   "metadata": {
    "colab": {},
    "colab_type": "code",
    "id": "JmXvTIKtlH9G"
   },
   "outputs": [
    {
     "data": {
      "text/plain": [
       "array([[[ 0,  8],\n",
       "        [ 4, 12]],\n",
       "\n",
       "       [[ 1,  9],\n",
       "        [ 5, 13]],\n",
       "\n",
       "       [[ 2, 10],\n",
       "        [ 6, 14]],\n",
       "\n",
       "       [[ 3, 11],\n",
       "        [ 7, 15]]])"
      ]
     },
     "execution_count": 14,
     "metadata": {},
     "output_type": "execute_result"
    }
   ],
   "source": [
    "# 一般的矩陣用Ｔ，ndarray就用swapaxes()的函式。\n",
    "b = arr.swapaxes(0, 2)   # 第0個與第2個位子相交換\n",
    "b"
   ]
  },
  {
   "cell_type": "code",
   "execution_count": 23,
   "metadata": {},
   "outputs": [
    {
     "name": "stdout",
     "output_type": "stream",
     "text": [
      "[1 2] [ 3 99 99  3] [2 1]\n"
     ]
    }
   ],
   "source": [
    "x = [1,2,3,99,99,3,2,1]\n",
    "x1, x2, x3 = np.split(x, [2, 6])\n",
    "print(x1, x2, x3)"
   ]
  },
  {
   "cell_type": "code",
   "execution_count": 13,
   "metadata": {
    "colab": {},
    "colab_type": "code",
    "id": "SkswGkxdlH9H"
   },
   "outputs": [
    {
     "data": {
      "text/plain": [
       "(4, 2, 2)"
      ]
     },
     "execution_count": 13,
     "metadata": {},
     "output_type": "execute_result"
    }
   ],
   "source": [
    "b.shape       # 原本是(2,2,4)變成(4,2,2)"
   ]
  }
 ],
 "metadata": {
  "colab": {
   "name": "4-1 The NumPy ndarray.ipynb",
   "provenance": [],
   "version": "0.3.2"
  },
  "kernelspec": {
   "display_name": "Python 3",
   "language": "python",
   "name": "python3"
  },
  "language_info": {
   "codemirror_mode": {
    "name": "ipython",
    "version": 3
   },
   "file_extension": ".py",
   "mimetype": "text/x-python",
   "name": "python",
   "nbconvert_exporter": "python",
   "pygments_lexer": "ipython3",
   "version": "3.7.0"
  }
 },
 "nbformat": 4,
 "nbformat_minor": 2
}
