{
 "cells": [
  {
   "cell_type": "markdown",
   "metadata": {},
   "source": [
    "## **課前QA**"
   ]
  },
  {
   "cell_type": "markdown",
   "metadata": {},
   "source": [
    "#### 1.GCD邏輯"
   ]
  },
  {
   "cell_type": "code",
   "execution_count": null,
   "metadata": {},
   "outputs": [],
   "source": [
    "def gcd(a,b): \n",
    "    a, b = (a, b) if a >=b else (b, a)\n",
    "    if a%b==0: \n",
    "        return b \n",
    "    else: \n",
    "        return gcd(b,a%b) \n",
    "  \n",
    "  \n",
    "# prints 12 \n",
    "print (\"The gcd of a and b is : \",end=\"\") \n",
    "print (gcd(22,121)) "
   ]
  },
  {
   "cell_type": "code",
   "execution_count": null,
   "metadata": {},
   "outputs": [],
   "source": [
    "def ggcd(x,y):\n",
    "    if x>y:\n",
    "        k = [i for i in range(1,y+1) if (x%i)==0 & (y%i)==0]\n",
    "    else:\n",
    "        k = [i for i in range(1,x+1) if ()]"
   ]
  },
  {
   "cell_type": "markdown",
   "metadata": {},
   "source": [
    "#### GCD邏輯"
   ]
  },
  {
   "cell_type": "code",
   "execution_count": 55,
   "metadata": {},
   "outputs": [
    {
     "data": {
      "text/plain": [
       "{'I': 1,\n",
       " 'like': 1,\n",
       " 'python': 2,\n",
       " 'because': 1,\n",
       " 'has': 1,\n",
       " 'full': 1,\n",
       " 'plugins.': 1,\n",
       " 'And': 1,\n",
       " 'Using': 1,\n",
       " 'plugins': 1,\n",
       " 'can': 1,\n",
       " 'save': 1,\n",
       " 'our': 1,\n",
       " 'much': 1,\n",
       " 'time.': 1}"
      ]
     },
     "execution_count": 55,
     "metadata": {},
     "output_type": "execute_result"
    }
   ],
   "source": [
    "text = 'I like python because python has full plugins. And Using plugins can save our much time.'\n",
    "dict_text = {} #建一個空dict\n",
    "for word in text.split():\n",
    "    if word not in dict_text:\n",
    "        dict_text[word] = 1\n",
    "    else:\n",
    "        dict_text[word] += 1\n",
    "dict_text"
   ]
  },
  {
   "cell_type": "markdown",
   "metadata": {},
   "source": [
    "##### 2.詞頻邏輯"
   ]
  },
  {
   "cell_type": "markdown",
   "metadata": {},
   "source": [
    "# **1206 資料前處理**\n",
    "https://hackmd.io/-fvqakZkSECVVVwY5fo-dA?view"
   ]
  },
  {
   "cell_type": "markdown",
   "metadata": {},
   "source": [
    "##### **練習 用list做矩陣乘法**"
   ]
  },
  {
   "cell_type": "code",
   "execution_count": 35,
   "metadata": {},
   "outputs": [
    {
     "name": "stdout",
     "output_type": "stream",
     "text": [
      "[ 0  2  4  6  8 10 12 14 16 18]\n"
     ]
    }
   ],
   "source": [
    "import numpy as np \n",
    "list1 = [0,1,2,3,4,5,6,7,8,9]\n",
    "#print(np.array(list1)*2)\n",
    "list_a = np.array(list1)\n",
    "list_a\n",
    "print(list_a*2)"
   ]
  },
  {
   "cell_type": "code",
   "execution_count": 60,
   "metadata": {},
   "outputs": [
    {
     "data": {
      "text/plain": [
       "[0, 2, 4, 6, 8, 10, 12, 14, 16, 18]"
      ]
     },
     "execution_count": 60,
     "metadata": {},
     "output_type": "execute_result"
    }
   ],
   "source": [
    "list1 = [0,1,2,3,4,5,6,7,8,9]\n",
    "lift2 = [i * 2 for i in list1]\n",
    "lift2"
   ]
  },
  {
   "cell_type": "code",
   "execution_count": 36,
   "metadata": {},
   "outputs": [
    {
     "name": "stdout",
     "output_type": "stream",
     "text": [
      "[0, 2, 4, 6, 8, 10, 12, 14, 16, 18]\n"
     ]
    }
   ],
   "source": [
    "list1 = [0,1,2,3,4,5,6,7,8,9]\n",
    "for i in list1:\n",
    "    list1[i] = list1[i]*2\n",
    "print(list1)"
   ]
  },
  {
   "cell_type": "markdown",
   "metadata": {},
   "source": [
    "##### 預設格式 : float64"
   ]
  },
  {
   "cell_type": "markdown",
   "metadata": {},
   "source": [
    "### **ndarray**"
   ]
  },
  {
   "cell_type": "code",
   "execution_count": 2,
   "metadata": {},
   "outputs": [
    {
     "name": "stdout",
     "output_type": "stream",
     "text": [
      "[1, 2, 3]\n",
      "[[1, 2, 3], [4, 5, 6]]\n",
      "[1 2 3]\n",
      "[[1 2 3]\n",
      " [4 5 6]]\n",
      "[[ 1  4  9]\n",
      " [ 4 10 18]]\n"
     ]
    }
   ],
   "source": [
    "import numpy as np\n",
    "a = [1,2,3]\n",
    "b = [[1,2,3],[4,5,6]]\n",
    "c = np.array(a)\n",
    "d = np.array(b)\n",
    "print(a)\n",
    "print(b)\n",
    "print(c)\n",
    "print(d)\n",
    "print(c*d)"
   ]
  },
  {
   "cell_type": "code",
   "execution_count": 3,
   "metadata": {},
   "outputs": [
    {
     "name": "stdout",
     "output_type": "stream",
     "text": [
      "[[1 2 3 4]\n",
      " [5 6 7 8]]\n"
     ]
    }
   ],
   "source": [
    "data2 =[[1,2,3,4],[5,6,7,8]]\n",
    "arr2 = np.array(data2)\n",
    "print(arr2)"
   ]
  },
  {
   "cell_type": "code",
   "execution_count": 4,
   "metadata": {},
   "outputs": [
    {
     "data": {
      "text/plain": [
       "(2, 4)"
      ]
     },
     "execution_count": 4,
     "metadata": {},
     "output_type": "execute_result"
    }
   ],
   "source": [
    "arr2.shape"
   ]
  },
  {
   "cell_type": "code",
   "execution_count": 5,
   "metadata": {},
   "outputs": [
    {
     "data": {
      "text/plain": [
       "dtype('int32')"
      ]
     },
     "execution_count": 5,
     "metadata": {},
     "output_type": "execute_result"
    }
   ],
   "source": [
    "arr2.dtype"
   ]
  },
  {
   "cell_type": "code",
   "execution_count": 6,
   "metadata": {},
   "outputs": [
    {
     "data": {
      "text/plain": [
       "2"
      ]
     },
     "execution_count": 6,
     "metadata": {},
     "output_type": "execute_result"
    }
   ],
   "source": [
    "arr2.ndim"
   ]
  },
  {
   "cell_type": "code",
   "execution_count": 7,
   "metadata": {},
   "outputs": [
    {
     "data": {
      "text/plain": [
       "array([0., 0., 0., 0., 0., 0., 0., 0., 0., 0.])"
      ]
     },
     "execution_count": 7,
     "metadata": {},
     "output_type": "execute_result"
    }
   ],
   "source": [
    "np.zeros(10)"
   ]
  },
  {
   "cell_type": "code",
   "execution_count": 9,
   "metadata": {},
   "outputs": [
    {
     "data": {
      "text/plain": [
       "array([[1., 1., 1., 1., 1., 1.],\n",
       "       [1., 1., 1., 1., 1., 1.],\n",
       "       [1., 1., 1., 1., 1., 1.]])"
      ]
     },
     "execution_count": 9,
     "metadata": {},
     "output_type": "execute_result"
    }
   ],
   "source": [
    "np.ones((3,6))"
   ]
  },
  {
   "cell_type": "code",
   "execution_count": 8,
   "metadata": {},
   "outputs": [
    {
     "data": {
      "text/plain": [
       "array([[[ 4.67296746e-307,  1.69121096e-306],\n",
       "        [ 9.34609111e-307,  1.33508845e-306],\n",
       "        [ 1.33511969e-306,  6.23037996e-307],\n",
       "        [ 1.06811422e-306,  9.34562257e-307],\n",
       "        [ 6.44890786e+265,  3.94646009e+180],\n",
       "        [ 1.69600558e+161,  6.01346953e-154],\n",
       "        [ 4.67661267e+252,  2.52301823e-258],\n",
       "        [ 6.96742065e+252,  1.65524320e-153]],\n",
       "\n",
       "       [[ 7.26584463e+223,  1.85019220e-070],\n",
       "        [ 1.51327986e+256,  7.36178176e+223],\n",
       "        [ 6.96771781e+252,  2.23674567e-046],\n",
       "        [ 6.47434877e-067,  1.48970349e+214],\n",
       "        [ 1.48972616e+214,  1.48972206e+214],\n",
       "        [ 1.48972413e+214,  1.48972620e+214],\n",
       "        [ 8.61480111e+183,  1.80546597e-259],\n",
       "        [ 3.65588280e+233,  3.62464572e+228]],\n",
       "\n",
       "       [[ 1.50753760e-153,  2.20924030e-070],\n",
       "        [ 2.21211602e+214,  3.62464579e+228],\n",
       "        [ 1.45036783e-047,  9.05437256e+271],\n",
       "        [ 6.01346953e-154,  3.81391472e+180],\n",
       "        [ 4.23971605e+175,  2.66293521e-260],\n",
       "        [ 1.27778246e+161,  3.80985005e+180],\n",
       "        [ 4.64302018e+164,  5.98129868e-154],\n",
       "        [ 4.44387685e+252,  9.91743091e+260]],\n",
       "\n",
       "       [[ 2.18174335e+243,  3.67886175e+228],\n",
       "        [ 6.01334435e-154,  1.51777807e+256],\n",
       "        [ 5.98149228e-154, -1.32369961e-311],\n",
       "        [ 2.65970574e-258,  1.23371083e+171],\n",
       "        [ 7.28648982e-095,  6.96742065e+252],\n",
       "        [ 5.07519323e+233,  7.26576487e+223],\n",
       "        [ 6.96771781e+252,  5.33024077e+228],\n",
       "        [ 1.05923463e-153,  9.08700371e+223]]])"
      ]
     },
     "execution_count": 8,
     "metadata": {},
     "output_type": "execute_result"
    }
   ],
   "source": [
    "np.empty((4,8,2)) #2個3*2矩陣"
   ]
  },
  {
   "cell_type": "code",
   "execution_count": 10,
   "metadata": {},
   "outputs": [
    {
     "data": {
      "text/plain": [
       "(1, 3)"
      ]
     },
     "execution_count": 10,
     "metadata": {},
     "output_type": "execute_result"
    }
   ],
   "source": [
    "arr = np.arange(9).reshape((3,3))\n",
    "arr_1 = arr[:2,1:]\n",
    "arr_1.shape\n",
    "arr_2 = arr[2]\n",
    "arr_2.shape\n",
    "arr_3 = arr[2:,:]\n",
    "arr_3.shape"
   ]
  },
  {
   "cell_type": "code",
   "execution_count": 31,
   "metadata": {},
   "outputs": [
    {
     "data": {
      "text/plain": [
       "array([ 0,  1,  2,  3,  4,  5,  6,  7,  8,  9, 10, 11, 12, 13, 14])"
      ]
     },
     "execution_count": 31,
     "metadata": {},
     "output_type": "execute_result"
    }
   ],
   "source": [
    "np.arange(15)"
   ]
  },
  {
   "cell_type": "markdown",
   "metadata": {},
   "source": [
    "##### **隋堂練習1**"
   ]
  },
  {
   "cell_type": "code",
   "execution_count": 11,
   "metadata": {},
   "outputs": [
    {
     "name": "stdout",
     "output_type": "stream",
     "text": [
      "[[[ 0  1  2]\n",
      "  [ 3  4  5]\n",
      "  [ 6  7  8]\n",
      "  [ 9 10 11]\n",
      "  [12 13 14]]\n",
      "\n",
      " [[15 16 17]\n",
      "  [18 19 20]\n",
      "  [21 22 23]\n",
      "  [24 25 26]\n",
      "  [27 28 29]]\n",
      "\n",
      " [[30 31 32]\n",
      "  [33 34 35]\n",
      "  [36 37 38]\n",
      "  [39 40 41]\n",
      "  [42 43 44]]]\n"
     ]
    }
   ],
   "source": [
    "arr = np.arange(45).reshape((3,5,3))\n",
    "print(arr)"
   ]
  },
  {
   "cell_type": "code",
   "execution_count": 15,
   "metadata": {},
   "outputs": [
    {
     "data": {
      "text/plain": [
       "array([[[ 1,  2],\n",
       "        [ 4,  5],\n",
       "        [ 7,  8]],\n",
       "\n",
       "       [[16, 17],\n",
       "        [19, 20],\n",
       "        [22, 23]]])"
      ]
     },
     "execution_count": 15,
     "metadata": {},
     "output_type": "execute_result"
    }
   ],
   "source": [
    "arr[:2,:3,1:]"
   ]
  },
  {
   "cell_type": "markdown",
   "metadata": {},
   "source": [
    "##### **隨堂練習2**"
   ]
  },
  {
   "cell_type": "code",
   "execution_count": 16,
   "metadata": {},
   "outputs": [
    {
     "data": {
      "text/plain": [
       "array([False,  True, False,  True])"
      ]
     },
     "execution_count": 16,
     "metadata": {},
     "output_type": "execute_result"
    }
   ],
   "source": [
    "names = np.array(['Alice','Lucy','Bob','Lucy'])\n",
    "names == 'Lucy'"
   ]
  },
  {
   "cell_type": "code",
   "execution_count": 23,
   "metadata": {},
   "outputs": [
    {
     "data": {
      "text/plain": [
       "array([[165,  60],\n",
       "       [155,  45]])"
      ]
     },
     "execution_count": 23,
     "metadata": {},
     "output_type": "execute_result"
    }
   ],
   "source": [
    "name_array = np.array(['Alice', 'Lucy', 'Bob', 'Lucy'])\n",
    "info_array = np.array([[158, 55], [165, 60], [185, 70],[155,45]])\n",
    "info_array[name_array == 'Lucy']"
   ]
  },
  {
   "cell_type": "code",
   "execution_count": 24,
   "metadata": {},
   "outputs": [
    {
     "data": {
      "text/plain": [
       "array([[165, 155],\n",
       "       [ 50,  45]])"
      ]
     },
     "execution_count": 24,
     "metadata": {},
     "output_type": "execute_result"
    }
   ],
   "source": [
    "name_array = np.array(['Alice', 'Lucy', 'Bob', 'Lucy'])\n",
    "info_array = np.array([[158,165,185,155], [55,50,70,45]])\n",
    "info_array[:2,name_array == 'Lucy']"
   ]
  },
  {
   "cell_type": "markdown",
   "metadata": {},
   "source": [
    "##### **隨堂練習3**"
   ]
  },
  {
   "cell_type": "code",
   "execution_count": 17,
   "metadata": {},
   "outputs": [
    {
     "data": {
      "text/plain": [
       "array([30000, 80000, 40000, 45000])"
      ]
     },
     "execution_count": 17,
     "metadata": {},
     "output_type": "execute_result"
    }
   ],
   "source": [
    "salary = np.array([30000,80000,40000,45000])\n",
    "salary"
   ]
  },
  {
   "cell_type": "code",
   "execution_count": 19,
   "metadata": {},
   "outputs": [
    {
     "data": {
      "text/plain": [
       "array([0. , 1. , 0.2, 0.3])"
      ]
     },
     "execution_count": 19,
     "metadata": {},
     "output_type": "execute_result"
    }
   ],
   "source": [
    "a = salary[(salary >= 30000) & (salary <= 80000)]\n",
    "(a-30000)/50000"
   ]
  },
  {
   "cell_type": "code",
   "execution_count": 21,
   "metadata": {},
   "outputs": [
    {
     "name": "stdout",
     "output_type": "stream",
     "text": [
      "[30000 80000 40000 45000]\n",
      "---\n",
      "[0.  1.  0.2 0.3]\n"
     ]
    }
   ],
   "source": [
    "money = np.array([30000,80000,40000,45000])\n",
    "print(money)\n",
    "print('---')\n",
    "amin, amax = np.min(money), np.max(money)\n",
    "result = (money - amin)/(amax - amin)\n",
    "print(result)"
   ]
  },
  {
   "cell_type": "markdown",
   "metadata": {},
   "source": [
    "##### **隨堂練習4 - 4.6** "
   ]
  },
  {
   "cell_type": "code",
   "execution_count": 25,
   "metadata": {},
   "outputs": [
    {
     "data": {
      "text/plain": [
       "array([0.54815783, 0.13189146, 0.71154684, 0.30225006])"
      ]
     },
     "execution_count": 25,
     "metadata": {},
     "output_type": "execute_result"
    }
   ],
   "source": [
    "np.random.seed([50])\n",
    "array_1 = np.random.rand(4)\n",
    "np.random.seed([48])\n",
    "array_2 = np.random.rand(4)\n",
    "array_1\n",
    "array_2"
   ]
  },
  {
   "cell_type": "code",
   "execution_count": 26,
   "metadata": {},
   "outputs": [
    {
     "data": {
      "text/plain": [
       "array([0.27272857, 0.03510604, 0.4535479 , 0.07328952])"
      ]
     },
     "execution_count": 26,
     "metadata": {},
     "output_type": "execute_result"
    }
   ],
   "source": [
    "array_x = array_1 * array_2\n",
    "array_x"
   ]
  },
  {
   "cell_type": "code",
   "execution_count": 130,
   "metadata": {},
   "outputs": [
    {
     "data": {
      "text/plain": [
       "0.8346720253493024"
      ]
     },
     "execution_count": 130,
     "metadata": {},
     "output_type": "execute_result"
    }
   ],
   "source": [
    "array_x.sum()"
   ]
  },
  {
   "cell_type": "code",
   "execution_count": 135,
   "metadata": {},
   "outputs": [
    {
     "data": {
      "text/plain": [
       "0.2086680063373256"
      ]
     },
     "execution_count": 135,
     "metadata": {},
     "output_type": "execute_result"
    }
   ],
   "source": [
    "array_x.mean()"
   ]
  },
  {
   "cell_type": "code",
   "execution_count": 27,
   "metadata": {},
   "outputs": [
    {
     "data": {
      "text/plain": [
       "0.10619343231884187"
      ]
     },
     "execution_count": 27,
     "metadata": {},
     "output_type": "execute_result"
    }
   ],
   "source": [
    "rng = np.random.RandomState(50)\n",
    "rng1 = np.random.RandomState(48)\n",
    "array1 = rng.randn(2,2)\n",
    "array2 = rng1.randn(2,2)\n",
    "\n",
    "result = np.multiply(array1, array2)\n",
    "result.sum()\n",
    "result.mean()"
   ]
  }
 ],
 "metadata": {
  "kernelspec": {
   "display_name": "Python 3",
   "language": "python",
   "name": "python3"
  },
  "language_info": {
   "codemirror_mode": {
    "name": "ipython",
    "version": 3
   },
   "file_extension": ".py",
   "mimetype": "text/x-python",
   "name": "python",
   "nbconvert_exporter": "python",
   "pygments_lexer": "ipython3",
   "version": "3.7.0"
  }
 },
 "nbformat": 4,
 "nbformat_minor": 2
}
