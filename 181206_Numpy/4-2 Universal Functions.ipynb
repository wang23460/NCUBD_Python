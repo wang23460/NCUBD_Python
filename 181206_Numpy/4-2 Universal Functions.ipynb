{
 "cells": [
  {
   "cell_type": "code",
   "execution_count": 1,
   "metadata": {
    "colab": {},
    "colab_type": "code",
    "id": "fjRpfl2uBpCq",
    "outputId": "3d4a39bd-55fc-4707-c603-fdc85c1984d7"
   },
   "outputs": [
    {
     "data": {
      "text/plain": [
       "array([0, 1, 2, 3, 4, 5, 6, 7, 8, 9])"
      ]
     },
     "execution_count": 1,
     "metadata": {},
     "output_type": "execute_result"
    }
   ],
   "source": [
    "### 4-2 Universal Functions: Fast Element-Wise Array Functions\n",
    "import numpy as np\n",
    "\n",
    "arr = np.arange(10)\n",
    "arr"
   ]
  },
  {
   "cell_type": "code",
   "execution_count": 2,
   "metadata": {
    "colab": {},
    "colab_type": "code",
    "id": "k5rCU7K8BpCv",
    "outputId": "687159fd-c25c-47be-b465-9009dbf36695"
   },
   "outputs": [
    {
     "data": {
      "text/plain": [
       "array([0.        , 1.        , 1.41421356, 1.73205081, 2.        ,\n",
       "       2.23606798, 2.44948974, 2.64575131, 2.82842712, 3.        ])"
      ]
     },
     "execution_count": 2,
     "metadata": {},
     "output_type": "execute_result"
    }
   ],
   "source": [
    "## Maths\n",
    "# unary func -> sqrt, exp, modf\n",
    "# np.sqrt(arr) #開根號\n",
    "np.sqrt(arr)"
   ]
  },
  {
   "cell_type": "code",
   "execution_count": 3,
   "metadata": {
    "colab": {},
    "colab_type": "code",
    "id": "PfXni9EJBpCz",
    "outputId": "ef778b1e-85c5-4dac-c3b8-460c88fedf97"
   },
   "outputs": [
    {
     "data": {
      "text/plain": [
       "array([1.00000000e+00, 2.71828183e+00, 7.38905610e+00, 2.00855369e+01,\n",
       "       5.45981500e+01, 1.48413159e+02, 4.03428793e+02, 1.09663316e+03,\n",
       "       2.98095799e+03, 8.10308393e+03])"
      ]
     },
     "execution_count": 3,
     "metadata": {},
     "output_type": "execute_result"
    }
   ],
   "source": [
    "# np.exp(arr) #返回e的n次方，e是一个常數為2.71828\n",
    "np.exp(arr)"
   ]
  },
  {
   "cell_type": "code",
   "execution_count": 4,
   "metadata": {
    "colab": {},
    "colab_type": "code",
    "id": "ifbiBi3SBpDA",
    "outputId": "e5940dbb-861a-478d-b8e4-7c21de771b15"
   },
   "outputs": [
    {
     "data": {
      "text/plain": [
       "array([-2.49524494,  1.38911553, -0.87046352,  3.67382198,  6.38771296,\n",
       "        1.3517446 , -1.98722782])"
      ]
     },
     "execution_count": 4,
     "metadata": {},
     "output_type": "execute_result"
    }
   ],
   "source": [
    "arr = np.random.randn(7) * 5\n",
    "arr"
   ]
  },
  {
   "cell_type": "code",
   "execution_count": 5,
   "metadata": {
    "colab": {},
    "colab_type": "code",
    "id": "6Kqpirz9BpDD",
    "outputId": "3ba32330-a62e-4085-8bbf-d84a53f836c2"
   },
   "outputs": [
    {
     "data": {
      "text/plain": [
       "array([-0.49524494,  0.38911553, -0.87046352,  0.67382198,  0.38771296,\n",
       "        0.3517446 , -0.98722782])"
      ]
     },
     "execution_count": 5,
     "metadata": {},
     "output_type": "execute_result"
    }
   ],
   "source": [
    "remainder, whole_part = np.modf(arr)      # modf會幫你把數字轉變成整數部分與小數點部分\n",
    "remainder"
   ]
  },
  {
   "cell_type": "code",
   "execution_count": 14,
   "metadata": {
    "colab": {},
    "colab_type": "code",
    "id": "JkpbChSTBpDH",
    "outputId": "3d9255a3-9a8b-4c3f-a37f-7af89b9edbed"
   },
   "outputs": [
    {
     "data": {
      "text/plain": [
       "array([0., 1., 2., 3., 4., 5., 6., 7., 8., 9.])"
      ]
     },
     "execution_count": 14,
     "metadata": {},
     "output_type": "execute_result"
    }
   ],
   "source": [
    "whole_part"
   ]
  },
  {
   "cell_type": "code",
   "execution_count": 17,
   "metadata": {
    "colab": {},
    "colab_type": "code",
    "id": "OT09pEevBpDL",
    "outputId": "2c071b23-3b7a-4d91-90c2-daeddabd3216"
   },
   "outputs": [
    {
     "data": {
      "text/plain": [
       "(array([-0.98430103,  0.58132865,  0.18258665,  0.87752484,  0.62639507,\n",
       "         0.99325398, -0.72755899]), array([-1.,  2.,  3.,  4.,  2.,  1., -3.]))"
      ]
     },
     "execution_count": 17,
     "metadata": {},
     "output_type": "execute_result"
    }
   ],
   "source": [
    "np.modf(arr)                          # 稍微看看modf裡面有什麼，有兩個矩陣分別存取整數與小數點"
   ]
  },
  {
   "cell_type": "code",
   "execution_count": 20,
   "metadata": {
    "colab": {},
    "colab_type": "code",
    "id": "QB2jsRrpBpC2"
   },
   "outputs": [],
   "source": [
    "# binary func -> np.maximux\n",
    "x = np.random.randn(8)\n",
    "y = np.random.randn(8)"
   ]
  },
  {
   "cell_type": "code",
   "execution_count": 24,
   "metadata": {
    "colab": {},
    "colab_type": "code",
    "id": "BSiRGDBvBpC3",
    "outputId": "e2eb7788-3eed-49f5-ee03-1d175d5a53e9"
   },
   "outputs": [
    {
     "data": {
      "text/plain": [
       "array([-0.76098459, -1.01368829, -0.40635129, -1.51243046, -0.23080189,\n",
       "       -0.24853383, -0.81687265, -0.44637063])"
      ]
     },
     "execution_count": 24,
     "metadata": {},
     "output_type": "execute_result"
    }
   ],
   "source": [
    "x"
   ]
  },
  {
   "cell_type": "code",
   "execution_count": 22,
   "metadata": {
    "colab": {},
    "colab_type": "code",
    "id": "rSp4BHmiBpC6",
    "outputId": "b95a1056-eefb-4200-90f2-40d3bec0885f"
   },
   "outputs": [
    {
     "data": {
      "text/plain": [
       "array([-0.08974612,  2.23949648,  0.24407044,  0.60777515,  0.41072912,\n",
       "       -1.37425949, -0.05877626, -2.23682857])"
      ]
     },
     "execution_count": 22,
     "metadata": {},
     "output_type": "execute_result"
    }
   ],
   "source": [
    "y"
   ]
  },
  {
   "cell_type": "code",
   "execution_count": 23,
   "metadata": {
    "colab": {},
    "colab_type": "code",
    "id": "HVAlEgO4BpC9",
    "outputId": "c84b9b37-ac24-4037-ca90-61e4f0453eb0"
   },
   "outputs": [
    {
     "data": {
      "text/plain": [
       "array([-0.08974612,  2.23949648,  0.24407044,  0.60777515,  0.41072912,\n",
       "       -0.24853383, -0.05877626, -0.44637063])"
      ]
     },
     "execution_count": 23,
     "metadata": {},
     "output_type": "execute_result"
    }
   ],
   "source": [
    "# np裡面有最大值的函數\n",
    "np.maximum(x,y)"
   ]
  },
  {
   "cell_type": "code",
   "execution_count": 11,
   "metadata": {},
   "outputs": [
    {
     "data": {
      "text/plain": [
       "array([-0.40417541,  0.90437878, -1.38329905, -0.54896246, -1.28706792,\n",
       "        0.82530713, -0.44861491, -0.1493992 ])"
      ]
     },
     "execution_count": 11,
     "metadata": {},
     "output_type": "execute_result"
    }
   ],
   "source": [
    "np.add(x, y)"
   ]
  },
  {
   "cell_type": "code",
   "execution_count": 12,
   "metadata": {
    "colab": {},
    "colab_type": "code",
    "id": "BLTnXPhjBpDX"
   },
   "outputs": [
    {
     "data": {
      "text/plain": [
       "'\\n其他unary & binary func 可以到教材上看看\\n\\n'"
      ]
     },
     "execution_count": 12,
     "metadata": {},
     "output_type": "execute_result"
    }
   ],
   "source": [
    "'''\n",
    "其他unary & binary func 可以到教材上看看\n",
    "\n",
    "'''"
   ]
  },
  {
   "cell_type": "code",
   "execution_count": 6,
   "metadata": {},
   "outputs": [
    {
     "data": {
      "text/plain": [
       "array([0.        , 0.5       , 0.66666667, 0.75      , 0.8       ])"
      ]
     },
     "execution_count": 6,
     "metadata": {},
     "output_type": "execute_result"
    }
   ],
   "source": [
    "np.arange(5)/np.arange(1, 6)"
   ]
  },
  {
   "cell_type": "code",
   "execution_count": 12,
   "metadata": {},
   "outputs": [
    {
     "name": "stdout",
     "output_type": "stream",
     "text": [
      "x + 2 = [2 3 4 5]\n",
      "x + 3 = [3 4 5 6]\n"
     ]
    }
   ],
   "source": [
    "x = np.arange(4)\n",
    "print('x + 2 =', x+2)\n",
    "print('x + 3 =', np.add(x,3))"
   ]
  },
  {
   "cell_type": "code",
   "execution_count": 21,
   "metadata": {},
   "outputs": [
    {
     "name": "stdout",
     "output_type": "stream",
     "text": [
      "[ 0. 10. 20. 30. 40.]\n"
     ]
    }
   ],
   "source": [
    "# x = np.arange(5)\n",
    "a = np.empty(5)\n",
    "# np.multiply(x, 10, out = y)\n",
    "print(a)"
   ]
  }
 ],
 "metadata": {
  "colab": {
   "name": "4-2 Universal Functions.ipynb",
   "provenance": [],
   "version": "0.3.2"
  },
  "kernelspec": {
   "display_name": "Python 3",
   "language": "python",
   "name": "python3"
  },
  "language_info": {
   "codemirror_mode": {
    "name": "ipython",
    "version": 3
   },
   "file_extension": ".py",
   "mimetype": "text/x-python",
   "name": "python",
   "nbconvert_exporter": "python",
   "pygments_lexer": "ipython3",
   "version": "3.7.0"
  }
 },
 "nbformat": 4,
 "nbformat_minor": 2
}
