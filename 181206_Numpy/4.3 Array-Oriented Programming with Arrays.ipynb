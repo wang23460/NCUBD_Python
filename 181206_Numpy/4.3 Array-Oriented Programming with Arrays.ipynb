{
 "cells": [
  {
   "cell_type": "code",
   "execution_count": 4,
   "metadata": {
    "colab": {},
    "colab_type": "code",
    "id": "zc6Fn_7_BzrF"
   },
   "outputs": [],
   "source": [
    "import numpy as np"
   ]
  },
  {
   "cell_type": "code",
   "execution_count": 5,
   "metadata": {
    "colab": {},
    "colab_type": "code",
    "id": "yP0Fk7LsBzrJ",
    "outputId": "f9eefdac-6d31-4d99-e3a6-61b2578a8ba7"
   },
   "outputs": [],
   "source": [
    "# points = np.arange(-5, 5, 0.01) # 1000 equally spaced points -5 ~ 5之間，間隔0.01\n",
    "# points"
   ]
  },
  {
   "cell_type": "code",
   "execution_count": null,
   "metadata": {
    "colab": {},
    "colab_type": "code",
    "id": "C8fzjdzYBzrN",
    "outputId": "78ff7658-c606-4f29-ff2b-71b6c1abf9dc"
   },
   "outputs": [
    {
     "data": {
      "text/plain": [
       "array([[-5.  , -5.  , -5.  , ..., -5.  , -5.  , -5.  ],\n",
       "       [-4.99, -4.99, -4.99, ..., -4.99, -4.99, -4.99],\n",
       "       [-4.98, -4.98, -4.98, ..., -4.98, -4.98, -4.98],\n",
       "       ..., \n",
       "       [ 4.97,  4.97,  4.97, ...,  4.97,  4.97,  4.97],\n",
       "       [ 4.98,  4.98,  4.98, ...,  4.98,  4.98,  4.98],\n",
       "       [ 4.99,  4.99,  4.99, ...,  4.99,  4.99,  4.99]])"
      ]
     },
     "execution_count": 7,
     "metadata": {
      "tags": []
     },
     "output_type": "execute_result"
    }
   ],
   "source": [
    "'''\n",
    "np.meshgrid()會將兩個一維陣列變為二維矩陣\n",
    "'''\n",
    "# The np.meshgrid function takes two 1D arrays and produces two 2D matrices corresponding \n",
    "# to all pairs of (x, y) in the two arrays\n",
    "xs, ys = np.meshgrid(points, points)\n",
    "ys   # "
   ]
  },
  {
   "cell_type": "code",
   "execution_count": null,
   "metadata": {
    "colab": {},
    "colab_type": "code",
    "id": "G1LwbVDIBzrQ",
    "outputId": "0becec7f-dd50-485c-ed1e-28f2fd67f551"
   },
   "outputs": [
    {
     "data": {
      "text/plain": [
       "array([[-5.  , -4.99, -4.98, ...,  4.97,  4.98,  4.99],\n",
       "       [-5.  , -4.99, -4.98, ...,  4.97,  4.98,  4.99],\n",
       "       [-5.  , -4.99, -4.98, ...,  4.97,  4.98,  4.99],\n",
       "       ..., \n",
       "       [-5.  , -4.99, -4.98, ...,  4.97,  4.98,  4.99],\n",
       "       [-5.  , -4.99, -4.98, ...,  4.97,  4.98,  4.99],\n",
       "       [-5.  , -4.99, -4.98, ...,  4.97,  4.98,  4.99]])"
      ]
     },
     "execution_count": 8,
     "metadata": {
      "tags": []
     },
     "output_type": "execute_result"
    }
   ],
   "source": [
    "xs"
   ]
  },
  {
   "cell_type": "code",
   "execution_count": 7,
   "metadata": {
    "colab": {},
    "colab_type": "code",
    "id": "9dcCFfmEBzrT",
    "outputId": "69be0417-1caf-44d1-b3ea-49d33d8bb016"
   },
   "outputs": [
    {
     "data": {
      "text/plain": [
       "[array([[1, 2, 3, 4, 5],\n",
       "        [1, 2, 3, 4, 5],\n",
       "        [1, 2, 3, 4, 5],\n",
       "        [1, 2, 3, 4, 5],\n",
       "        [1, 2, 3, 4, 5],\n",
       "        [1, 2, 3, 4, 5],\n",
       "        [1, 2, 3, 4, 5],\n",
       "        [1, 2, 3, 4, 5],\n",
       "        [1, 2, 3, 4, 5],\n",
       "        [1, 2, 3, 4, 5]]), array([[0, 0, 0, 0, 0],\n",
       "        [1, 1, 1, 1, 1],\n",
       "        [2, 2, 2, 2, 2],\n",
       "        [3, 3, 3, 3, 3],\n",
       "        [4, 4, 4, 4, 4],\n",
       "        [5, 5, 5, 5, 5],\n",
       "        [6, 6, 6, 6, 6],\n",
       "        [7, 7, 7, 7, 7],\n",
       "        [8, 8, 8, 8, 8],\n",
       "        [9, 9, 9, 9, 9]])]"
      ]
     },
     "execution_count": 7,
     "metadata": {},
     "output_type": "execute_result"
    }
   ],
   "source": [
    "# 簡單一點的小範例\n",
    "one = np.arange(10)\n",
    "two = [1,2,3,4,5]\n",
    "# np.meshgrid(one,two)\n",
    "np.meshgrid(two,one)"
   ]
  },
  {
   "cell_type": "code",
   "execution_count": null,
   "metadata": {
    "colab": {},
    "colab_type": "code",
    "id": "N7OBGqeKBzrV",
    "outputId": "266f5414-483c-43d4-d915-5a7b154ac5aa"
   },
   "outputs": [
    {
     "data": {
      "text/plain": [
       "array([[ 7.07106781,  7.06400028,  7.05693985, ...,  7.04988652,\n",
       "         7.05693985,  7.06400028],\n",
       "       [ 7.06400028,  7.05692568,  7.04985815, ...,  7.04279774,\n",
       "         7.04985815,  7.05692568],\n",
       "       [ 7.05693985,  7.04985815,  7.04278354, ...,  7.03571603,\n",
       "         7.04278354,  7.04985815],\n",
       "       ..., \n",
       "       [ 7.04988652,  7.04279774,  7.03571603, ...,  7.0286414 ,\n",
       "         7.03571603,  7.04279774],\n",
       "       [ 7.05693985,  7.04985815,  7.04278354, ...,  7.03571603,\n",
       "         7.04278354,  7.04985815],\n",
       "       [ 7.06400028,  7.05692568,  7.04985815, ...,  7.04279774,\n",
       "         7.04985815,  7.05692568]])"
      ]
     },
     "execution_count": 17,
     "metadata": {
      "tags": []
     },
     "output_type": "execute_result"
    }
   ],
   "source": [
    "z=np.sqrt(xs**2+ys**2)    # **指數\n",
    "z"
   ]
  },
  {
   "cell_type": "code",
   "execution_count": null,
   "metadata": {
    "colab": {},
    "colab_type": "code",
    "id": "GeZWs4loBzrY",
    "outputId": "5f5699d7-36e0-44e9-efe1-eea93bc0b47c"
   },
   "outputs": [
    {
     "data": {
      "text/plain": [
       "Text(0.5,1,'Image plot of $\\\\sqrt{x^2 + y^2}$ for a grid of values')"
      ]
     },
     "execution_count": 24,
     "metadata": {
      "tags": []
     },
     "output_type": "execute_result"
    },
    {
     "data": {
      "image/png": "[encoded data removed]",
      "text/plain": [
       "<matplotlib.figure.Figure at 0x113288978>"
      ]
     },
     "metadata": {
      "tags": []
     },
     "output_type": "display_data"
    }
   ],
   "source": [
    "# 可以用matplotlib來視覺化這個二維陣列\n",
    "import matplotlib.pyplot as plt\n",
    "plt.imshow(z, cmap=plt.cm.gray); plt.colorbar()\n",
    "#<matplotlib.colorbar.Colorbar at 0x7f715e3fa630>\n",
    "plt.title(\"Image plot of $\\sqrt{x^2 + y^2}$ for a grid of values\")\n",
    "#<matplotlib.text.Text at 0x7f715d2de748>"
   ]
  },
  {
   "cell_type": "code",
   "execution_count": 7,
   "metadata": {
    "colab": {},
    "colab_type": "code",
    "id": "a3_OuHMuBzrb",
    "outputId": "cff3cc00-376d-4992-9181-8e15cb2bccfb"
   },
   "outputs": [
    {
     "data": {
      "text/plain": [
       "[1.1, 2.2, 1.3, 1.4, 2.5]"
      ]
     },
     "execution_count": 7,
     "metadata": {},
     "output_type": "execute_result"
    }
   ],
   "source": [
    "## Expressing Conditional Logic as Array Operations\n",
    "xarr = np.array([1.1, 1.2, 1.3, 1.4, 1.5])\n",
    "yarr = np.array([2.1, 2.2, 2.3, 2.4, 2.5])\n",
    "cond = np.array([True, False, True, True, False])\n",
    "\n",
    "'''\n",
    "我們想要從xarr當中拿取對應到cond的數值，假如是true的話就拿xarr的值，假如不是就拿取\n",
    "yarr的值。\n",
    "\n",
    "因此程式碼可能會長成以下這樣：\n",
    "'''\n",
    "result = [(x if c else y)\n",
    "for x, y, c in zip(xarr, yarr, cond)]\n",
    "\n",
    "result"
   ]
  },
  {
   "cell_type": "code",
   "execution_count": 8,
   "metadata": {
    "colab": {},
    "colab_type": "code",
    "id": "L6EsTBzoBzrg",
    "outputId": "b047f36e-bd85-40da-a8d7-2721a8d20b68"
   },
   "outputs": [
    {
     "data": {
      "text/plain": [
       "array([1.1, 2.2, 1.3, 1.4, 2.5])"
      ]
     },
     "execution_count": 8,
     "metadata": {},
     "output_type": "execute_result"
    }
   ],
   "source": [
    "'''\n",
    "這樣會有很多問題，第一，大型的矩陣會變得很難處理，第二，他沒有辦法在多維矩陣上實作。\n",
    "因此最好是採取以下用where的做法：\n",
    "'''\n",
    "result = np.where(cond, xarr, yarr) #(cond, true ,false)\n",
    "result\n"
   ]
  },
  {
   "cell_type": "code",
   "execution_count": 11,
   "metadata": {
    "colab": {},
    "colab_type": "code",
    "id": "c2GUVQ2yBzrj",
    "outputId": "f167c351-3bd8-445e-e9d6-137521f5af87"
   },
   "outputs": [
    {
     "data": {
      "text/plain": [
       "array([[ 0.83754854, -0.63296129, -0.25796296, -0.91603765],\n",
       "       [ 0.1618851 , -0.52736043, -1.67395726,  2.1882461 ],\n",
       "       [-0.31953723,  0.37701623, -1.54597462, -0.71290616],\n",
       "       [ 0.87125178,  0.17514004,  0.66145696, -0.46829192]])"
      ]
     },
     "execution_count": 11,
     "metadata": {},
     "output_type": "execute_result"
    }
   ],
   "source": [
    "arr = np.random.randn(4, 4)\n",
    "arr"
   ]
  },
  {
   "cell_type": "code",
   "execution_count": 12,
   "metadata": {
    "colab": {},
    "colab_type": "code",
    "id": "DLIYKgw2Bzrm",
    "outputId": "cb53001b-59b8-4a02-c4e4-2e5708c5282d"
   },
   "outputs": [
    {
     "data": {
      "text/plain": [
       "array([[ True, False, False, False],\n",
       "       [ True, False, False,  True],\n",
       "       [False,  True, False, False],\n",
       "       [ True,  True,  True, False]])"
      ]
     },
     "execution_count": 12,
     "metadata": {},
     "output_type": "execute_result"
    }
   ],
   "source": [
    "arr > 0"
   ]
  },
  {
   "cell_type": "code",
   "execution_count": 13,
   "metadata": {
    "colab": {},
    "colab_type": "code",
    "id": "h2L4TueXBzrq",
    "outputId": "eed50330-5ef4-4b59-d295-cf36d18965a2"
   },
   "outputs": [
    {
     "data": {
      "text/plain": [
       "array([[ 2, -2, -2, -2],\n",
       "       [ 2, -2, -2,  2],\n",
       "       [-2,  2, -2, -2],\n",
       "       [ 2,  2,  2, -2]])"
      ]
     },
     "execution_count": 13,
     "metadata": {},
     "output_type": "execute_result"
    }
   ],
   "source": [
    "np.where(arr > 0, 2, -2)     # 是就2不是就-2"
   ]
  },
  {
   "cell_type": "code",
   "execution_count": null,
   "metadata": {
    "colab": {},
    "colab_type": "code",
    "id": "TBs3qOxvBzrr",
    "outputId": "737821b1-79e0-40a1-e5fc-cb63995ffddc"
   },
   "outputs": [
    {
     "data": {
      "text/plain": [
       "array([[-1.13505566,  2.        , -0.29631794,  2.        ],\n",
       "       [ 2.        ,  2.        ,  2.        ,  2.        ],\n",
       "       [-2.65215667, -1.58350129,  2.        , -0.26021374],\n",
       "       [-1.51534183,  2.        , -0.26267913,  2.        ]])"
      ]
     },
     "execution_count": 32,
     "metadata": {
      "tags": []
     },
     "output_type": "execute_result"
    }
   ],
   "source": [
    "np.where(arr > 0, 2, arr) # set only positive values to 2"
   ]
  },
  {
   "cell_type": "code",
   "execution_count": 22,
   "metadata": {
    "colab": {},
    "colab_type": "code",
    "id": "cIvP2YwWBzrt",
    "outputId": "f3852e12-8b6c-4215-995d-3e7db647c510"
   },
   "outputs": [
    {
     "data": {
      "text/plain": [
       "array([[ 0.90016695,  0.90681492,  0.24370513,  0.83140277],\n",
       "       [ 0.67673282,  0.39566232, -1.68502354,  0.76604323],\n",
       "       [-0.15801631,  0.41165204, -0.11459015, -0.73119672],\n",
       "       [-1.29229694, -0.77121703,  0.18653171,  1.05446984],\n",
       "       [ 0.39667255,  0.20476571,  1.67729793,  0.73347634]])"
      ]
     },
     "execution_count": 22,
     "metadata": {},
     "output_type": "execute_result"
    }
   ],
   "source": [
    "## Mathematical and Statistical Methods 統計方法\n",
    "arr = np.random.randn(5, 4)\n",
    "arr"
   ]
  },
  {
   "cell_type": "code",
   "execution_count": 23,
   "metadata": {
    "colab": {},
    "colab_type": "code",
    "id": "4gm6hAAwBzrv",
    "outputId": "8b7a74d4-b7ab-4bce-f231-386b939749c6"
   },
   "outputs": [
    {
     "data": {
      "text/plain": [
       "0.23165267904276815"
      ]
     },
     "execution_count": 23,
     "metadata": {},
     "output_type": "execute_result"
    }
   ],
   "source": [
    "arr.mean()  # or np.mean(arr)"
   ]
  },
  {
   "cell_type": "code",
   "execution_count": 24,
   "metadata": {
    "colab": {},
    "colab_type": "code",
    "id": "aCeDHY6FBzry",
    "outputId": "20e6a776-3c01-474a-b4f7-e5201948a688"
   },
   "outputs": [
    {
     "data": {
      "text/plain": [
       "4.633053580855363"
      ]
     },
     "execution_count": 24,
     "metadata": {},
     "output_type": "execute_result"
    }
   ],
   "source": [
    "arr.sum()"
   ]
  },
  {
   "cell_type": "code",
   "execution_count": 36,
   "metadata": {
    "colab": {},
    "colab_type": "code",
    "id": "I_MORfe8Bzr0",
    "outputId": "2d868998-9874-4d29-bbf8-51632bf1507a"
   },
   "outputs": [
    {
     "data": {
      "text/plain": [
       "array([0.10465182, 0.22953559, 0.06158421, 0.53083909])"
      ]
     },
     "execution_count": 36,
     "metadata": {},
     "output_type": "execute_result"
    }
   ],
   "source": [
    "arr.mean(axis=0)     #sum等等 ,axis = 0 列平均, axis = 1 欄平均"
   ]
  },
  {
   "cell_type": "code",
   "execution_count": null,
   "metadata": {
    "colab": {},
    "colab_type": "code",
    "id": "f0WBVc3qBzr2",
    "outputId": "ee56079c-bbb3-4e3e-a622-4aa0d241b5f6"
   },
   "outputs": [
    {
     "data": {
      "text/plain": [
       "array([0, 1, 2, 3, 4, 5, 6, 7])"
      ]
     },
     "execution_count": 40,
     "metadata": {
      "tags": []
     },
     "output_type": "execute_result"
    }
   ],
   "source": [
    "arr = np.array([0, 1, 2, 3, 4, 5, 6, 7])\n",
    "arr"
   ]
  },
  {
   "cell_type": "code",
   "execution_count": null,
   "metadata": {
    "colab": {},
    "colab_type": "code",
    "id": "1lFaBdsABzr4",
    "outputId": "15d79473-fc16-463c-c632-e491394496be"
   },
   "outputs": [
    {
     "data": {
      "text/plain": [
       "array([ 0,  1,  3,  6, 10, 15, 21, 28])"
      ]
     },
     "execution_count": 41,
     "metadata": {
      "tags": []
     },
     "output_type": "execute_result"
    }
   ],
   "source": [
    "arr.cumsum()    # 累加"
   ]
  },
  {
   "cell_type": "code",
   "execution_count": null,
   "metadata": {
    "colab": {},
    "colab_type": "code",
    "id": "FNsRYcDFBzr6",
    "outputId": "73262f94-687a-4389-dc9d-c3f9c4a6beed"
   },
   "outputs": [
    {
     "data": {
      "text/plain": [
       "array([[0, 1, 2],\n",
       "       [3, 4, 5],\n",
       "       [6, 7, 8]])"
      ]
     },
     "execution_count": 43,
     "metadata": {
      "tags": []
     },
     "output_type": "execute_result"
    }
   ],
   "source": [
    "arr = np.array([[0, 1, 2], [3, 4, 5], [6, 7, 8]])\n",
    "arr"
   ]
  },
  {
   "cell_type": "code",
   "execution_count": null,
   "metadata": {
    "colab": {},
    "colab_type": "code",
    "id": "qqYkCzvKBzr_",
    "outputId": "662d5656-c63b-4c8c-b02b-19e09cc4afaa"
   },
   "outputs": [
    {
     "data": {
      "text/plain": [
       "array([[ 0,  1,  2],\n",
       "       [ 3,  5,  7],\n",
       "       [ 9, 12, 15]])"
      ]
     },
     "execution_count": 45,
     "metadata": {
      "tags": []
     },
     "output_type": "execute_result"
    }
   ],
   "source": [
    "arr.cumsum(axis = 0)   # 向下累加"
   ]
  },
  {
   "cell_type": "code",
   "execution_count": null,
   "metadata": {
    "colab": {},
    "colab_type": "code",
    "collapsed": true,
    "id": "5hOmOmalBzsB",
    "outputId": "13f527e3-2653-4946-9607-4b87289a358b"
   },
   "outputs": [
    {
     "data": {
      "text/plain": [
       "'\\n還有很多函示，請看ppt\\n'"
      ]
     },
     "execution_count": 46,
     "metadata": {
      "tags": []
     },
     "output_type": "execute_result"
    }
   ],
   "source": [
    "'''\n",
    "Table 4-5. Basic array statistical methods.\n",
    "還有很多函示，請看ppt\n",
    "'''"
   ]
  },
  {
   "cell_type": "code",
   "execution_count": null,
   "metadata": {
    "colab": {},
    "colab_type": "code",
    "id": "1mlQIAv5BzsD",
    "outputId": "c9dfe278-0a16-4d03-afc3-a2ca37d7376e"
   },
   "outputs": [
    {
     "data": {
      "text/plain": [
       "51"
      ]
     },
     "execution_count": 47,
     "metadata": {
      "tags": []
     },
     "output_type": "execute_result"
    }
   ],
   "source": [
    "## Methods for Boolean Arrays 用於布林型ndarray之方法\n",
    "arr = np.random.randn(100)\n",
    "(arr > 0).sum() # Number of positive values"
   ]
  },
  {
   "cell_type": "code",
   "execution_count": 3,
   "metadata": {
    "colab": {},
    "colab_type": "code",
    "id": "dtk0H4A-BzsH",
    "outputId": "d6c2d15a-0811-4cd8-d59e-04138022dc82"
   },
   "outputs": [
    {
     "data": {
      "text/plain": [
       "True"
      ]
     },
     "execution_count": 3,
     "metadata": {},
     "output_type": "execute_result"
    }
   ],
   "source": [
    "bools = np.array([False, False, True, False])\n",
    "bools.any()   # 只要一個有True就是True"
   ]
  },
  {
   "cell_type": "code",
   "execution_count": 4,
   "metadata": {
    "colab": {},
    "colab_type": "code",
    "id": "03to1aUXBzsJ",
    "outputId": "4865a719-29c3-40cc-c7c3-33e812ebc0c5"
   },
   "outputs": [
    {
     "data": {
      "text/plain": [
       "False"
      ]
     },
     "execution_count": 4,
     "metadata": {},
     "output_type": "execute_result"
    }
   ],
   "source": [
    "bools.all()   # 全部都是True才算True"
   ]
  },
  {
   "cell_type": "code",
   "execution_count": null,
   "metadata": {
    "colab": {},
    "colab_type": "code",
    "id": "YeHvm7zKBzsL",
    "outputId": "ca70022e-0775-4690-e10e-9cc2e51f180c"
   },
   "outputs": [
    {
     "data": {
      "text/plain": [
       "array([ 0.35333775,  1.37563253, -0.27557414,  0.1430982 ,  0.0676771 ,\n",
       "        2.09761517])"
      ]
     },
     "execution_count": 52,
     "metadata": {
      "tags": []
     },
     "output_type": "execute_result"
    }
   ],
   "source": [
    "## Sorting\n",
    "arr = np.random.randn(6)\n",
    "arr"
   ]
  },
  {
   "cell_type": "code",
   "execution_count": null,
   "metadata": {
    "colab": {},
    "colab_type": "code",
    "id": "dMkXvsEIBzsM",
    "outputId": "5b7fcd8a-a3f8-4fe6-f00e-3623b6de68fd"
   },
   "outputs": [
    {
     "data": {
      "text/plain": [
       "array([-0.27557414,  0.0676771 ,  0.1430982 ,  0.35333775,  1.37563253,\n",
       "        2.09761517])"
      ]
     },
     "execution_count": 54,
     "metadata": {
      "tags": []
     },
     "output_type": "execute_result"
    }
   ],
   "source": [
    "# 排序\n",
    "arr.sort()\n",
    "arr"
   ]
  },
  {
   "cell_type": "code",
   "execution_count": 11,
   "metadata": {
    "colab": {},
    "colab_type": "code",
    "id": "z-3-Yb2uBzsU",
    "outputId": "ae075b92-300d-42a8-ef95-fc6024c25797"
   },
   "outputs": [
    {
     "data": {
      "text/plain": [
       "array([[-0.9236019 , -1.01773346, -1.83879358],\n",
       "       [-0.54549886,  1.46150421,  0.65194782],\n",
       "       [-0.91079998,  0.31987121, -0.64548252],\n",
       "       [-0.43285683,  0.95634419, -1.4529996 ],\n",
       "       [ 1.18614586,  0.74875241,  0.4573911 ]])"
      ]
     },
     "execution_count": 11,
     "metadata": {},
     "output_type": "execute_result"
    }
   ],
   "source": [
    "arr = np.random.randn(5, 3)\n",
    "arr"
   ]
  },
  {
   "cell_type": "code",
   "execution_count": 12,
   "metadata": {
    "colab": {},
    "colab_type": "code",
    "id": "DIxULTGGBzsW",
    "outputId": "3112ec92-3b42-4525-c40d-a8772b0fbfb5"
   },
   "outputs": [
    {
     "data": {
      "text/plain": [
       "array([[-1.83879358, -1.01773346, -0.9236019 ],\n",
       "       [-0.54549886,  0.65194782,  1.46150421],\n",
       "       [-0.91079998, -0.64548252,  0.31987121],\n",
       "       [-1.4529996 , -0.43285683,  0.95634419],\n",
       "       [ 0.4573911 ,  0.74875241,  1.18614586]])"
      ]
     },
     "execution_count": 12,
     "metadata": {},
     "output_type": "execute_result"
    }
   ],
   "source": [
    "arr.sort(1)        # axis = 1\n",
    "arr"
   ]
  },
  {
   "cell_type": "code",
   "execution_count": null,
   "metadata": {
    "colab": {},
    "colab_type": "code",
    "id": "LhWuM3eBBzsY",
    "outputId": "793dd5e4-45f9-4a45-a27c-8c9ac3d33e6a"
   },
   "outputs": [
    {
     "data": {
      "text/plain": [
       "-1.5778257556100332"
      ]
     },
     "execution_count": 62,
     "metadata": {
      "tags": []
     },
     "output_type": "execute_result"
    }
   ],
   "source": [
    "large_arr = np.random.randn(1000)\n",
    "large_arr.sort()\n",
    "large_arr[int(0.05 * len(large_arr))] # 5% quantile 五分位數"
   ]
  },
  {
   "cell_type": "code",
   "execution_count": 29,
   "metadata": {
    "colab": {},
    "colab_type": "code",
    "id": "JYMhQuJbBzsa"
   },
   "outputs": [],
   "source": [
    "## Unique and Other Set Logic\n",
    "names = np.array(['Bob', 'Joe', 'Will', 'Bob', 'Will', 'Joe', 'Joe'])"
   ]
  },
  {
   "cell_type": "code",
   "execution_count": 27,
   "metadata": {
    "colab": {},
    "colab_type": "code",
    "id": "jZMqzMCEBzsb",
    "outputId": "468828ff-4ea0-44a6-e962-8628ba030ec6"
   },
   "outputs": [
    {
     "data": {
      "text/plain": [
       "array(['Bob', 'Joe', 'Will'], dtype='<U4')"
      ]
     },
     "execution_count": 27,
     "metadata": {},
     "output_type": "execute_result"
    }
   ],
   "source": [
    "# 沒有重複的叫出來，其他的如int什麼的也都可以\n",
    "np.unique(names)"
   ]
  },
  {
   "cell_type": "code",
   "execution_count": 30,
   "metadata": {
    "colab": {},
    "colab_type": "code",
    "id": "iFya1uh9Bzsc",
    "outputId": "36d05d4c-2fae-454d-cf89-dc1a839399d9"
   },
   "outputs": [
    {
     "data": {
      "text/plain": [
       "{'Bob', 'Joe', 'Will'}"
      ]
     },
     "execution_count": 30,
     "metadata": {},
     "output_type": "execute_result"
    }
   ],
   "source": [
    "# 用一般的python語法寫unique\n",
    "# set 沒有順序\n",
    "# set(names)\n",
    "sorted(set(names))"
   ]
  },
  {
   "cell_type": "code",
   "execution_count": 34,
   "metadata": {
    "colab": {},
    "colab_type": "code",
    "id": "MVFaZd-6Bzse",
    "outputId": "a68350da-a1e7-4c3a-b180-93892be84b98"
   },
   "outputs": [
    {
     "data": {
      "text/plain": [
       "array([ True,  True,  True, False,  True, False,  True])"
      ]
     },
     "execution_count": 34,
     "metadata": {},
     "output_type": "execute_result"
    }
   ],
   "source": [
    "# 找出[2,3,6]在哪\n",
    "values = np.array([6, 0, 0, 3, 2, 5, 6])\n",
    "np.in1d(values, [2,0,6])"
   ]
  },
  {
   "cell_type": "code",
   "execution_count": null,
   "metadata": {
    "colab": {},
    "colab_type": "code",
    "collapsed": true,
    "id": "qsUSHQdNBzsh",
    "outputId": "8fbb31ca-252c-4937-d473-b9353a7c6587"
   },
   "outputs": [
    {
     "data": {
      "text/plain": [
       "'\\n\\nOther Methods. (On PPT)\\nunique(x) intersect1d(x,y) union1d(x, y) in1d(x, y) setdiff1d(x, y) setxor1d(x, y)\\n\\n'"
      ]
     },
     "execution_count": 67,
     "metadata": {
      "tags": []
     },
     "output_type": "execute_result"
    }
   ],
   "source": [
    "'''\n",
    "\n",
    "Table 4-6. Array set operations.\n",
    "Other Methods. (On PPT)\n",
    "unique(x) intersect1d(x,y) union1d(x, y) in1d(x, y) setdiff1d(x, y) setxor1d(x, y)\n",
    "\n",
    "'''"
   ]
  },
  {
   "cell_type": "code",
   "execution_count": 9,
   "metadata": {
    "colab": {},
    "colab_type": "code",
    "id": "kN5c0uh8Bzsj"
   },
   "outputs": [
    {
     "data": {
      "text/plain": [
       "array([[[1., 1., 1.],\n",
       "        [1., 1., 1.],\n",
       "        [1., 1., 1.]],\n",
       "\n",
       "       [[1., 1., 1.],\n",
       "        [1., 1., 1.],\n",
       "        [1., 1., 1.]],\n",
       "\n",
       "       [[1., 1., 1.],\n",
       "        [1., 1., 1.],\n",
       "        [1., 1., 1.]]])"
      ]
     },
     "execution_count": 9,
     "metadata": {},
     "output_type": "execute_result"
    }
   ],
   "source": [
    "np.ones((3,3,3))"
   ]
  },
  {
   "cell_type": "code",
   "execution_count": 13,
   "metadata": {},
   "outputs": [
    {
     "name": "stdout",
     "output_type": "stream",
     "text": [
      "[[1. 1. 1.]\n",
      " [1. 1. 1.]]\n",
      "[0 1 2]\n"
     ]
    }
   ],
   "source": [
    "print(np.ones((2,3)))\n",
    "print(np.arange(3))"
   ]
  },
  {
   "cell_type": "code",
   "execution_count": 15,
   "metadata": {},
   "outputs": [
    {
     "data": {
      "text/plain": [
       "array([[0],\n",
       "       [1],\n",
       "       [2]])"
      ]
     },
     "execution_count": 15,
     "metadata": {},
     "output_type": "execute_result"
    }
   ],
   "source": [
    "np.arange(3).reshape((3,1))"
   ]
  },
  {
   "cell_type": "code",
   "execution_count": 20,
   "metadata": {},
   "outputs": [],
   "source": [
    "x = np.linspace(0, 5, 50)\n",
    "y = np.linspace(0, 5, 50)[:, np.newaxis]\n",
    "z = np.sin(x) ** 10 + np.cos(10 + y * x) * np.cos(x)"
   ]
  },
  {
   "cell_type": "code",
   "execution_count": 21,
   "metadata": {},
   "outputs": [
    {
     "data": {
      "text/plain": [
       "<matplotlib.colorbar.Colorbar at 0x268c6455eb8>"
      ]
     },
     "execution_count": 21,
     "metadata": {},
     "output_type": "execute_result"
    },
    {
     "data": {
      "image/png": "[encoded data removed]",
      "text/plain": [
       "<Figure size 432x288 with 2 Axes>"
      ]
     },
     "metadata": {
      "needs_background": "light"
     },
     "output_type": "display_data"
    }
   ],
   "source": [
    "%matplotlib inline\n",
    "import matplotlib.pyplot as plt\n",
    "plt.imshow(z, origin  = 'lower', extent = [0, 5, 0, 5], cmap = 'viridis')\n",
    "plt.colorbar()"
   ]
  }
 ],
 "metadata": {
  "colab": {
   "name": "4.3 Array-Oriented Programming with Arrays.ipynb",
   "provenance": [],
   "version": "0.3.2"
  },
  "kernelspec": {
   "display_name": "Python 3",
   "language": "python",
   "name": "python3"
  },
  "language_info": {
   "codemirror_mode": {
    "name": "ipython",
    "version": 3
   },
   "file_extension": ".py",
   "mimetype": "text/x-python",
   "name": "python",
   "nbconvert_exporter": "python",
   "pygments_lexer": "ipython3",
   "version": "3.7.0"
  }
 },
 "nbformat": 4,
 "nbformat_minor": 2
}
