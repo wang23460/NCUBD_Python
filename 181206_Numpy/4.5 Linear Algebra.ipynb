{
 "cells": [
  {
   "cell_type": "code",
   "execution_count": 4,
   "metadata": {},
   "outputs": [
    {
     "data": {
      "text/plain": [
       "array([[ 1.,  2.,  3.],\n",
       "       [ 4.,  5.,  6.]])"
      ]
     },
     "execution_count": 4,
     "metadata": {},
     "output_type": "execute_result"
    }
   ],
   "source": [
    "import numpy as np\n",
    "\n",
    "x = np.array([[1., 2., 3.], [4., 5., 6.]])\n",
    "y = np.array([[6., 23.], [-1, 7], [8, 9]])\n",
    "x"
   ]
  },
  {
   "cell_type": "code",
   "execution_count": 5,
   "metadata": {},
   "outputs": [
    {
     "data": {
      "text/plain": [
       "array([[  6.,  23.],\n",
       "       [ -1.,   7.],\n",
       "       [  8.,   9.]])"
      ]
     },
     "execution_count": 5,
     "metadata": {},
     "output_type": "execute_result"
    }
   ],
   "source": [
    "y"
   ]
  },
  {
   "cell_type": "code",
   "execution_count": 6,
   "metadata": {},
   "outputs": [
    {
     "data": {
      "text/plain": [
       "array([[  28.,   64.],\n",
       "       [  67.,  181.]])"
      ]
     },
     "execution_count": 6,
     "metadata": {},
     "output_type": "execute_result"
    }
   ],
   "source": [
    "x.dot(y)      # 相乘"
   ]
  },
  {
   "cell_type": "code",
   "execution_count": 7,
   "metadata": {},
   "outputs": [
    {
     "data": {
      "text/plain": [
       "array([  6.,  15.])"
      ]
     },
     "execution_count": 7,
     "metadata": {},
     "output_type": "execute_result"
    }
   ],
   "source": [
    "np.dot(x, np.ones(3))    # 與下方的是一樣的"
   ]
  },
  {
   "cell_type": "code",
   "execution_count": 8,
   "metadata": {},
   "outputs": [
    {
     "data": {
      "text/plain": [
       "array([  6.,  15.])"
      ]
     },
     "execution_count": 8,
     "metadata": {},
     "output_type": "execute_result"
    }
   ],
   "source": [
    "x @ np.ones(3)"
   ]
  },
  {
   "cell_type": "code",
   "execution_count": 27,
   "metadata": {},
   "outputs": [
    {
     "data": {
      "text/plain": [
       "array([[ 1.42881402,  0.51148297, -0.21155535, -0.91662981, -0.47618681],\n",
       "       [ 0.51148297,  0.61116314, -0.15260906, -0.39806062, -0.55793334],\n",
       "       [-0.21155535, -0.15260906,  0.42813367,  0.39843437, -0.12063054],\n",
       "       [-0.91662981, -0.39806062,  0.39843437,  1.10246483,  0.02939924],\n",
       "       [-0.47618681, -0.55793334, -0.12063054,  0.02939924,  1.11351972]])"
      ]
     },
     "execution_count": 27,
     "metadata": {},
     "output_type": "execute_result"
    }
   ],
   "source": [
    "# 線性代數耶！哇耶逼！自己看\n",
    "from numpy.linalg import inv, qr\n",
    "\n",
    "X = np.random.randn(5, 5)\n",
    "mat = X.T.dot(X)\n",
    "inv(mat)"
   ]
  },
  {
   "cell_type": "code",
   "execution_count": 28,
   "metadata": {},
   "outputs": [
    {
     "data": {
      "text/plain": [
       "array([[  1.00000000e+00,   1.41357942e-16,   3.67773824e-17,\n",
       "          1.19507202e-16,  -2.22044605e-16],\n",
       "       [  4.88007599e-16,   1.00000000e+00,   6.03148058e-17,\n",
       "          4.96933455e-16,   0.00000000e+00],\n",
       "       [ -2.95220662e-16,  -7.19683957e-17,   1.00000000e+00,\n",
       "          1.72135139e-16,   2.22044605e-16],\n",
       "       [  2.96135153e-16,   1.61695667e-16,  -1.27772884e-16,\n",
       "          1.00000000e+00,   0.00000000e+00],\n",
       "       [  2.22044605e-16,  -2.22044605e-16,   5.55111512e-17,\n",
       "          2.91433544e-16,   1.00000000e+00]])"
      ]
     },
     "execution_count": 28,
     "metadata": {},
     "output_type": "execute_result"
    }
   ],
   "source": [
    "mat.dot(inv(mat))"
   ]
  },
  {
   "cell_type": "code",
   "execution_count": 29,
   "metadata": {},
   "outputs": [
    {
     "data": {
      "text/plain": [
       "array([[-3.16276332, -2.49395962,  1.37695006, -4.54177528, -2.60615949],\n",
       "       [ 0.        , -6.33289384, -2.95122415, -1.12731101, -3.79051367],\n",
       "       [ 0.        ,  0.        , -3.57299938,  1.4442429 , -0.5209545 ],\n",
       "       [ 0.        ,  0.        ,  0.        , -0.68694097,  0.25880698],\n",
       "       [ 0.        ,  0.        ,  0.        ,  0.        ,  0.74672922]])"
      ]
     },
     "execution_count": 29,
     "metadata": {},
     "output_type": "execute_result"
    }
   ],
   "source": [
    "q, r = qr(mat)\n",
    "r"
   ]
  },
  {
   "cell_type": "code",
   "execution_count": null,
   "metadata": {},
   "outputs": [],
   "source": []
  }
 ],
 "metadata": {
  "kernelspec": {
   "display_name": "Python 3",
   "language": "python",
   "name": "python3"
  },
  "language_info": {
   "codemirror_mode": {
    "name": "ipython",
    "version": 3
   },
   "file_extension": ".py",
   "mimetype": "text/x-python",
   "name": "python",
   "nbconvert_exporter": "python",
   "pygments_lexer": "ipython3",
   "version": "3.7.0"
  }
 },
 "nbformat": 4,
 "nbformat_minor": 2
}
