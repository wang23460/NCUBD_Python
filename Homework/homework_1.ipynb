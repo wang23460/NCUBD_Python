{
 "cells": [
  {
   "cell_type": "code",
   "execution_count": 1,
   "metadata": {},
   "outputs": [],
   "source": [
    "import pandas as pd\n",
    "import numpy as np\n",
    "import datetime\n",
    "import glob"
   ]
  },
  {
   "cell_type": "markdown",
   "metadata": {},
   "source": [
    "#### **進站資料**"
   ]
  },
  {
   "cell_type": "code",
   "execution_count": 2,
   "metadata": {},
   "outputs": [],
   "source": [
    "files_in = glob.glob('MRTIN_*.csv')\n",
    "df = []\n",
    "for f in files_in:\n",
    "    df.append(pd.read_csv(f, encoding = 'big5', dtype = 'str'))\n",
    "df_in = pd.concat(df, ignore_index=True)\n",
    "df_in = df_in.dropna(how = 'all')\n",
    "mrt_in = df_in.columns.tolist()[2:]\n",
    "df_in[mrt_in] = df_in[mrt_in].apply(lambda x:x.str.replace(',','')).astype(float)\n",
    "df_in['星期'] = pd.to_datetime(df_in['日期']).dt.dayofweek+1\n",
    "# df_in['星期'] = df_in['日期'].dt.dayofweek+1\n",
    "df_in['月份'] = pd.to_datetime(df_in['日期']).apply(lambda x:x.month)\n",
    "del df_in['日期']\n",
    "df2_in = df_in.groupby(['月份', '星期', '時段']).sum()\n",
    "df2_in = df2_in.reset_index(level=0)\n",
    "df2_in.index = 'in ' + df2_in.index.map(str)"
   ]
  },
  {
   "cell_type": "markdown",
   "metadata": {},
   "source": [
    "#### **出站資料**"
   ]
  },
  {
   "cell_type": "code",
   "execution_count": 3,
   "metadata": {},
   "outputs": [],
   "source": [
    "files_out = glob.glob('MRTOUT_*.csv')\n",
    "df = []\n",
    "for f in files_out:\n",
    "    df.append(pd.read_csv(f, encoding = 'big5', dtype = 'str'))\n",
    "df_out = pd.concat(df, ignore_index=True)\n",
    "df_out = df_out.dropna(how = 'all')\n",
    "mrt_out = df_out.columns.tolist()[2:]\n",
    "df_out[mrt_out] = df_out[mrt_out].apply(lambda x:x.str.replace(',','')).astype(float)\n",
    "df_out['星期'] = pd.to_datetime(df_out['日期']).dt.dayofweek+1\n",
    "# df_out['星期'] = df_out['日期'].dt.dayofweek+1\n",
    "df_out['月份'] = pd.to_datetime(df_out['日期']).apply(lambda x:x.month)\n",
    "del df_out['日期']\n",
    "df2_out = df_out.groupby(['月份', '星期', '時段']).sum()\n",
    "df2_out = df2_out.reset_index(level=0)\n",
    "df2_out.index = 'out ' + df2_out.index.map(str)"
   ]
  },
  {
   "cell_type": "markdown",
   "metadata": {},
   "source": [
    "#### **合併**"
   ]
  },
  {
   "cell_type": "code",
   "execution_count": 4,
   "metadata": {},
   "outputs": [],
   "source": [
    "df_c = pd.concat([df2_in, df2_out])\n",
    "for i in range(1,13):\n",
    "    out_all = 'MRTALL_2016_' + str(i) +'.csv'\n",
    "    df_all = df_c.loc[df_c['月份'] == i, :]\n",
    "    del df_all['月份']\n",
    "    df_all = df_all.T\n",
    "    df_all.to_csv(out_all, encoding = 'big5')"
   ]
  }
 ],
 "metadata": {
  "kernelspec": {
   "display_name": "Python 3",
   "language": "python",
   "name": "python3"
  },
  "language_info": {
   "codemirror_mode": {
    "name": "ipython",
    "version": 3
   },
   "file_extension": ".py",
   "mimetype": "text/x-python",
   "name": "python",
   "nbconvert_exporter": "python",
   "pygments_lexer": "ipython3",
   "version": "3.7.0"
  }
 },
 "nbformat": 4,
 "nbformat_minor": 2
}
